{
  "cells": [
    {
      "cell_type": "markdown",
      "metadata": {
        "id": "view-in-github",
        "colab_type": "text"
      },
      "source": [
        "<a href=\"https://colab.research.google.com/github/sadra-barikbin/persian-sentiment-analysis-example/blob/main/sentiment-classification.ipynb\" target=\"_parent\"><img src=\"https://colab.research.google.com/assets/colab-badge.svg\" alt=\"Open In Colab\"/></a>"
      ]
    },
    {
      "cell_type": "markdown",
      "metadata": {
        "id": "IY0mx4pxnvWT"
      },
      "source": [
        "# Setup"
      ],
      "id": "IY0mx4pxnvWT"
    },
    {
      "cell_type": "code",
      "execution_count": 5,
      "metadata": {
        "id": "RTuTM0pgtjjp",
        "colab": {
          "base_uri": "https://localhost:8080/"
        },
        "outputId": "4d2fd707-5d8a-4902-985e-1f1cf72b4bc0"
      },
      "outputs": [
        {
          "output_type": "stream",
          "name": "stdout",
          "text": [
            "Requirement already satisfied: clean-text[gpl] in /usr/local/lib/python3.7/dist-packages (0.5.0)\n",
            "Requirement already satisfied: pytorch-ignite in /usr/local/lib/python3.7/dist-packages (0.4.7)\n",
            "Collecting transformers\n",
            "  Downloading transformers-4.15.0-py3-none-any.whl (3.4 MB)\n",
            "\u001b[K     |████████████████████████████████| 3.4 MB 9.0 MB/s \n",
            "\u001b[?25hRequirement already satisfied: torch<2,>=1.3 in /usr/local/lib/python3.7/dist-packages (from pytorch-ignite) (1.10.0+cu111)\n",
            "Requirement already satisfied: typing-extensions in /usr/local/lib/python3.7/dist-packages (from torch<2,>=1.3->pytorch-ignite) (3.10.0.2)\n",
            "Requirement already satisfied: numpy>=1.17 in /usr/local/lib/python3.7/dist-packages (from transformers) (1.19.5)\n",
            "Collecting huggingface-hub<1.0,>=0.1.0\n",
            "  Downloading huggingface_hub-0.2.1-py3-none-any.whl (61 kB)\n",
            "\u001b[K     |████████████████████████████████| 61 kB 407 kB/s \n",
            "\u001b[?25hRequirement already satisfied: importlib-metadata in /usr/local/lib/python3.7/dist-packages (from transformers) (4.8.2)\n",
            "Requirement already satisfied: requests in /usr/local/lib/python3.7/dist-packages (from transformers) (2.23.0)\n",
            "Collecting pyyaml>=5.1\n",
            "  Downloading PyYAML-6.0-cp37-cp37m-manylinux_2_5_x86_64.manylinux1_x86_64.manylinux_2_12_x86_64.manylinux2010_x86_64.whl (596 kB)\n",
            "\u001b[K     |████████████████████████████████| 596 kB 71.3 MB/s \n",
            "\u001b[?25hCollecting sacremoses\n",
            "  Downloading sacremoses-0.0.46-py3-none-any.whl (895 kB)\n",
            "\u001b[K     |████████████████████████████████| 895 kB 56.2 MB/s \n",
            "\u001b[?25hRequirement already satisfied: tqdm>=4.27 in /usr/local/lib/python3.7/dist-packages (from transformers) (4.62.3)\n",
            "Collecting tokenizers<0.11,>=0.10.1\n",
            "  Downloading tokenizers-0.10.3-cp37-cp37m-manylinux_2_5_x86_64.manylinux1_x86_64.manylinux_2_12_x86_64.manylinux2010_x86_64.whl (3.3 MB)\n",
            "\u001b[K     |████████████████████████████████| 3.3 MB 60.8 MB/s \n",
            "\u001b[?25hRequirement already satisfied: regex!=2019.12.17 in /usr/local/lib/python3.7/dist-packages (from transformers) (2019.12.20)\n",
            "Requirement already satisfied: packaging>=20.0 in /usr/local/lib/python3.7/dist-packages (from transformers) (21.3)\n",
            "Requirement already satisfied: filelock in /usr/local/lib/python3.7/dist-packages (from transformers) (3.4.0)\n",
            "Requirement already satisfied: pyparsing!=3.0.5,>=2.0.2 in /usr/local/lib/python3.7/dist-packages (from packaging>=20.0->transformers) (3.0.6)\n",
            "Requirement already satisfied: emoji in /usr/local/lib/python3.7/dist-packages (from clean-text[gpl]) (1.6.1)\n",
            "Requirement already satisfied: ftfy<7.0,>=6.0 in /usr/local/lib/python3.7/dist-packages (from clean-text[gpl]) (6.0.3)\n",
            "Requirement already satisfied: unidecode<2.0.0,>=1.1.1 in /usr/local/lib/python3.7/dist-packages (from clean-text[gpl]) (1.3.2)\n",
            "Requirement already satisfied: wcwidth in /usr/local/lib/python3.7/dist-packages (from ftfy<7.0,>=6.0->clean-text[gpl]) (0.2.5)\n",
            "Requirement already satisfied: zipp>=0.5 in /usr/local/lib/python3.7/dist-packages (from importlib-metadata->transformers) (3.6.0)\n",
            "Requirement already satisfied: urllib3!=1.25.0,!=1.25.1,<1.26,>=1.21.1 in /usr/local/lib/python3.7/dist-packages (from requests->transformers) (1.24.3)\n",
            "Requirement already satisfied: idna<3,>=2.5 in /usr/local/lib/python3.7/dist-packages (from requests->transformers) (2.10)\n",
            "Requirement already satisfied: chardet<4,>=3.0.2 in /usr/local/lib/python3.7/dist-packages (from requests->transformers) (3.0.4)\n",
            "Requirement already satisfied: certifi>=2017.4.17 in /usr/local/lib/python3.7/dist-packages (from requests->transformers) (2021.10.8)\n",
            "Requirement already satisfied: joblib in /usr/local/lib/python3.7/dist-packages (from sacremoses->transformers) (1.1.0)\n",
            "Requirement already satisfied: click in /usr/local/lib/python3.7/dist-packages (from sacremoses->transformers) (7.1.2)\n",
            "Requirement already satisfied: six in /usr/local/lib/python3.7/dist-packages (from sacremoses->transformers) (1.15.0)\n",
            "Installing collected packages: pyyaml, tokenizers, sacremoses, huggingface-hub, transformers\n",
            "  Attempting uninstall: pyyaml\n",
            "    Found existing installation: PyYAML 3.13\n",
            "    Uninstalling PyYAML-3.13:\n",
            "      Successfully uninstalled PyYAML-3.13\n",
            "Successfully installed huggingface-hub-0.2.1 pyyaml-6.0 sacremoses-0.0.46 tokenizers-0.10.3 transformers-4.15.0\n"
          ]
        }
      ],
      "source": [
        "!pip install clean-text[gpl] pytorch-ignite transformers"
      ],
      "id": "RTuTM0pgtjjp"
    },
    {
      "cell_type": "code",
      "execution_count": 3,
      "metadata": {
        "id": "naughty-milton"
      },
      "outputs": [],
      "source": [
        "import numpy as np\n",
        "import pandas as pd\n",
        "import cleantext\n",
        "from imblearn.over_sampling import RandomOverSampler"
      ],
      "id": "naughty-milton"
    },
    {
      "cell_type": "markdown",
      "metadata": {
        "id": "a18VhnUanxhq"
      },
      "source": [
        "# Loading & Preparing Data"
      ],
      "id": "a18VhnUanxhq"
    },
    {
      "cell_type": "code",
      "execution_count": 4,
      "metadata": {
        "id": "attached-chocolate",
        "colab": {
          "base_uri": "https://localhost:8080/"
        },
        "outputId": "c8acad12-f6a5-4823-d595-46c4595e76d3"
      },
      "outputs": [
        {
          "output_type": "stream",
          "name": "stdout",
          "text": [
            "Downloading...\n",
            "From: https://drive.google.com/uc?id=1HH8QFDcvkKfnj4dWmFQceb3PpNqDD8HQ&authuser=0&export=download\n",
            "To: /content/train.csv\n",
            "100% 171k/171k [00:00<00:00, 52.4MB/s]\n",
            "Downloading...\n",
            "From: https://drive.google.com/uc?id=1uDOO8RP7Lr9qcRJO8z3d10qm_UggJv4I&authuser=0&export=download\n",
            "To: /content/eval.csv\n",
            "100% 43.5k/43.5k [00:00<00:00, 12.6MB/s]\n"
          ]
        }
      ],
      "source": [
        "!gdown 'https://drive.google.com/uc?id=1HH8QFDcvkKfnj4dWmFQceb3PpNqDD8HQ&authuser=0&export=download'\n",
        "!gdown 'https://drive.google.com/uc?id=1uDOO8RP7Lr9qcRJO8z3d10qm_UggJv4I&authuser=0&export=download'"
      ],
      "id": "attached-chocolate"
    },
    {
      "cell_type": "code",
      "execution_count": 23,
      "metadata": {
        "id": "christian-number"
      },
      "outputs": [],
      "source": [
        "train_df = pd.read_csv('train.csv')\n",
        "eval_df = pd.read_csv('eval.csv')"
      ],
      "id": "christian-number"
    },
    {
      "cell_type": "code",
      "execution_count": 24,
      "metadata": {
        "colab": {
          "base_uri": "https://localhost:8080/",
          "height": 206
        },
        "id": "0Mcw7kGmoWyi",
        "outputId": "feaa566a-b41d-4c7e-aa22-3d3e5351aac5"
      },
      "outputs": [
        {
          "output_type": "execute_result",
          "data": {
            "text/html": [
              "\n",
              "  <div id=\"df-2136618d-0025-4eaa-8ab8-f20747cb43b3\">\n",
              "    <div class=\"colab-df-container\">\n",
              "      <div>\n",
              "<style scoped>\n",
              "    .dataframe tbody tr th:only-of-type {\n",
              "        vertical-align: middle;\n",
              "    }\n",
              "\n",
              "    .dataframe tbody tr th {\n",
              "        vertical-align: top;\n",
              "    }\n",
              "\n",
              "    .dataframe thead th {\n",
              "        text-align: right;\n",
              "    }\n",
              "</style>\n",
              "<table border=\"1\" class=\"dataframe\">\n",
              "  <thead>\n",
              "    <tr style=\"text-align: right;\">\n",
              "      <th></th>\n",
              "      <th>Unnamed: 0</th>\n",
              "      <th>comment</th>\n",
              "      <th>rate</th>\n",
              "    </tr>\n",
              "  </thead>\n",
              "  <tbody>\n",
              "    <tr>\n",
              "      <th>0</th>\n",
              "      <td>2587</td>\n",
              "      <td>پردازنده های Core i5 و Core i3 نیز ذاتا دو هست...</td>\n",
              "      <td>0.0</td>\n",
              "    </tr>\n",
              "    <tr>\n",
              "      <th>1</th>\n",
              "      <td>22591</td>\n",
              "      <td>سلام به دوستای عزیزم \\nعزاداری هاتون قبول باشه</td>\n",
              "      <td>1.0</td>\n",
              "    </tr>\n",
              "    <tr>\n",
              "      <th>2</th>\n",
              "      <td>141037</td>\n",
              "      <td>کلا پولتون رو دور نریزیزد</td>\n",
              "      <td>-1.0</td>\n",
              "    </tr>\n",
              "    <tr>\n",
              "      <th>3</th>\n",
              "      <td>58593</td>\n",
              "      <td>از صمیم قلب امیدوارم دایانا با کارن بمونه و پو...</td>\n",
              "      <td>1.0</td>\n",
              "    </tr>\n",
              "    <tr>\n",
              "      <th>4</th>\n",
              "      <td>5712</td>\n",
              "      <td>آنطور که اپل ادعا می کند آیپاد شافل دارای طراح...</td>\n",
              "      <td>1.0</td>\n",
              "    </tr>\n",
              "  </tbody>\n",
              "</table>\n",
              "</div>\n",
              "      <button class=\"colab-df-convert\" onclick=\"convertToInteractive('df-2136618d-0025-4eaa-8ab8-f20747cb43b3')\"\n",
              "              title=\"Convert this dataframe to an interactive table.\"\n",
              "              style=\"display:none;\">\n",
              "        \n",
              "  <svg xmlns=\"http://www.w3.org/2000/svg\" height=\"24px\"viewBox=\"0 0 24 24\"\n",
              "       width=\"24px\">\n",
              "    <path d=\"M0 0h24v24H0V0z\" fill=\"none\"/>\n",
              "    <path d=\"M18.56 5.44l.94 2.06.94-2.06 2.06-.94-2.06-.94-.94-2.06-.94 2.06-2.06.94zm-11 1L8.5 8.5l.94-2.06 2.06-.94-2.06-.94L8.5 2.5l-.94 2.06-2.06.94zm10 10l.94 2.06.94-2.06 2.06-.94-2.06-.94-.94-2.06-.94 2.06-2.06.94z\"/><path d=\"M17.41 7.96l-1.37-1.37c-.4-.4-.92-.59-1.43-.59-.52 0-1.04.2-1.43.59L10.3 9.45l-7.72 7.72c-.78.78-.78 2.05 0 2.83L4 21.41c.39.39.9.59 1.41.59.51 0 1.02-.2 1.41-.59l7.78-7.78 2.81-2.81c.8-.78.8-2.07 0-2.86zM5.41 20L4 18.59l7.72-7.72 1.47 1.35L5.41 20z\"/>\n",
              "  </svg>\n",
              "      </button>\n",
              "      \n",
              "  <style>\n",
              "    .colab-df-container {\n",
              "      display:flex;\n",
              "      flex-wrap:wrap;\n",
              "      gap: 12px;\n",
              "    }\n",
              "\n",
              "    .colab-df-convert {\n",
              "      background-color: #E8F0FE;\n",
              "      border: none;\n",
              "      border-radius: 50%;\n",
              "      cursor: pointer;\n",
              "      display: none;\n",
              "      fill: #1967D2;\n",
              "      height: 32px;\n",
              "      padding: 0 0 0 0;\n",
              "      width: 32px;\n",
              "    }\n",
              "\n",
              "    .colab-df-convert:hover {\n",
              "      background-color: #E2EBFA;\n",
              "      box-shadow: 0px 1px 2px rgba(60, 64, 67, 0.3), 0px 1px 3px 1px rgba(60, 64, 67, 0.15);\n",
              "      fill: #174EA6;\n",
              "    }\n",
              "\n",
              "    [theme=dark] .colab-df-convert {\n",
              "      background-color: #3B4455;\n",
              "      fill: #D2E3FC;\n",
              "    }\n",
              "\n",
              "    [theme=dark] .colab-df-convert:hover {\n",
              "      background-color: #434B5C;\n",
              "      box-shadow: 0px 1px 3px 1px rgba(0, 0, 0, 0.15);\n",
              "      filter: drop-shadow(0px 1px 2px rgba(0, 0, 0, 0.3));\n",
              "      fill: #FFFFFF;\n",
              "    }\n",
              "  </style>\n",
              "\n",
              "      <script>\n",
              "        const buttonEl =\n",
              "          document.querySelector('#df-2136618d-0025-4eaa-8ab8-f20747cb43b3 button.colab-df-convert');\n",
              "        buttonEl.style.display =\n",
              "          google.colab.kernel.accessAllowed ? 'block' : 'none';\n",
              "\n",
              "        async function convertToInteractive(key) {\n",
              "          const element = document.querySelector('#df-2136618d-0025-4eaa-8ab8-f20747cb43b3');\n",
              "          const dataTable =\n",
              "            await google.colab.kernel.invokeFunction('convertToInteractive',\n",
              "                                                     [key], {});\n",
              "          if (!dataTable) return;\n",
              "\n",
              "          const docLinkHtml = 'Like what you see? Visit the ' +\n",
              "            '<a target=\"_blank\" href=https://colab.research.google.com/notebooks/data_table.ipynb>data table notebook</a>'\n",
              "            + ' to learn more about interactive tables.';\n",
              "          element.innerHTML = '';\n",
              "          dataTable['output_type'] = 'display_data';\n",
              "          await google.colab.output.renderOutput(dataTable, element);\n",
              "          const docLink = document.createElement('div');\n",
              "          docLink.innerHTML = docLinkHtml;\n",
              "          element.appendChild(docLink);\n",
              "        }\n",
              "      </script>\n",
              "    </div>\n",
              "  </div>\n",
              "  "
            ],
            "text/plain": [
              "   Unnamed: 0                                            comment  rate\n",
              "0        2587  پردازنده های Core i5 و Core i3 نیز ذاتا دو هست...   0.0\n",
              "1       22591     سلام به دوستای عزیزم \\nعزاداری هاتون قبول باشه   1.0\n",
              "2      141037                          کلا پولتون رو دور نریزیزد  -1.0\n",
              "3       58593  از صمیم قلب امیدوارم دایانا با کارن بمونه و پو...   1.0\n",
              "4        5712  آنطور که اپل ادعا می کند آیپاد شافل دارای طراح...   1.0"
            ]
          },
          "metadata": {},
          "execution_count": 24
        }
      ],
      "source": [
        "train_df.head()"
      ],
      "id": "0Mcw7kGmoWyi"
    },
    {
      "cell_type": "code",
      "execution_count": 25,
      "metadata": {
        "colab": {
          "base_uri": "https://localhost:8080/",
          "height": 206
        },
        "id": "L4tBlfcToYmg",
        "outputId": "d77c3901-692e-4124-edac-ebd11c4ddf83"
      },
      "outputs": [
        {
          "output_type": "execute_result",
          "data": {
            "text/html": [
              "\n",
              "  <div id=\"df-b71b5cc9-a144-4657-9e3e-5da460e44876\">\n",
              "    <div class=\"colab-df-container\">\n",
              "      <div>\n",
              "<style scoped>\n",
              "    .dataframe tbody tr th:only-of-type {\n",
              "        vertical-align: middle;\n",
              "    }\n",
              "\n",
              "    .dataframe tbody tr th {\n",
              "        vertical-align: top;\n",
              "    }\n",
              "\n",
              "    .dataframe thead th {\n",
              "        text-align: right;\n",
              "    }\n",
              "</style>\n",
              "<table border=\"1\" class=\"dataframe\">\n",
              "  <thead>\n",
              "    <tr style=\"text-align: right;\">\n",
              "      <th></th>\n",
              "      <th>Unnamed: 0</th>\n",
              "      <th>comment</th>\n",
              "      <th>rate</th>\n",
              "    </tr>\n",
              "  </thead>\n",
              "  <tbody>\n",
              "    <tr>\n",
              "      <th>0</th>\n",
              "      <td>61591</td>\n",
              "      <td>کیفیت غذا و زمان رسیدن عالی بود</td>\n",
              "      <td>-1.0</td>\n",
              "    </tr>\n",
              "    <tr>\n",
              "      <th>1</th>\n",
              "      <td>50299</td>\n",
              "      <td>در‌ حد ساندویچ یه نفره بود نه دونفره یا بمب. ک...</td>\n",
              "      <td>1.0</td>\n",
              "    </tr>\n",
              "    <tr>\n",
              "      <th>2</th>\n",
              "      <td>2777</td>\n",
              "      <td>طعم پیتزای چهار فصل مثل همشه خیلی خوب بود اما ...</td>\n",
              "      <td>-1.0</td>\n",
              "    </tr>\n",
              "    <tr>\n",
              "      <th>3</th>\n",
              "      <td>9126</td>\n",
              "      <td>مشخصات سخت افزاری مناسب در کنار سیستم عامل وین...</td>\n",
              "      <td>0.5</td>\n",
              "    </tr>\n",
              "    <tr>\n",
              "      <th>4</th>\n",
              "      <td>7544</td>\n",
              "      <td>مرغش سوخاری و خوشمزه بود، بسته بندی عالی، قیمت...</td>\n",
              "      <td>-1.0</td>\n",
              "    </tr>\n",
              "  </tbody>\n",
              "</table>\n",
              "</div>\n",
              "      <button class=\"colab-df-convert\" onclick=\"convertToInteractive('df-b71b5cc9-a144-4657-9e3e-5da460e44876')\"\n",
              "              title=\"Convert this dataframe to an interactive table.\"\n",
              "              style=\"display:none;\">\n",
              "        \n",
              "  <svg xmlns=\"http://www.w3.org/2000/svg\" height=\"24px\"viewBox=\"0 0 24 24\"\n",
              "       width=\"24px\">\n",
              "    <path d=\"M0 0h24v24H0V0z\" fill=\"none\"/>\n",
              "    <path d=\"M18.56 5.44l.94 2.06.94-2.06 2.06-.94-2.06-.94-.94-2.06-.94 2.06-2.06.94zm-11 1L8.5 8.5l.94-2.06 2.06-.94-2.06-.94L8.5 2.5l-.94 2.06-2.06.94zm10 10l.94 2.06.94-2.06 2.06-.94-2.06-.94-.94-2.06-.94 2.06-2.06.94z\"/><path d=\"M17.41 7.96l-1.37-1.37c-.4-.4-.92-.59-1.43-.59-.52 0-1.04.2-1.43.59L10.3 9.45l-7.72 7.72c-.78.78-.78 2.05 0 2.83L4 21.41c.39.39.9.59 1.41.59.51 0 1.02-.2 1.41-.59l7.78-7.78 2.81-2.81c.8-.78.8-2.07 0-2.86zM5.41 20L4 18.59l7.72-7.72 1.47 1.35L5.41 20z\"/>\n",
              "  </svg>\n",
              "      </button>\n",
              "      \n",
              "  <style>\n",
              "    .colab-df-container {\n",
              "      display:flex;\n",
              "      flex-wrap:wrap;\n",
              "      gap: 12px;\n",
              "    }\n",
              "\n",
              "    .colab-df-convert {\n",
              "      background-color: #E8F0FE;\n",
              "      border: none;\n",
              "      border-radius: 50%;\n",
              "      cursor: pointer;\n",
              "      display: none;\n",
              "      fill: #1967D2;\n",
              "      height: 32px;\n",
              "      padding: 0 0 0 0;\n",
              "      width: 32px;\n",
              "    }\n",
              "\n",
              "    .colab-df-convert:hover {\n",
              "      background-color: #E2EBFA;\n",
              "      box-shadow: 0px 1px 2px rgba(60, 64, 67, 0.3), 0px 1px 3px 1px rgba(60, 64, 67, 0.15);\n",
              "      fill: #174EA6;\n",
              "    }\n",
              "\n",
              "    [theme=dark] .colab-df-convert {\n",
              "      background-color: #3B4455;\n",
              "      fill: #D2E3FC;\n",
              "    }\n",
              "\n",
              "    [theme=dark] .colab-df-convert:hover {\n",
              "      background-color: #434B5C;\n",
              "      box-shadow: 0px 1px 3px 1px rgba(0, 0, 0, 0.15);\n",
              "      filter: drop-shadow(0px 1px 2px rgba(0, 0, 0, 0.3));\n",
              "      fill: #FFFFFF;\n",
              "    }\n",
              "  </style>\n",
              "\n",
              "      <script>\n",
              "        const buttonEl =\n",
              "          document.querySelector('#df-b71b5cc9-a144-4657-9e3e-5da460e44876 button.colab-df-convert');\n",
              "        buttonEl.style.display =\n",
              "          google.colab.kernel.accessAllowed ? 'block' : 'none';\n",
              "\n",
              "        async function convertToInteractive(key) {\n",
              "          const element = document.querySelector('#df-b71b5cc9-a144-4657-9e3e-5da460e44876');\n",
              "          const dataTable =\n",
              "            await google.colab.kernel.invokeFunction('convertToInteractive',\n",
              "                                                     [key], {});\n",
              "          if (!dataTable) return;\n",
              "\n",
              "          const docLinkHtml = 'Like what you see? Visit the ' +\n",
              "            '<a target=\"_blank\" href=https://colab.research.google.com/notebooks/data_table.ipynb>data table notebook</a>'\n",
              "            + ' to learn more about interactive tables.';\n",
              "          element.innerHTML = '';\n",
              "          dataTable['output_type'] = 'display_data';\n",
              "          await google.colab.output.renderOutput(dataTable, element);\n",
              "          const docLink = document.createElement('div');\n",
              "          docLink.innerHTML = docLinkHtml;\n",
              "          element.appendChild(docLink);\n",
              "        }\n",
              "      </script>\n",
              "    </div>\n",
              "  </div>\n",
              "  "
            ],
            "text/plain": [
              "   Unnamed: 0                                            comment  rate\n",
              "0       61591                    کیفیت غذا و زمان رسیدن عالی بود  -1.0\n",
              "1       50299  در‌ حد ساندویچ یه نفره بود نه دونفره یا بمب. ک...   1.0\n",
              "2        2777  طعم پیتزای چهار فصل مثل همشه خیلی خوب بود اما ...  -1.0\n",
              "3        9126  مشخصات سخت افزاری مناسب در کنار سیستم عامل وین...   0.5\n",
              "4        7544  مرغش سوخاری و خوشمزه بود، بسته بندی عالی، قیمت...  -1.0"
            ]
          },
          "metadata": {},
          "execution_count": 25
        }
      ],
      "source": [
        "eval_df.head()"
      ],
      "id": "L4tBlfcToYmg"
    },
    {
      "cell_type": "code",
      "execution_count": 26,
      "metadata": {
        "id": "9hppW6kwoc9N"
      },
      "outputs": [],
      "source": [
        "train_df = train_df.drop(train_df.columns[0], axis=1)\n",
        "eval_df = eval_df.drop(eval_df.columns[0], axis=1)"
      ],
      "id": "9hppW6kwoc9N"
    },
    {
      "cell_type": "code",
      "execution_count": 27,
      "metadata": {
        "colab": {
          "base_uri": "https://localhost:8080/"
        },
        "id": "RIVevpfPonAK",
        "outputId": "32b20eb5-e79c-41ab-ebfa-83bfb4331f59"
      },
      "outputs": [
        {
          "output_type": "stream",
          "name": "stdout",
          "text": [
            "104 out of 800 train comments have rate zero.\n",
            "30 out of 200 eval comments have rate zero.\n"
          ]
        }
      ],
      "source": [
        "print(f\"{len(train_df[train_df.rate == 0])} out of {len(train_df)} train comments have rate zero.\")\n",
        "print(f\"{len(eval_df[eval_df.rate == 0])} out of {len(eval_df)} eval comments have rate zero.\")"
      ],
      "id": "RIVevpfPonAK"
    },
    {
      "cell_type": "code",
      "execution_count": 28,
      "metadata": {
        "id": "fN3mSVdDp656"
      },
      "outputs": [],
      "source": [
        "train_df = train_df[train_df.rate != 0]\n",
        "eval_df  = eval_df[eval_df.rate != 0]"
      ],
      "id": "fN3mSVdDp656"
    },
    {
      "cell_type": "code",
      "execution_count": 29,
      "metadata": {
        "id": "7QKtjCFpo9xI"
      },
      "outputs": [],
      "source": [
        "train_df['rate'] = train_df.rate.apply(lambda r: 1 if r > 0 else 0)\n",
        "eval_df['rate'] = eval_df.rate.apply(lambda r: 1 if r > 0 else 0)"
      ],
      "id": "7QKtjCFpo9xI"
    },
    {
      "cell_type": "markdown",
      "metadata": {
        "id": "6ppN5iFXqUqC"
      },
      "source": [
        "## Balancing Dataset\n",
        "As you can see below, data is imbalanced. We use over-sampling strategy on negative class to mitigate the problem."
      ],
      "id": "6ppN5iFXqUqC"
    },
    {
      "cell_type": "code",
      "execution_count": 30,
      "metadata": {
        "colab": {
          "base_uri": "https://localhost:8080/",
          "height": 112
        },
        "id": "7UcccdyZrvkJ",
        "outputId": "d9cd6151-2b9f-4559-9806-0b5dcc9463c1"
      },
      "outputs": [
        {
          "output_type": "execute_result",
          "data": {
            "text/html": [
              "\n",
              "  <div id=\"df-83b520a0-41b4-4e23-a9a6-e1e9da5e8368\">\n",
              "    <div class=\"colab-df-container\">\n",
              "      <div>\n",
              "<style scoped>\n",
              "    .dataframe tbody tr th:only-of-type {\n",
              "        vertical-align: middle;\n",
              "    }\n",
              "\n",
              "    .dataframe tbody tr th {\n",
              "        vertical-align: top;\n",
              "    }\n",
              "\n",
              "    .dataframe thead th {\n",
              "        text-align: right;\n",
              "    }\n",
              "</style>\n",
              "<table border=\"1\" class=\"dataframe\">\n",
              "  <thead>\n",
              "    <tr style=\"text-align: right;\">\n",
              "      <th></th>\n",
              "      <th>train</th>\n",
              "      <th>eval</th>\n",
              "    </tr>\n",
              "  </thead>\n",
              "  <tbody>\n",
              "    <tr>\n",
              "      <th>1</th>\n",
              "      <td>502</td>\n",
              "      <td>115</td>\n",
              "    </tr>\n",
              "    <tr>\n",
              "      <th>0</th>\n",
              "      <td>194</td>\n",
              "      <td>55</td>\n",
              "    </tr>\n",
              "  </tbody>\n",
              "</table>\n",
              "</div>\n",
              "      <button class=\"colab-df-convert\" onclick=\"convertToInteractive('df-83b520a0-41b4-4e23-a9a6-e1e9da5e8368')\"\n",
              "              title=\"Convert this dataframe to an interactive table.\"\n",
              "              style=\"display:none;\">\n",
              "        \n",
              "  <svg xmlns=\"http://www.w3.org/2000/svg\" height=\"24px\"viewBox=\"0 0 24 24\"\n",
              "       width=\"24px\">\n",
              "    <path d=\"M0 0h24v24H0V0z\" fill=\"none\"/>\n",
              "    <path d=\"M18.56 5.44l.94 2.06.94-2.06 2.06-.94-2.06-.94-.94-2.06-.94 2.06-2.06.94zm-11 1L8.5 8.5l.94-2.06 2.06-.94-2.06-.94L8.5 2.5l-.94 2.06-2.06.94zm10 10l.94 2.06.94-2.06 2.06-.94-2.06-.94-.94-2.06-.94 2.06-2.06.94z\"/><path d=\"M17.41 7.96l-1.37-1.37c-.4-.4-.92-.59-1.43-.59-.52 0-1.04.2-1.43.59L10.3 9.45l-7.72 7.72c-.78.78-.78 2.05 0 2.83L4 21.41c.39.39.9.59 1.41.59.51 0 1.02-.2 1.41-.59l7.78-7.78 2.81-2.81c.8-.78.8-2.07 0-2.86zM5.41 20L4 18.59l7.72-7.72 1.47 1.35L5.41 20z\"/>\n",
              "  </svg>\n",
              "      </button>\n",
              "      \n",
              "  <style>\n",
              "    .colab-df-container {\n",
              "      display:flex;\n",
              "      flex-wrap:wrap;\n",
              "      gap: 12px;\n",
              "    }\n",
              "\n",
              "    .colab-df-convert {\n",
              "      background-color: #E8F0FE;\n",
              "      border: none;\n",
              "      border-radius: 50%;\n",
              "      cursor: pointer;\n",
              "      display: none;\n",
              "      fill: #1967D2;\n",
              "      height: 32px;\n",
              "      padding: 0 0 0 0;\n",
              "      width: 32px;\n",
              "    }\n",
              "\n",
              "    .colab-df-convert:hover {\n",
              "      background-color: #E2EBFA;\n",
              "      box-shadow: 0px 1px 2px rgba(60, 64, 67, 0.3), 0px 1px 3px 1px rgba(60, 64, 67, 0.15);\n",
              "      fill: #174EA6;\n",
              "    }\n",
              "\n",
              "    [theme=dark] .colab-df-convert {\n",
              "      background-color: #3B4455;\n",
              "      fill: #D2E3FC;\n",
              "    }\n",
              "\n",
              "    [theme=dark] .colab-df-convert:hover {\n",
              "      background-color: #434B5C;\n",
              "      box-shadow: 0px 1px 3px 1px rgba(0, 0, 0, 0.15);\n",
              "      filter: drop-shadow(0px 1px 2px rgba(0, 0, 0, 0.3));\n",
              "      fill: #FFFFFF;\n",
              "    }\n",
              "  </style>\n",
              "\n",
              "      <script>\n",
              "        const buttonEl =\n",
              "          document.querySelector('#df-83b520a0-41b4-4e23-a9a6-e1e9da5e8368 button.colab-df-convert');\n",
              "        buttonEl.style.display =\n",
              "          google.colab.kernel.accessAllowed ? 'block' : 'none';\n",
              "\n",
              "        async function convertToInteractive(key) {\n",
              "          const element = document.querySelector('#df-83b520a0-41b4-4e23-a9a6-e1e9da5e8368');\n",
              "          const dataTable =\n",
              "            await google.colab.kernel.invokeFunction('convertToInteractive',\n",
              "                                                     [key], {});\n",
              "          if (!dataTable) return;\n",
              "\n",
              "          const docLinkHtml = 'Like what you see? Visit the ' +\n",
              "            '<a target=\"_blank\" href=https://colab.research.google.com/notebooks/data_table.ipynb>data table notebook</a>'\n",
              "            + ' to learn more about interactive tables.';\n",
              "          element.innerHTML = '';\n",
              "          dataTable['output_type'] = 'display_data';\n",
              "          await google.colab.output.renderOutput(dataTable, element);\n",
              "          const docLink = document.createElement('div');\n",
              "          docLink.innerHTML = docLinkHtml;\n",
              "          element.appendChild(docLink);\n",
              "        }\n",
              "      </script>\n",
              "    </div>\n",
              "  </div>\n",
              "  "
            ],
            "text/plain": [
              "   train  eval\n",
              "1    502   115\n",
              "0    194    55"
            ]
          },
          "metadata": {},
          "execution_count": 30
        }
      ],
      "source": [
        "pd.concat([train_df.rate.value_counts().rename('train'),\n",
        "           eval_df.rate.value_counts().rename('eval')], axis=1)"
      ],
      "id": "7UcccdyZrvkJ"
    },
    {
      "cell_type": "code",
      "execution_count": 31,
      "metadata": {
        "id": "Kawgs4h-q01l"
      },
      "outputs": [],
      "source": [
        "balancer = RandomOverSampler(random_state=41)\n",
        "train_df, _ = balancer.fit_resample(train_df, train_df.rate)\n",
        "eval_df, _ = balancer.fit_resample(eval_df, eval_df.rate)"
      ],
      "id": "Kawgs4h-q01l"
    },
    {
      "cell_type": "markdown",
      "metadata": {
        "id": "4_EwWGNEtZpE"
      },
      "source": [
        "## Normalization"
      ],
      "id": "4_EwWGNEtZpE"
    },
    {
      "cell_type": "code",
      "execution_count": 32,
      "metadata": {
        "id": "eCIhQtnNtcqC"
      },
      "outputs": [],
      "source": [
        "params = {'to_ascii':False, 'no_urls':True,    'no_phone_numbers':True, 'no_line_breaks':True,\n",
        "          'no_emails':True, 'no_numbers':True, 'no_digits':True,        'no_currency_symbols':True}\n",
        "\n",
        "train_df['comment'] = train_df.comment.apply(lambda c: cleantext.clean(c,**params))\n",
        "eval_df['comment'] = eval_df.comment.apply(lambda c: cleantext.clean(c,**params))"
      ],
      "id": "eCIhQtnNtcqC"
    },
    {
      "cell_type": "markdown",
      "metadata": {
        "id": "b2h0tSfFK3tU"
      },
      "source": [
        "## Vocabulary"
      ],
      "id": "b2h0tSfFK3tU"
    },
    {
      "cell_type": "code",
      "execution_count": 14,
      "metadata": {
        "colab": {
          "base_uri": "https://localhost:8080/",
          "height": 200
        },
        "id": "knqCK2waK3tU",
        "outputId": "8c99c0af-0c58-49a9-cd7e-18cbb038b256"
      },
      "outputs": [
        {
          "output_type": "error",
          "ename": "FileNotFoundError",
          "evalue": "ignored",
          "traceback": [
            "\u001b[0;31m---------------------------------------------------------------------------\u001b[0m",
            "\u001b[0;31mFileNotFoundError\u001b[0m                         Traceback (most recent call last)",
            "\u001b[0;32m<ipython-input-14-6898abc23abc>\u001b[0m in \u001b[0;36m<module>\u001b[0;34m()\u001b[0m\n\u001b[0;32m----> 1\u001b[0;31m \u001b[0;32mwith\u001b[0m \u001b[0mopen\u001b[0m\u001b[0;34m(\u001b[0m\u001b[0;34m\"vocab.txt\"\u001b[0m\u001b[0;34m)\u001b[0m \u001b[0;32mas\u001b[0m \u001b[0mfp\u001b[0m\u001b[0;34m:\u001b[0m\u001b[0;34m\u001b[0m\u001b[0;34m\u001b[0m\u001b[0m\n\u001b[0m\u001b[1;32m      2\u001b[0m     \u001b[0mwords\u001b[0m \u001b[0;34m=\u001b[0m \u001b[0mset\u001b[0m\u001b[0;34m(\u001b[0m\u001b[0;34m[\u001b[0m\u001b[0mw\u001b[0m\u001b[0;34m.\u001b[0m\u001b[0mstrip\u001b[0m\u001b[0;34m(\u001b[0m\u001b[0;34m)\u001b[0m \u001b[0;32mfor\u001b[0m \u001b[0mw\u001b[0m \u001b[0;32min\u001b[0m \u001b[0mfp\u001b[0m\u001b[0;34m.\u001b[0m\u001b[0mreadlines\u001b[0m\u001b[0;34m(\u001b[0m\u001b[0;34m)\u001b[0m\u001b[0;34m]\u001b[0m\u001b[0;34m)\u001b[0m\u001b[0;34m\u001b[0m\u001b[0;34m\u001b[0m\u001b[0m\n\u001b[1;32m      3\u001b[0m \u001b[0mlen\u001b[0m\u001b[0;34m(\u001b[0m\u001b[0mwords\u001b[0m\u001b[0;34m)\u001b[0m\u001b[0;34m\u001b[0m\u001b[0;34m\u001b[0m\u001b[0m\n",
            "\u001b[0;31mFileNotFoundError\u001b[0m: [Errno 2] No such file or directory: 'vocab.txt'"
          ]
        }
      ],
      "source": [
        "with open(\"vocab.txt\") as fp:\n",
        "    words = set([w.strip() for w in fp.readlines()])\n",
        "len(words)"
      ],
      "id": "knqCK2waK3tU"
    },
    {
      "cell_type": "code",
      "execution_count": null,
      "metadata": {
        "id": "UPov_cztK3tV"
      },
      "outputs": [],
      "source": [
        "from nltk.tokenize import word_tokenize\n",
        "\n",
        "for c in train_df['comment']:\n",
        "    words.update(word_tokenize(c))"
      ],
      "id": "UPov_cztK3tV"
    },
    {
      "cell_type": "code",
      "execution_count": null,
      "metadata": {
        "id": "ytN7rAQzK3tW"
      },
      "outputs": [],
      "source": [
        "vocab = sorted(words)"
      ],
      "id": "ytN7rAQzK3tW"
    },
    {
      "cell_type": "code",
      "execution_count": null,
      "metadata": {
        "id": "dsZp6d35K3tX"
      },
      "outputs": [],
      "source": [
        "with open('vocab.txt', 'w') as fw:\n",
        "    for w in vocab:\n",
        "        fw.write(w + '\\n')"
      ],
      "id": "dsZp6d35K3tX"
    },
    {
      "cell_type": "code",
      "execution_count": null,
      "metadata": {
        "id": "xoT4QodcK3tX",
        "outputId": "d963ae1e-6a3b-4639-942c-269fccfaff63"
      },
      "outputs": [
        {
          "data": {
            "text/plain": [
              "60273"
            ]
          },
          "execution_count": 114,
          "metadata": {},
          "output_type": "execute_result"
        }
      ],
      "source": [
        "len(vocab)"
      ],
      "id": "xoT4QodcK3tX"
    },
    {
      "cell_type": "markdown",
      "metadata": {
        "id": "xcU7TIPZ2pfG"
      },
      "source": [
        "# Method 1: Linear Models\n",
        "We make use of Logistic Regression and SVM as classifiers, and for vectorizing the comments, Tfidf is used."
      ],
      "id": "xcU7TIPZ2pfG"
    },
    {
      "cell_type": "markdown",
      "source": [
        "## Import Statements"
      ],
      "metadata": {
        "id": "-wF_v5IDV1Fa"
      },
      "id": "-wF_v5IDV1Fa"
    },
    {
      "cell_type": "code",
      "source": [
        "from sklearn.linear_model import LogisticRegression\n",
        "from sklearn.svm import LinearSVC\n",
        "from sklearn.feature_extraction.text import TfidfVectorizer\n",
        "from sklearn.pipeline import Pipeline\n",
        "from sklearn.feature_selection import SelectFromModel\n",
        "from sklearn.model_selection import GridSearchCV"
      ],
      "metadata": {
        "id": "5B-wwyiYV27Y"
      },
      "id": "5B-wwyiYV27Y",
      "execution_count": 19,
      "outputs": []
    },
    {
      "cell_type": "code",
      "execution_count": 33,
      "metadata": {
        "id": "v2_juBOy3xIW"
      },
      "outputs": [],
      "source": [
        "vectorizer = TfidfVectorizer(max_features=600, ngram_range=(1,3))"
      ],
      "id": "v2_juBOy3xIW"
    },
    {
      "cell_type": "code",
      "execution_count": 34,
      "metadata": {
        "colab": {
          "base_uri": "https://localhost:8080/"
        },
        "id": "XOPXtNPEww7e",
        "outputId": "74a5033e-220d-4054-b84d-3c3fb4b55990"
      },
      "outputs": [
        {
          "output_type": "execute_result",
          "data": {
            "text/plain": [
              "Pipeline(steps=[('embedding',\n",
              "                 TfidfVectorizer(max_features=600, ngram_range=(1, 3))),\n",
              "                ('classifier', LinearSVC())])"
            ]
          },
          "metadata": {},
          "execution_count": 34
        }
      ],
      "source": [
        "pipeline = Pipeline([('embedding', vectorizer),\n",
        "                     ('classifier', LinearSVC())])\n",
        "pipeline.fit(train_df.comment, train_df.rate)"
      ],
      "id": "XOPXtNPEww7e"
    },
    {
      "cell_type": "markdown",
      "metadata": {
        "id": "SHTNpGAl4LDP"
      },
      "source": [
        "## Hyper-parameter Tuning\n",
        "We search over different settings and find the best."
      ],
      "id": "SHTNpGAl4LDP"
    },
    {
      "cell_type": "code",
      "execution_count": null,
      "metadata": {
        "id": "6_XBYuBT4R0V"
      },
      "outputs": [],
      "source": [
        "param_grid = {'embedding__ngram_range': [(1,2),(1,3),(1,4)],\n",
        "              'embedding__max_features': range(100, 3000, 100),\n",
        "              'classifier': [LinearSVC(),LogisticRegression()]}"
      ],
      "id": "6_XBYuBT4R0V"
    },
    {
      "cell_type": "code",
      "execution_count": null,
      "metadata": {
        "colab": {
          "base_uri": "https://localhost:8080/"
        },
        "id": "3rnv3weP4-gP",
        "outputId": "401d7e20-e563-4453-85da-c8ef79e650f5"
      },
      "outputs": [
        {
          "name": "stdout",
          "output_type": "stream",
          "text": [
            "Fitting 1 folds for each of 174 candidates, totalling 174 fits\n"
          ]
        }
      ],
      "source": [
        "# The smelling code here is due to Scikit GridSearchCV's specific input for `cv` parameter.\n",
        "# GridSearchCV and other meta-estimators in Scikit accept whole data (train+eval) in their `fit`\n",
        "# method. So if you have a dataset separated in train and eval parts beforehand, you should\n",
        "# concatenate them. Beside that you have to give indices of train and eval parts as the `cv` parameter.\n",
        "\n",
        "train_eval = pd.concat((train_df, eval_df), ignore_index=True)\n",
        "train_eval_indices = [(train_df.index, eval_df.index + len(train_df))]\n",
        "meta_estimator = GridSearchCV(pipeline, param_grid, scoring=['accuracy', 'f1'],\n",
        "                              cv=train_eval_indices, refit='f1', verbose=1)\n",
        "_ = meta_estimator.fit(train_eval.comment, train_eval.rate)"
      ],
      "id": "3rnv3weP4-gP"
    },
    {
      "cell_type": "code",
      "execution_count": null,
      "metadata": {
        "colab": {
          "base_uri": "https://localhost:8080/"
        },
        "id": "IxJhaX4YDuhs",
        "outputId": "18a8ce1e-c9ba-4b52-842f-9483ef864047"
      },
      "outputs": [
        {
          "data": {
            "text/plain": [
              "{'classifier': LinearSVC(),\n",
              " 'embedding__max_features': 600,\n",
              " 'embedding__ngram_range': (1, 3)}"
            ]
          },
          "execution_count": 36,
          "metadata": {},
          "output_type": "execute_result"
        }
      ],
      "source": [
        "meta_estimator.best_params_"
      ],
      "id": "IxJhaX4YDuhs"
    },
    {
      "cell_type": "code",
      "execution_count": null,
      "metadata": {
        "colab": {
          "base_uri": "https://localhost:8080/"
        },
        "id": "VsTd-cnTD8SJ",
        "outputId": "46fb5bcf-c04b-4ef9-e58a-80c99c966eba"
      },
      "outputs": [
        {
          "name": "stdout",
          "output_type": "stream",
          "text": [
            "Best model F1: 0.7063197026022304\n"
          ]
        }
      ],
      "source": [
        "print(f\"Best model F1: {meta_estimator.best_score_}\")"
      ],
      "id": "VsTd-cnTD8SJ"
    },
    {
      "cell_type": "markdown",
      "metadata": {
        "id": "3obiJVnpEkbe"
      },
      "source": [
        "## Determining Marker Features"
      ],
      "id": "3obiJVnpEkbe"
    },
    {
      "cell_type": "code",
      "execution_count": null,
      "metadata": {
        "colab": {
          "base_uri": "https://localhost:8080/"
        },
        "id": "rSqPMgiBEn9H",
        "outputId": "4a0dcc2a-1e62-403f-84fc-4676ea80548f"
      },
      "outputs": [
        {
          "data": {
            "text/plain": [
              "array(['ارسال', 'اینکه', 'لک', 'معمولی', 'من خیلی', 'میدان', 'نيست',\n",
              "       'هم که', 'چندان', 'کاملا'], dtype=object)"
            ]
          },
          "execution_count": 43,
          "metadata": {},
          "output_type": "execute_result"
        }
      ],
      "source": [
        "selector = SelectFromModel(pipeline, threshold=-np.inf, max_features=10, prefit=True,\n",
        "                           importance_getter='named_steps.classifier.coef_')\n",
        "\n",
        "pipeline['embedding'].get_feature_names_out()[selector.get_support()]"
      ],
      "id": "rSqPMgiBEn9H"
    },
    {
      "cell_type": "markdown",
      "metadata": {
        "id": "IXg2hxaADT0m"
      },
      "source": [
        "# Method 2: Neural Networks"
      ],
      "id": "IXg2hxaADT0m"
    },
    {
      "cell_type": "code",
      "execution_count": null,
      "metadata": {
        "id": "MTb3Yk6_DY69"
      },
      "outputs": [],
      "source": [
        "import tensorflow as tf"
      ],
      "id": "MTb3Yk6_DY69"
    },
    {
      "cell_type": "code",
      "execution_count": null,
      "metadata": {
        "id": "l6sgCczBK3th"
      },
      "outputs": [],
      "source": [
        "EMBED_DIM = 200\n",
        "SEQ_LEN = 64\n",
        "VOCAB_SIZE = len(vocab)\n",
        "BATCH_SIZE = 20\n",
        "CLASS_NO = 2"
      ],
      "id": "l6sgCczBK3th"
    },
    {
      "cell_type": "code",
      "execution_count": null,
      "metadata": {
        "id": "5rBRgX7yK3ti"
      },
      "outputs": [],
      "source": [
        "train_ds = tf.data.Dataset.from_tensor_slices((train_df['comment'], train_df['rate'])).shuffle(buffer_size=len(train_df)).batch(BATCH_SIZE).prefetch(buffer_size=tf.data.AUTOTUNE)\n",
        "eval_ds = tf.data.Dataset.from_tensor_slices((eval_df['comment'], eval_df['rate'])).shuffle(buffer_size=len(eval_df)).batch(BATCH_SIZE).prefetch(buffer_size=tf.data.AUTOTUNE)"
      ],
      "id": "5rBRgX7yK3ti"
    },
    {
      "cell_type": "code",
      "execution_count": null,
      "metadata": {
        "id": "lo7PgJBDK3tj"
      },
      "outputs": [],
      "source": [
        "from tensorflow.keras.layers import TextVectorization, Embedding, Input, Dense, Bidirectional, LSTM\n",
        "from tensorflow.keras.models import Sequential\n",
        "\n",
        "def create_lstm_model(lstm_dim=64, dense_dim=16):\n",
        "    vectorizer = TextVectorization(vocabulary='vocab.txt',\n",
        "                                   output_mode='int', \n",
        "                                   output_sequence_length=SEQ_LEN)\n",
        "    return Sequential([\n",
        "        Input(shape=(1,), dtype=tf.string),\n",
        "        vectorizer,\n",
        "        Embedding(VOCAB_SIZE + 4, EMBED_DIM, name='embedding'),\n",
        "        Bidirectional(LSTM(lstm_dim)),\n",
        "        Dense(dense_dim, activation='relu'),\n",
        "        Dense(CLASS_NO, 'softmax')\n",
        "    ])"
      ],
      "id": "lo7PgJBDK3tj"
    },
    {
      "cell_type": "code",
      "execution_count": null,
      "metadata": {
        "id": "1n9KNNf0K3tk"
      },
      "outputs": [],
      "source": [
        "from keras import backend as K\n",
        "\n",
        "def recall_m(y_true, y_pred):\n",
        "    true_positives = K.sum(K.round(K.clip(y_true * y_pred, 0, 1)))\n",
        "    possible_positives = K.sum(K.round(K.clip(y_true, 0, 1)))\n",
        "    recall = true_positives / (possible_positives + K.epsilon())\n",
        "    return recall\n",
        "\n",
        "def precision_m(y_true, y_pred):\n",
        "    true_positives = K.sum(K.round(K.clip(y_true * y_pred, 0, 1)))\n",
        "    predicted_positives = K.sum(K.round(K.clip(y_pred, 0, 1)))\n",
        "    precision = true_positives / (predicted_positives + K.epsilon())\n",
        "    return precision\n",
        "\n",
        "def f1_m(y_true, y_pred):\n",
        "    precision = precision_m(y_true, y_pred)\n",
        "    recall = recall_m(y_true, y_pred)\n",
        "    return 2*((precision*recall)/(precision+recall+K.epsilon()))"
      ],
      "id": "1n9KNNf0K3tk"
    },
    {
      "cell_type": "code",
      "execution_count": null,
      "metadata": {
        "id": "MXfuCp_0K3tl"
      },
      "outputs": [],
      "source": [
        "model = create_lstm_model()\n",
        "model.compile(optimizer='adam', loss='sparse_categorical_crossentropy', metrics=['accuracy', f1_m])"
      ],
      "id": "MXfuCp_0K3tl"
    },
    {
      "cell_type": "code",
      "execution_count": null,
      "metadata": {
        "id": "NShPLmbSK3tm",
        "outputId": "2ee8edfb-4825-4b87-fd96-c97c568428d6"
      },
      "outputs": [
        {
          "data": {
            "text/plain": [
              "60275"
            ]
          },
          "execution_count": 25,
          "metadata": {},
          "output_type": "execute_result"
        }
      ],
      "source": [
        "len(model.layers[0].get_vocabulary())"
      ],
      "id": "NShPLmbSK3tm"
    },
    {
      "cell_type": "code",
      "execution_count": null,
      "metadata": {
        "id": "uE9dhHdQK3tn",
        "outputId": "504cfc71-c85c-4d40-93e8-720f18413455"
      },
      "outputs": [
        {
          "name": "stdout",
          "output_type": "stream",
          "text": [
            "Model: \"sequential\"\n",
            "_________________________________________________________________\n",
            " Layer (type)                Output Shape              Param #   \n",
            "=================================================================\n",
            " text_vectorization_1 (TextV  (None, 64)               0         \n",
            " ectorization)                                                   \n",
            "                                                                 \n",
            " embedding (Embedding)       (None, 64, 200)           12055000  \n",
            "                                                                 \n",
            " bidirectional (Bidirectiona  (None, 128)              135680    \n",
            " l)                                                              \n",
            "                                                                 \n",
            " dense (Dense)               (None, 16)                2064      \n",
            "                                                                 \n",
            " dense_1 (Dense)             (None, 2)                 34        \n",
            "                                                                 \n",
            "=================================================================\n",
            "Total params: 12,192,778\n",
            "Trainable params: 12,192,778\n",
            "Non-trainable params: 0\n",
            "_________________________________________________________________\n"
          ]
        }
      ],
      "source": [
        "model.summary()"
      ],
      "id": "uE9dhHdQK3tn"
    },
    {
      "cell_type": "code",
      "execution_count": null,
      "metadata": {
        "id": "CwKOfhNRK3tn"
      },
      "outputs": [],
      "source": [
        "from tensorflow.keras.callbacks import EarlyStopping\n",
        "\n",
        "es = EarlyStopping(monitor='val_accuracy', mode='max')"
      ],
      "id": "CwKOfhNRK3tn"
    },
    {
      "cell_type": "code",
      "execution_count": null,
      "metadata": {
        "id": "l2VYVMfIK3to",
        "outputId": "6a27023b-2ba4-4709-93aa-5ffa51906829"
      },
      "outputs": [
        {
          "name": "stdout",
          "output_type": "stream",
          "text": [
            "Epoch 1/10\n",
            "51/51 [==============================] - 14s 207ms/step - loss: 0.6790 - accuracy: 0.5916 - f1_m: 0.6463 - val_loss: 0.6745 - val_accuracy: 0.6000 - val_f1_m: 0.6604\n",
            "Epoch 2/10\n",
            "51/51 [==============================] - 10s 195ms/step - loss: 0.3515 - accuracy: 0.8855 - f1_m: 0.6558 - val_loss: 0.9430 - val_accuracy: 0.6130 - val_f1_m: 0.6616\n",
            "Epoch 3/10\n",
            "51/51 [==============================] - 10s 191ms/step - loss: 0.0733 - accuracy: 0.9801 - f1_m: 0.6623 - val_loss: 1.2968 - val_accuracy: 0.6130 - val_f1_m: 0.6530\n",
            "Epoch 4/10\n",
            "51/51 [==============================] - 10s 189ms/step - loss: 0.0254 - accuracy: 0.9920 - f1_m: 0.6569 - val_loss: 1.3554 - val_accuracy: 0.6261 - val_f1_m: 0.6655\n",
            "Epoch 5/10\n",
            "51/51 [==============================] - 10s 193ms/step - loss: 0.0131 - accuracy: 0.9960 - f1_m: 0.6586 - val_loss: 1.8099 - val_accuracy: 0.6304 - val_f1_m: 0.6607\n",
            "Epoch 6/10\n",
            "51/51 [==============================] - 10s 193ms/step - loss: 0.0112 - accuracy: 0.9960 - f1_m: 0.6631 - val_loss: 1.9341 - val_accuracy: 0.6348 - val_f1_m: 0.6638\n",
            "Epoch 7/10\n",
            "51/51 [==============================] - 10s 189ms/step - loss: 0.0090 - accuracy: 0.9960 - f1_m: 0.6503 - val_loss: 1.8458 - val_accuracy: 0.6261 - val_f1_m: 0.6607\n",
            "Epoch 8/10\n",
            "51/51 [==============================] - 10s 195ms/step - loss: 0.0069 - accuracy: 0.9970 - f1_m: 0.6540 - val_loss: 2.0690 - val_accuracy: 0.6348 - val_f1_m: 0.6407\n",
            "Epoch 9/10\n",
            "51/51 [==============================] - 10s 193ms/step - loss: 0.0060 - accuracy: 0.9970 - f1_m: 0.6564 - val_loss: 2.1402 - val_accuracy: 0.6348 - val_f1_m: 0.6535\n",
            "Epoch 10/10\n",
            "51/51 [==============================] - 10s 193ms/step - loss: 0.0082 - accuracy: 0.9980 - f1_m: 0.6613 - val_loss: 2.1468 - val_accuracy: 0.6304 - val_f1_m: 0.6595\n"
          ]
        },
        {
          "data": {
            "text/plain": [
              "<keras.callbacks.History at 0x7f45be82c5e0>"
            ]
          },
          "execution_count": 28,
          "metadata": {},
          "output_type": "execute_result"
        }
      ],
      "source": [
        "model.fit(train_ds, validation_data=eval_ds, epochs=10)"
      ],
      "id": "l2VYVMfIK3to"
    },
    {
      "cell_type": "markdown",
      "metadata": {
        "id": "w6iqEzrQDYG5"
      },
      "source": [
        "# Method 3: Pre-trained Language Models"
      ],
      "id": "w6iqEzrQDYG5"
    },
    {
      "cell_type": "markdown",
      "source": [
        "## Import Statements"
      ],
      "metadata": {
        "id": "a399vr5zVp4n"
      },
      "id": "a399vr5zVp4n"
    },
    {
      "cell_type": "code",
      "source": [
        "import torch\n",
        "from ignite.engine  import Events, create_supervised_evaluator, create_supervised_trainer\n",
        "from ignite.metrics import Accuracy, Loss, Fbeta\n",
        "from transformers   import BertModel, BertTokenizer\n",
        "from transformers.models.bert.modeling_bert import BertEncoder\n",
        "from torch.utils.data import Dataset, DataLoader\n",
        "from torch.optim import AdamW\n",
        "\n",
        "if torch.cuda.is_available():\n",
        "        DEVICE = \"cuda\""
      ],
      "metadata": {
        "id": "hKFtvkY1Vsq9"
      },
      "id": "hKFtvkY1Vsq9",
      "execution_count": 8,
      "outputs": []
    },
    {
      "cell_type": "markdown",
      "source": [
        "## Prepare PyTorch Dataset & Data Loader"
      ],
      "metadata": {
        "id": "qwI2JhT_P7g6"
      },
      "id": "qwI2JhT_P7g6"
    },
    {
      "cell_type": "code",
      "source": [
        "class SentimentDataset(Dataset):\n",
        "  def __init__(self,data_frame: pd.DataFrame):\n",
        "    self.data_frame = data_frame\n",
        "  def __len__(self):\n",
        "    return len(self.data_frame)\n",
        "  def __getitem__(self,idx):\n",
        "    item = self.data_frame.iloc[idx]\n",
        "    return item.comment, item.rate\n"
      ],
      "metadata": {
        "id": "eteIBPEIQPva"
      },
      "id": "eteIBPEIQPva",
      "execution_count": 20,
      "outputs": []
    },
    {
      "cell_type": "code",
      "execution_count": 26,
      "metadata": {
        "id": "8NG5EEcYELKN"
      },
      "outputs": [],
      "source": [
        "train_ds = SentimentDataset(train_df)\n",
        "eval_ds = SentimentDataset(eval_df)\n",
        "\n",
        "train_loader = DataLoader(train_ds, batch_size=train_batch_size, shuffle=True)\n",
        "eval_loader = DataLoader(eval_ds, batch_size=val_batch_size, shuffle=False)"
      ],
      "id": "8NG5EEcYELKN"
    },
    {
      "cell_type": "markdown",
      "source": [
        "## Define Model"
      ],
      "metadata": {
        "id": "ZQfyGGN0US6t"
      },
      "id": "ZQfyGGN0US6t"
    },
    {
      "cell_type": "code",
      "source": [
        "class SentimentClassifier(nn.Module):\n",
        "  def __init__(self):\n",
        "    self.bert = BertModel.from_pretrained('HooshvareLab/bert-fa-zwnj-base',\n",
        "                                          output_attentions=False,\n",
        "                                          add_pooling_layer=False)\n",
        "    self.cls = nn.ModuleList([nn.Linear(768,70), nn.ReLU(), nn.Flatten(1, -1),\n",
        "                              nn.AdaptiveMaxPool1d(20), nn.Linear(20, 1), nn.Tanh()])\n",
        "  def forward(self, input: Dict[str,Tensor]) -> Tensor:\n",
        "    embedding = self.bert(**input).last_hidden_state\n",
        "    immediate = embedding\n",
        "    for layer in self.cls:\n",
        "      immediate = layer(immediate)\n",
        "    return immediate.squeeze(dim=-1)"
      ],
      "metadata": {
        "id": "dafNeZjmUVgo"
      },
      "id": "dafNeZjmUVgo",
      "execution_count": null,
      "outputs": []
    },
    {
      "cell_type": "code",
      "source": [
        "model = SentimentClassifier().to(DEVICE)"
      ],
      "metadata": {
        "id": "dW8K7Ohub1Uv"
      },
      "id": "dW8K7Ohub1Uv",
      "execution_count": null,
      "outputs": []
    },
    {
      "cell_type": "markdown",
      "source": [
        "## Optimization Setup"
      ],
      "metadata": {
        "id": "s-4tMvQRcGcZ"
      },
      "id": "s-4tMvQRcGcZ"
    },
    {
      "cell_type": "code",
      "source": [
        "optimizer_parameter_groups = [\n",
        "  {'params': list(model.bert.parameters()),'lr': 1e-5},\n",
        "  {'params': list(model.cls.parameters()), 'lr': 1e-3}\n",
        "]\n",
        "optimizer = torch.optim.AdamW(optimizer_parameter_groups)\n",
        "criterion = nn.BCELoss()"
      ],
      "metadata": {
        "id": "JKfrdqpYcTGn"
      },
      "id": "JKfrdqpYcTGn",
      "execution_count": null,
      "outputs": []
    },
    {
      "cell_type": "markdown",
      "source": [
        "## Train & Evaluation"
      ],
      "metadata": {
        "id": "brMuLnlT0iHi"
      },
      "id": "brMuLnlT0iHi"
    },
    {
      "cell_type": "code",
      "source": [
        "trainer = create_supervised_trainer(model, optimizer, criterion, device=DEVICE)\n",
        "val_metrics = {\"accuracy\": Accuracy(), \"BCE\": Loss(criterion), 'F1': Fbeta(1)}\n",
        "evaluator = create_supervised_evaluator(model, metrics=val_metrics, device=device)"
      ],
      "metadata": {
        "id": "zWOD1uYg0BJc"
      },
      "id": "zWOD1uYg0BJc",
      "execution_count": null,
      "outputs": []
    },
    {
      "cell_type": "markdown",
      "source": [
        "# Final Evaluation"
      ],
      "metadata": {
        "id": "HPRUi-654_Y5"
      },
      "id": "HPRUi-654_Y5"
    },
    {
      "cell_type": "markdown",
      "source": [
        "## Import Statements"
      ],
      "metadata": {
        "id": "rjx-OuSM7XJN"
      },
      "id": "rjx-OuSM7XJN"
    },
    {
      "cell_type": "code",
      "source": [
        "from sklearn.metrics import ConfusionMatrixDisplay, f1_score, accuracy_score"
      ],
      "metadata": {
        "id": "UFVfUBhJ7Wxk"
      },
      "id": "UFVfUBhJ7Wxk",
      "execution_count": 55,
      "outputs": []
    },
    {
      "cell_type": "markdown",
      "source": [
        "## Test data preparation"
      ],
      "metadata": {
        "id": "sBLJ2GYY5zmo"
      },
      "id": "sBLJ2GYY5zmo"
    },
    {
      "cell_type": "code",
      "source": [
        "!gdown 'https://drive.google.com/uc?id=1nXjaHjsGDbaPyxQX5-y7D-hfgl6tcomC&authuser=0&export=download'"
      ],
      "metadata": {
        "id": "zCO3053V5Ceo",
        "outputId": "688cbcb9-f0cf-4535-8e1a-a91167c1f296",
        "colab": {
          "base_uri": "https://localhost:8080/"
        }
      },
      "id": "zCO3053V5Ceo",
      "execution_count": 9,
      "outputs": [
        {
          "output_type": "stream",
          "name": "stdout",
          "text": [
            "Downloading...\n",
            "From: https://drive.google.com/uc?id=1nXjaHjsGDbaPyxQX5-y7D-hfgl6tcomC&authuser=0&export=download\n",
            "To: /content/test.csv\n",
            "\r  0% 0.00/37.6k [00:00<?, ?B/s]\r100% 37.6k/37.6k [00:00<00:00, 18.7MB/s]\n"
          ]
        }
      ]
    },
    {
      "cell_type": "code",
      "source": [
        "test_df = pd.read_csv('test.csv')"
      ],
      "metadata": {
        "id": "izKEqKpr5Ieh"
      },
      "id": "izKEqKpr5Ieh",
      "execution_count": 10,
      "outputs": []
    },
    {
      "cell_type": "code",
      "source": [
        "test_df.head()"
      ],
      "metadata": {
        "id": "jo3pMCAV5NQg",
        "outputId": "1eec6f40-50cc-4203-8523-64de9d4e7477",
        "colab": {
          "base_uri": "https://localhost:8080/",
          "height": 206
        }
      },
      "id": "jo3pMCAV5NQg",
      "execution_count": 11,
      "outputs": [
        {
          "output_type": "execute_result",
          "data": {
            "text/html": [
              "\n",
              "  <div id=\"df-9c48bfd3-6db1-4384-bc41-73e583ec2d1a\">\n",
              "    <div class=\"colab-df-container\">\n",
              "      <div>\n",
              "<style scoped>\n",
              "    .dataframe tbody tr th:only-of-type {\n",
              "        vertical-align: middle;\n",
              "    }\n",
              "\n",
              "    .dataframe tbody tr th {\n",
              "        vertical-align: top;\n",
              "    }\n",
              "\n",
              "    .dataframe thead th {\n",
              "        text-align: right;\n",
              "    }\n",
              "</style>\n",
              "<table border=\"1\" class=\"dataframe\">\n",
              "  <thead>\n",
              "    <tr style=\"text-align: right;\">\n",
              "      <th></th>\n",
              "      <th>Unnamed: 0</th>\n",
              "      <th>comment</th>\n",
              "      <th>rate</th>\n",
              "    </tr>\n",
              "  </thead>\n",
              "  <tbody>\n",
              "    <tr>\n",
              "      <th>0</th>\n",
              "      <td>1980</td>\n",
              "      <td>IXY فقط زبان ژاپني انگليسي داره</td>\n",
              "      <td>0.0</td>\n",
              "    </tr>\n",
              "    <tr>\n",
              "      <th>1</th>\n",
              "      <td>55810</td>\n",
              "      <td>به نظر من کسی بدون شنیدن یه حرف نمیتونی در اون...</td>\n",
              "      <td>1.0</td>\n",
              "    </tr>\n",
              "    <tr>\n",
              "      <th>2</th>\n",
              "      <td>29718</td>\n",
              "      <td>تو وصف این داستان زیبا مثل های شیوای فارسی زیا...</td>\n",
              "      <td>1.0</td>\n",
              "    </tr>\n",
              "    <tr>\n",
              "      <th>3</th>\n",
              "      <td>48815</td>\n",
              "      <td>بسیارعالی برای خشکی پوست</td>\n",
              "      <td>1.0</td>\n",
              "    </tr>\n",
              "    <tr>\n",
              "      <th>4</th>\n",
              "      <td>6133</td>\n",
              "      <td>البته متاسفانه ابن قابلیت در مورد تمامی برنامه...</td>\n",
              "      <td>-0.5</td>\n",
              "    </tr>\n",
              "  </tbody>\n",
              "</table>\n",
              "</div>\n",
              "      <button class=\"colab-df-convert\" onclick=\"convertToInteractive('df-9c48bfd3-6db1-4384-bc41-73e583ec2d1a')\"\n",
              "              title=\"Convert this dataframe to an interactive table.\"\n",
              "              style=\"display:none;\">\n",
              "        \n",
              "  <svg xmlns=\"http://www.w3.org/2000/svg\" height=\"24px\"viewBox=\"0 0 24 24\"\n",
              "       width=\"24px\">\n",
              "    <path d=\"M0 0h24v24H0V0z\" fill=\"none\"/>\n",
              "    <path d=\"M18.56 5.44l.94 2.06.94-2.06 2.06-.94-2.06-.94-.94-2.06-.94 2.06-2.06.94zm-11 1L8.5 8.5l.94-2.06 2.06-.94-2.06-.94L8.5 2.5l-.94 2.06-2.06.94zm10 10l.94 2.06.94-2.06 2.06-.94-2.06-.94-.94-2.06-.94 2.06-2.06.94z\"/><path d=\"M17.41 7.96l-1.37-1.37c-.4-.4-.92-.59-1.43-.59-.52 0-1.04.2-1.43.59L10.3 9.45l-7.72 7.72c-.78.78-.78 2.05 0 2.83L4 21.41c.39.39.9.59 1.41.59.51 0 1.02-.2 1.41-.59l7.78-7.78 2.81-2.81c.8-.78.8-2.07 0-2.86zM5.41 20L4 18.59l7.72-7.72 1.47 1.35L5.41 20z\"/>\n",
              "  </svg>\n",
              "      </button>\n",
              "      \n",
              "  <style>\n",
              "    .colab-df-container {\n",
              "      display:flex;\n",
              "      flex-wrap:wrap;\n",
              "      gap: 12px;\n",
              "    }\n",
              "\n",
              "    .colab-df-convert {\n",
              "      background-color: #E8F0FE;\n",
              "      border: none;\n",
              "      border-radius: 50%;\n",
              "      cursor: pointer;\n",
              "      display: none;\n",
              "      fill: #1967D2;\n",
              "      height: 32px;\n",
              "      padding: 0 0 0 0;\n",
              "      width: 32px;\n",
              "    }\n",
              "\n",
              "    .colab-df-convert:hover {\n",
              "      background-color: #E2EBFA;\n",
              "      box-shadow: 0px 1px 2px rgba(60, 64, 67, 0.3), 0px 1px 3px 1px rgba(60, 64, 67, 0.15);\n",
              "      fill: #174EA6;\n",
              "    }\n",
              "\n",
              "    [theme=dark] .colab-df-convert {\n",
              "      background-color: #3B4455;\n",
              "      fill: #D2E3FC;\n",
              "    }\n",
              "\n",
              "    [theme=dark] .colab-df-convert:hover {\n",
              "      background-color: #434B5C;\n",
              "      box-shadow: 0px 1px 3px 1px rgba(0, 0, 0, 0.15);\n",
              "      filter: drop-shadow(0px 1px 2px rgba(0, 0, 0, 0.3));\n",
              "      fill: #FFFFFF;\n",
              "    }\n",
              "  </style>\n",
              "\n",
              "      <script>\n",
              "        const buttonEl =\n",
              "          document.querySelector('#df-9c48bfd3-6db1-4384-bc41-73e583ec2d1a button.colab-df-convert');\n",
              "        buttonEl.style.display =\n",
              "          google.colab.kernel.accessAllowed ? 'block' : 'none';\n",
              "\n",
              "        async function convertToInteractive(key) {\n",
              "          const element = document.querySelector('#df-9c48bfd3-6db1-4384-bc41-73e583ec2d1a');\n",
              "          const dataTable =\n",
              "            await google.colab.kernel.invokeFunction('convertToInteractive',\n",
              "                                                     [key], {});\n",
              "          if (!dataTable) return;\n",
              "\n",
              "          const docLinkHtml = 'Like what you see? Visit the ' +\n",
              "            '<a target=\"_blank\" href=https://colab.research.google.com/notebooks/data_table.ipynb>data table notebook</a>'\n",
              "            + ' to learn more about interactive tables.';\n",
              "          element.innerHTML = '';\n",
              "          dataTable['output_type'] = 'display_data';\n",
              "          await google.colab.output.renderOutput(dataTable, element);\n",
              "          const docLink = document.createElement('div');\n",
              "          docLink.innerHTML = docLinkHtml;\n",
              "          element.appendChild(docLink);\n",
              "        }\n",
              "      </script>\n",
              "    </div>\n",
              "  </div>\n",
              "  "
            ],
            "text/plain": [
              "   Unnamed: 0                                            comment  rate\n",
              "0        1980                    IXY فقط زبان ژاپني انگليسي داره   0.0\n",
              "1       55810  به نظر من کسی بدون شنیدن یه حرف نمیتونی در اون...   1.0\n",
              "2       29718  تو وصف این داستان زیبا مثل های شیوای فارسی زیا...   1.0\n",
              "3       48815                           بسیارعالی برای خشکی پوست   1.0\n",
              "4        6133  البته متاسفانه ابن قابلیت در مورد تمامی برنامه...  -0.5"
            ]
          },
          "metadata": {},
          "execution_count": 11
        }
      ]
    },
    {
      "cell_type": "code",
      "source": [
        "test_df = test_df.drop(test_df.columns[0], axis=1)"
      ],
      "metadata": {
        "id": "8vbdprTa5QeK"
      },
      "id": "8vbdprTa5QeK",
      "execution_count": 13,
      "outputs": []
    },
    {
      "cell_type": "code",
      "execution_count": 14,
      "metadata": {
        "colab": {
          "base_uri": "https://localhost:8080/"
        },
        "outputId": "911a043f-7bae-4a43-9cf6-dfb9c9a49566",
        "id": "lO8ov9gm5jIR"
      },
      "outputs": [
        {
          "output_type": "stream",
          "name": "stdout",
          "text": [
            "22 out of 170 test comments have rate zero.\n"
          ]
        }
      ],
      "source": [
        "print(f\"{len(test_df[test_df.rate == 0])} out of {len(test_df)} test comments have rate zero.\")"
      ],
      "id": "lO8ov9gm5jIR"
    },
    {
      "cell_type": "code",
      "execution_count": 15,
      "metadata": {
        "id": "CD04rRQW5jIb"
      },
      "outputs": [],
      "source": [
        "test_df = test_df[test_df.rate != 0]"
      ],
      "id": "CD04rRQW5jIb"
    },
    {
      "cell_type": "code",
      "execution_count": 16,
      "metadata": {
        "id": "lxOENsPC5jIb"
      },
      "outputs": [],
      "source": [
        "test_df['rate'] = test_df.rate.apply(lambda r: 1 if r > 0 else 0)"
      ],
      "id": "lxOENsPC5jIb"
    },
    {
      "cell_type": "markdown",
      "source": [
        "## Normalize Test data"
      ],
      "metadata": {
        "id": "g3CVOJaf58uo"
      },
      "id": "g3CVOJaf58uo"
    },
    {
      "cell_type": "code",
      "source": [
        "params = {'to_ascii':False, 'no_urls':True,    'no_phone_numbers':True, 'no_line_breaks':True,\n",
        "          'no_emails':True, 'no_numbers':True, 'no_digits':True,        'no_currency_symbols':True}\n",
        "\n",
        "test_df['comment'] = test_df.comment.apply(lambda c: cleantext.clean(c,**params))"
      ],
      "metadata": {
        "id": "pIrDuREZ5-9r"
      },
      "id": "pIrDuREZ5-9r",
      "execution_count": 17,
      "outputs": []
    },
    {
      "cell_type": "markdown",
      "source": [
        "## Evaluate"
      ],
      "metadata": {
        "id": "mCSUGEkS6P_Q"
      },
      "id": "mCSUGEkS6P_Q"
    },
    {
      "cell_type": "markdown",
      "source": [
        "### Method 1"
      ],
      "metadata": {
        "id": "IagGFAWL6L1T"
      },
      "id": "IagGFAWL6L1T"
    },
    {
      "cell_type": "code",
      "source": [
        "predictions = pipeline.predict(test_df.comment)"
      ],
      "metadata": {
        "id": "0rcfp-8Q6F8r"
      },
      "id": "0rcfp-8Q6F8r",
      "execution_count": 35,
      "outputs": []
    },
    {
      "cell_type": "code",
      "source": [
        "print(f'Accuracy : {accuracy_score(test_df.rate, predictions)}')\n",
        "print(f'F1 score : {f1_score(test_df.rate, predictions)}')"
      ],
      "metadata": {
        "id": "UHVKar7X9nhM",
        "outputId": "41bbfc4b-f7e0-43fd-9b6e-782747064534",
        "colab": {
          "base_uri": "https://localhost:8080/"
        }
      },
      "id": "UHVKar7X9nhM",
      "execution_count": 56,
      "outputs": [
        {
          "output_type": "stream",
          "name": "stdout",
          "text": [
            "Accuracy : 0.7094594594594594\n",
            "F1 score : 0.7860696517412935\n"
          ]
        }
      ]
    },
    {
      "cell_type": "code",
      "source": [
        "ConfusionMatrixDisplay.from_predictions(test_df.rate, predictions)"
      ],
      "metadata": {
        "id": "eLlvk5_u7Tzz",
        "outputId": "984433ee-7980-41f8-aa32-80ea3aab77ee",
        "colab": {
          "base_uri": "https://localhost:8080/",
          "height": 296
        }
      },
      "id": "eLlvk5_u7Tzz",
      "execution_count": 53,
      "outputs": [
        {
          "output_type": "execute_result",
          "data": {
            "text/plain": [
              "<sklearn.metrics._plot.confusion_matrix.ConfusionMatrixDisplay at 0x7f288d6a3950>"
            ]
          },
          "metadata": {},
          "execution_count": 53
        },
        {
          "output_type": "display_data",
          "data": {
            "image/png": "[encoded data removed]",
            "text/plain": [
              "<Figure size 432x288 with 2 Axes>"
            ]
          },
          "metadata": {
            "needs_background": "light"
          }
        }
      ]
    },
    {
      "cell_type": "markdown",
      "source": [
        "### Method 2"
      ],
      "metadata": {
        "id": "NWOeFBtm98XH"
      },
      "id": "NWOeFBtm98XH"
    },
    {
      "cell_type": "code",
      "source": [
        ""
      ],
      "metadata": {
        "id": "PLbVmdzr9-zG"
      },
      "id": "PLbVmdzr9-zG",
      "execution_count": null,
      "outputs": []
    },
    {
      "cell_type": "markdown",
      "source": [
        "### Method 3"
      ],
      "metadata": {
        "id": "r1mwc69g9_L1"
      },
      "id": "r1mwc69g9_L1"
    },
    {
      "cell_type": "code",
      "source": [
        ""
      ],
      "metadata": {
        "id": "wlIf96Na-E3J"
      },
      "id": "wlIf96Na-E3J",
      "execution_count": null,
      "outputs": []
    }
  ],
  "metadata": {
    "colab": {
      "name": "sentiment-classification.ipynb",
      "provenance": [],
      "toc_visible": true,
      "include_colab_link": true
    },
    "kernelspec": {
      "display_name": "Python 3",
      "language": "python",
      "name": "python3"
    },
    "language_info": {
      "codemirror_mode": {
        "name": "ipython",
        "version": 3
      },
      "file_extension": ".py",
      "mimetype": "text/x-python",
      "name": "python",
      "nbconvert_exporter": "python",
      "pygments_lexer": "ipython3",
      "version": "3.8.3"
    }
  },
  "nbformat": 4,
  "nbformat_minor": 5
}