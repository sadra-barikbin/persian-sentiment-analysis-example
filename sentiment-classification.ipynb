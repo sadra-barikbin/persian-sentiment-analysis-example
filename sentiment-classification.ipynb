{
 "cells": [
  {
   "cell_type": "markdown",
   "metadata": {
    "colab_type": "text",
    "id": "view-in-github"
   },
   "source": [
    "<a href=\"https://colab.research.google.com/github/sadra-barikbin/persian-sentiment-analysis-example/blob/main/sentiment-classification.ipynb\" target=\"_parent\"><img src=\"https://colab.research.google.com/assets/colab-badge.svg\" alt=\"Open In Colab\"/></a>"
   ]
  },
  {
   "cell_type": "markdown",
   "metadata": {
    "id": "IY0mx4pxnvWT"
   },
   "source": [
    "# Setup"
   ]
  },
  {
   "cell_type": "code",
   "execution_count": null,
   "metadata": {
    "colab": {
     "base_uri": "https://localhost:8080/"
    },
    "id": "RTuTM0pgtjjp",
    "outputId": "4d2fd707-5d8a-4902-985e-1f1cf72b4bc0"
   },
   "outputs": [],
   "source": [
    "!pip install clean-text[gpl] pytorch-ignite transformers"
   ]
  },
  {
   "cell_type": "code",
   "execution_count": 2,
   "metadata": {
    "id": "naughty-milton"
   },
   "outputs": [],
   "source": [
    "import numpy as np\n",
    "import pandas as pd\n",
    "import cleantext\n",
    "from imblearn.over_sampling import RandomOverSampler"
   ]
  },
  {
   "cell_type": "markdown",
   "metadata": {
    "id": "a18VhnUanxhq"
   },
   "source": [
    "# Loading & Preparing Data"
   ]
  },
  {
   "cell_type": "code",
   "execution_count": 4,
   "metadata": {
    "colab": {
     "base_uri": "https://localhost:8080/"
    },
    "id": "attached-chocolate",
    "outputId": "c8acad12-f6a5-4823-d595-46c4595e76d3"
   },
   "outputs": [
    {
     "name": "stdout",
     "output_type": "stream",
     "text": [
      "Downloading...\n",
      "From: https://drive.google.com/uc?id=1HH8QFDcvkKfnj4dWmFQceb3PpNqDD8HQ&authuser=0&export=download\n",
      "To: /content/train.csv\n",
      "100% 171k/171k [00:00<00:00, 52.4MB/s]\n",
      "Downloading...\n",
      "From: https://drive.google.com/uc?id=1uDOO8RP7Lr9qcRJO8z3d10qm_UggJv4I&authuser=0&export=download\n",
      "To: /content/eval.csv\n",
      "100% 43.5k/43.5k [00:00<00:00, 12.6MB/s]\n"
     ]
    }
   ],
   "source": [
    "!gdown 'https://drive.google.com/uc?id=1HH8QFDcvkKfnj4dWmFQceb3PpNqDD8HQ&authuser=0&export=download'\n",
    "!gdown 'https://drive.google.com/uc?id=1uDOO8RP7Lr9qcRJO8z3d10qm_UggJv4I&authuser=0&export=download'"
   ]
  },
  {
   "cell_type": "code",
   "execution_count": 3,
   "metadata": {
    "id": "christian-number"
   },
   "outputs": [],
   "source": [
    "train_df = pd.read_csv('train.csv')\n",
    "eval_df = pd.read_csv('eval.csv')"
   ]
  },
  {
   "cell_type": "code",
   "execution_count": 4,
   "metadata": {
    "colab": {
     "base_uri": "https://localhost:8080/",
     "height": 206
    },
    "id": "0Mcw7kGmoWyi",
    "outputId": "feaa566a-b41d-4c7e-aa22-3d3e5351aac5"
   },
   "outputs": [
    {
     "data": {
      "text/html": [
       "<div>\n",
       "<style scoped>\n",
       "    .dataframe tbody tr th:only-of-type {\n",
       "        vertical-align: middle;\n",
       "    }\n",
       "\n",
       "    .dataframe tbody tr th {\n",
       "        vertical-align: top;\n",
       "    }\n",
       "\n",
       "    .dataframe thead th {\n",
       "        text-align: right;\n",
       "    }\n",
       "</style>\n",
       "<table border=\"1\" class=\"dataframe\">\n",
       "  <thead>\n",
       "    <tr style=\"text-align: right;\">\n",
       "      <th></th>\n",
       "      <th>Unnamed: 0</th>\n",
       "      <th>comment</th>\n",
       "      <th>rate</th>\n",
       "    </tr>\n",
       "  </thead>\n",
       "  <tbody>\n",
       "    <tr>\n",
       "      <th>0</th>\n",
       "      <td>2587</td>\n",
       "      <td>پردازنده های Core i5 و Core i3 نیز ذاتا دو هست...</td>\n",
       "      <td>0.0</td>\n",
       "    </tr>\n",
       "    <tr>\n",
       "      <th>1</th>\n",
       "      <td>22591</td>\n",
       "      <td>سلام به دوستای عزیزم \\nعزاداری هاتون قبول باشه</td>\n",
       "      <td>1.0</td>\n",
       "    </tr>\n",
       "    <tr>\n",
       "      <th>2</th>\n",
       "      <td>141037</td>\n",
       "      <td>کلا پولتون رو دور نریزیزد</td>\n",
       "      <td>-1.0</td>\n",
       "    </tr>\n",
       "    <tr>\n",
       "      <th>3</th>\n",
       "      <td>58593</td>\n",
       "      <td>از صمیم قلب امیدوارم دایانا با کارن بمونه و پو...</td>\n",
       "      <td>1.0</td>\n",
       "    </tr>\n",
       "    <tr>\n",
       "      <th>4</th>\n",
       "      <td>5712</td>\n",
       "      <td>آنطور که اپل ادعا می کند آیپاد شافل دارای طراح...</td>\n",
       "      <td>1.0</td>\n",
       "    </tr>\n",
       "  </tbody>\n",
       "</table>\n",
       "</div>"
      ],
      "text/plain": [
       "   Unnamed: 0                                            comment  rate\n",
       "0        2587  پردازنده های Core i5 و Core i3 نیز ذاتا دو هست...   0.0\n",
       "1       22591     سلام به دوستای عزیزم \\nعزاداری هاتون قبول باشه   1.0\n",
       "2      141037                          کلا پولتون رو دور نریزیزد  -1.0\n",
       "3       58593  از صمیم قلب امیدوارم دایانا با کارن بمونه و پو...   1.0\n",
       "4        5712  آنطور که اپل ادعا می کند آیپاد شافل دارای طراح...   1.0"
      ]
     },
     "execution_count": 4,
     "metadata": {},
     "output_type": "execute_result"
    }
   ],
   "source": [
    "train_df.head()"
   ]
  },
  {
   "cell_type": "code",
   "execution_count": 5,
   "metadata": {
    "colab": {
     "base_uri": "https://localhost:8080/",
     "height": 206
    },
    "id": "L4tBlfcToYmg",
    "outputId": "d77c3901-692e-4124-edac-ebd11c4ddf83"
   },
   "outputs": [
    {
     "data": {
      "text/html": [
       "<div>\n",
       "<style scoped>\n",
       "    .dataframe tbody tr th:only-of-type {\n",
       "        vertical-align: middle;\n",
       "    }\n",
       "\n",
       "    .dataframe tbody tr th {\n",
       "        vertical-align: top;\n",
       "    }\n",
       "\n",
       "    .dataframe thead th {\n",
       "        text-align: right;\n",
       "    }\n",
       "</style>\n",
       "<table border=\"1\" class=\"dataframe\">\n",
       "  <thead>\n",
       "    <tr style=\"text-align: right;\">\n",
       "      <th></th>\n",
       "      <th>Unnamed: 0</th>\n",
       "      <th>comment</th>\n",
       "      <th>rate</th>\n",
       "    </tr>\n",
       "  </thead>\n",
       "  <tbody>\n",
       "    <tr>\n",
       "      <th>0</th>\n",
       "      <td>61591</td>\n",
       "      <td>کیفیت غذا و زمان رسیدن عالی بود</td>\n",
       "      <td>-1.0</td>\n",
       "    </tr>\n",
       "    <tr>\n",
       "      <th>1</th>\n",
       "      <td>50299</td>\n",
       "      <td>در‌ حد ساندویچ یه نفره بود نه دونفره یا بمب. ک...</td>\n",
       "      <td>1.0</td>\n",
       "    </tr>\n",
       "    <tr>\n",
       "      <th>2</th>\n",
       "      <td>2777</td>\n",
       "      <td>طعم پیتزای چهار فصل مثل همشه خیلی خوب بود اما ...</td>\n",
       "      <td>-1.0</td>\n",
       "    </tr>\n",
       "    <tr>\n",
       "      <th>3</th>\n",
       "      <td>9126</td>\n",
       "      <td>مشخصات سخت افزاری مناسب در کنار سیستم عامل وین...</td>\n",
       "      <td>0.5</td>\n",
       "    </tr>\n",
       "    <tr>\n",
       "      <th>4</th>\n",
       "      <td>7544</td>\n",
       "      <td>مرغش سوخاری و خوشمزه بود، بسته بندی عالی، قیمت...</td>\n",
       "      <td>-1.0</td>\n",
       "    </tr>\n",
       "  </tbody>\n",
       "</table>\n",
       "</div>"
      ],
      "text/plain": [
       "   Unnamed: 0                                            comment  rate\n",
       "0       61591                    کیفیت غذا و زمان رسیدن عالی بود  -1.0\n",
       "1       50299  در‌ حد ساندویچ یه نفره بود نه دونفره یا بمب. ک...   1.0\n",
       "2        2777  طعم پیتزای چهار فصل مثل همشه خیلی خوب بود اما ...  -1.0\n",
       "3        9126  مشخصات سخت افزاری مناسب در کنار سیستم عامل وین...   0.5\n",
       "4        7544  مرغش سوخاری و خوشمزه بود، بسته بندی عالی، قیمت...  -1.0"
      ]
     },
     "execution_count": 5,
     "metadata": {},
     "output_type": "execute_result"
    }
   ],
   "source": [
    "eval_df.head()"
   ]
  },
  {
   "cell_type": "code",
   "execution_count": 6,
   "metadata": {
    "id": "9hppW6kwoc9N"
   },
   "outputs": [],
   "source": [
    "train_df = train_df.drop(train_df.columns[0], axis=1)\n",
    "eval_df = eval_df.drop(eval_df.columns[0], axis=1)"
   ]
  },
  {
   "cell_type": "code",
   "execution_count": 7,
   "metadata": {
    "colab": {
     "base_uri": "https://localhost:8080/"
    },
    "id": "RIVevpfPonAK",
    "outputId": "32b20eb5-e79c-41ab-ebfa-83bfb4331f59"
   },
   "outputs": [
    {
     "name": "stdout",
     "output_type": "stream",
     "text": [
      "104 out of 800 train comments have rate zero.\n",
      "30 out of 200 eval comments have rate zero.\n"
     ]
    }
   ],
   "source": [
    "print(f\"{len(train_df[train_df.rate == 0])} out of {len(train_df)} train comments have rate zero.\")\n",
    "print(f\"{len(eval_df[eval_df.rate == 0])} out of {len(eval_df)} eval comments have rate zero.\")"
   ]
  },
  {
   "cell_type": "code",
   "execution_count": 8,
   "metadata": {
    "id": "fN3mSVdDp656"
   },
   "outputs": [],
   "source": [
    "train_df = train_df[train_df.rate != 0]\n",
    "eval_df  = eval_df[eval_df.rate != 0]"
   ]
  },
  {
   "cell_type": "code",
   "execution_count": 9,
   "metadata": {
    "id": "7QKtjCFpo9xI"
   },
   "outputs": [],
   "source": [
    "train_df['rate'] = train_df.rate.apply(lambda r: 1 if r > 0 else 0)\n",
    "eval_df['rate'] = eval_df.rate.apply(lambda r: 1 if r > 0 else 0)"
   ]
  },
  {
   "cell_type": "markdown",
   "metadata": {
    "id": "6ppN5iFXqUqC"
   },
   "source": [
    "## Balancing Dataset\n",
    "As you can see below, data is imbalanced. We use over-sampling strategy on negative class to mitigate the problem."
   ]
  },
  {
   "cell_type": "code",
   "execution_count": 10,
   "metadata": {
    "colab": {
     "base_uri": "https://localhost:8080/",
     "height": 112
    },
    "id": "7UcccdyZrvkJ",
    "outputId": "d9cd6151-2b9f-4559-9806-0b5dcc9463c1"
   },
   "outputs": [
    {
     "data": {
      "text/html": [
       "<div>\n",
       "<style scoped>\n",
       "    .dataframe tbody tr th:only-of-type {\n",
       "        vertical-align: middle;\n",
       "    }\n",
       "\n",
       "    .dataframe tbody tr th {\n",
       "        vertical-align: top;\n",
       "    }\n",
       "\n",
       "    .dataframe thead th {\n",
       "        text-align: right;\n",
       "    }\n",
       "</style>\n",
       "<table border=\"1\" class=\"dataframe\">\n",
       "  <thead>\n",
       "    <tr style=\"text-align: right;\">\n",
       "      <th></th>\n",
       "      <th>train</th>\n",
       "      <th>eval</th>\n",
       "    </tr>\n",
       "  </thead>\n",
       "  <tbody>\n",
       "    <tr>\n",
       "      <th>1</th>\n",
       "      <td>502</td>\n",
       "      <td>115</td>\n",
       "    </tr>\n",
       "    <tr>\n",
       "      <th>0</th>\n",
       "      <td>194</td>\n",
       "      <td>55</td>\n",
       "    </tr>\n",
       "  </tbody>\n",
       "</table>\n",
       "</div>"
      ],
      "text/plain": [
       "   train  eval\n",
       "1    502   115\n",
       "0    194    55"
      ]
     },
     "execution_count": 10,
     "metadata": {},
     "output_type": "execute_result"
    }
   ],
   "source": [
    "pd.concat([train_df.rate.value_counts().rename('train'),\n",
    "           eval_df.rate.value_counts().rename('eval')], axis=1)"
   ]
  },
  {
   "cell_type": "code",
   "execution_count": 11,
   "metadata": {
    "id": "Kawgs4h-q01l"
   },
   "outputs": [],
   "source": [
    "balancer = RandomOverSampler(random_state=41)\n",
    "train_df, _ = balancer.fit_resample(train_df, train_df.rate)\n",
    "eval_df, _ = balancer.fit_resample(eval_df, eval_df.rate)"
   ]
  },
  {
   "cell_type": "markdown",
   "metadata": {
    "id": "4_EwWGNEtZpE"
   },
   "source": [
    "## Normalization"
   ]
  },
  {
   "cell_type": "code",
   "execution_count": 12,
   "metadata": {
    "id": "eCIhQtnNtcqC"
   },
   "outputs": [],
   "source": [
    "params = {'to_ascii':False, 'no_urls':True,    'no_phone_numbers':True, 'no_line_breaks':True,\n",
    "          'no_emails':True, 'no_numbers':True, 'no_digits':True,        'no_currency_symbols':True}\n",
    "\n",
    "train_df['comment'] = train_df.comment.apply(lambda c: cleantext.clean(c,**params))\n",
    "eval_df['comment'] = eval_df.comment.apply(lambda c: cleantext.clean(c,**params))"
   ]
  },
  {
   "cell_type": "markdown",
   "metadata": {
    "id": "b2h0tSfFK3tU"
   },
   "source": [
    "## Vocabulary"
   ]
  },
  {
   "cell_type": "code",
   "execution_count": 13,
   "metadata": {
    "colab": {
     "base_uri": "https://localhost:8080/",
     "height": 200
    },
    "id": "knqCK2waK3tU",
    "outputId": "8c99c0af-0c58-49a9-cd7e-18cbb038b256"
   },
   "outputs": [
    {
     "data": {
      "text/plain": [
       "60273"
      ]
     },
     "execution_count": 13,
     "metadata": {},
     "output_type": "execute_result"
    }
   ],
   "source": [
    "with open(\"vocab.txt\") as fp:\n",
    "    words = set([w.strip() for w in fp.readlines()])\n",
    "len(words)"
   ]
  },
  {
   "cell_type": "code",
   "execution_count": null,
   "metadata": {
    "id": "UPov_cztK3tV"
   },
   "outputs": [],
   "source": [
    "from nltk.tokenize import word_tokenize\n",
    "\n",
    "for c in train_df['comment']:\n",
    "    words.update(word_tokenize(c))"
   ]
  },
  {
   "cell_type": "code",
   "execution_count": 16,
   "metadata": {
    "id": "ytN7rAQzK3tW"
   },
   "outputs": [],
   "source": [
    "vocab = sorted(words)"
   ]
  },
  {
   "cell_type": "code",
   "execution_count": null,
   "metadata": {
    "id": "dsZp6d35K3tX"
   },
   "outputs": [],
   "source": [
    "with open('vocab.txt', 'w') as fw:\n",
    "    for w in vocab:\n",
    "        fw.write(w + '\\n')"
   ]
  },
  {
   "cell_type": "code",
   "execution_count": 17,
   "metadata": {
    "id": "xoT4QodcK3tX",
    "outputId": "d963ae1e-6a3b-4639-942c-269fccfaff63"
   },
   "outputs": [
    {
     "data": {
      "text/plain": [
       "60273"
      ]
     },
     "execution_count": 17,
     "metadata": {},
     "output_type": "execute_result"
    }
   ],
   "source": [
    "len(vocab)"
   ]
  },
  {
   "cell_type": "markdown",
   "metadata": {
    "id": "xcU7TIPZ2pfG"
   },
   "source": [
    "# Method 1: Linear Models\n",
    "We make use of Logistic Regression and SVM as classifiers, and for vectorizing the comments, Tfidf is used."
   ]
  },
  {
   "cell_type": "markdown",
   "metadata": {
    "id": "-wF_v5IDV1Fa"
   },
   "source": [
    "## Import Statements"
   ]
  },
  {
   "cell_type": "code",
   "execution_count": 19,
   "metadata": {
    "id": "5B-wwyiYV27Y"
   },
   "outputs": [],
   "source": [
    "from sklearn.linear_model import LogisticRegression\n",
    "from sklearn.svm import LinearSVC\n",
    "from sklearn.feature_extraction.text import TfidfVectorizer\n",
    "from sklearn.pipeline import Pipeline\n",
    "from sklearn.feature_selection import SelectFromModel\n",
    "from sklearn.model_selection import GridSearchCV"
   ]
  },
  {
   "cell_type": "code",
   "execution_count": 33,
   "metadata": {
    "id": "v2_juBOy3xIW"
   },
   "outputs": [],
   "source": [
    "vectorizer = TfidfVectorizer(max_features=600, ngram_range=(1,3))"
   ]
  },
  {
   "cell_type": "code",
   "execution_count": 34,
   "metadata": {
    "colab": {
     "base_uri": "https://localhost:8080/"
    },
    "id": "XOPXtNPEww7e",
    "outputId": "74a5033e-220d-4054-b84d-3c3fb4b55990"
   },
   "outputs": [
    {
     "data": {
      "text/plain": [
       "Pipeline(steps=[('embedding',\n",
       "                 TfidfVectorizer(max_features=600, ngram_range=(1, 3))),\n",
       "                ('classifier', LinearSVC())])"
      ]
     },
     "execution_count": 34,
     "metadata": {},
     "output_type": "execute_result"
    }
   ],
   "source": [
    "pipeline = Pipeline([('embedding', vectorizer),\n",
    "                     ('classifier', LinearSVC())])\n",
    "pipeline.fit(train_df.comment, train_df.rate)"
   ]
  },
  {
   "cell_type": "markdown",
   "metadata": {
    "id": "SHTNpGAl4LDP"
   },
   "source": [
    "## Hyper-parameter Tuning\n",
    "We search over different settings and find the best."
   ]
  },
  {
   "cell_type": "code",
   "execution_count": null,
   "metadata": {
    "id": "6_XBYuBT4R0V"
   },
   "outputs": [],
   "source": [
    "param_grid = {'embedding__ngram_range': [(1,2),(1,3),(1,4)],\n",
    "              'embedding__max_features': range(100, 3000, 100),\n",
    "              'classifier': [LinearSVC(),LogisticRegression()]}"
   ]
  },
  {
   "cell_type": "code",
   "execution_count": null,
   "metadata": {
    "colab": {
     "base_uri": "https://localhost:8080/"
    },
    "id": "3rnv3weP4-gP",
    "outputId": "401d7e20-e563-4453-85da-c8ef79e650f5"
   },
   "outputs": [
    {
     "name": "stdout",
     "output_type": "stream",
     "text": [
      "Fitting 1 folds for each of 174 candidates, totalling 174 fits\n"
     ]
    }
   ],
   "source": [
    "# The smelling code here is due to Scikit GridSearchCV's specific input for `cv` parameter.\n",
    "# GridSearchCV and other meta-estimators in Scikit accept whole data (train+eval) in their `fit`\n",
    "# method. So if you have a dataset separated in train and eval parts beforehand, you should\n",
    "# concatenate them. Beside that you have to give indices of train and eval parts as the `cv` parameter.\n",
    "\n",
    "train_eval = pd.concat((train_df, eval_df), ignore_index=True)\n",
    "train_eval_indices = [(train_df.index, eval_df.index + len(train_df))]\n",
    "meta_estimator = GridSearchCV(pipeline, param_grid, scoring=['accuracy', 'f1'],\n",
    "                              cv=train_eval_indices, refit='f1', verbose=1)\n",
    "_ = meta_estimator.fit(train_eval.comment, train_eval.rate)"
   ]
  },
  {
   "cell_type": "code",
   "execution_count": null,
   "metadata": {
    "colab": {
     "base_uri": "https://localhost:8080/"
    },
    "id": "IxJhaX4YDuhs",
    "outputId": "18a8ce1e-c9ba-4b52-842f-9483ef864047"
   },
   "outputs": [
    {
     "data": {
      "text/plain": [
       "{'classifier': LinearSVC(),\n",
       " 'embedding__max_features': 600,\n",
       " 'embedding__ngram_range': (1, 3)}"
      ]
     },
     "execution_count": 36,
     "metadata": {},
     "output_type": "execute_result"
    }
   ],
   "source": [
    "meta_estimator.best_params_"
   ]
  },
  {
   "cell_type": "code",
   "execution_count": null,
   "metadata": {
    "colab": {
     "base_uri": "https://localhost:8080/"
    },
    "id": "VsTd-cnTD8SJ",
    "outputId": "46fb5bcf-c04b-4ef9-e58a-80c99c966eba"
   },
   "outputs": [
    {
     "name": "stdout",
     "output_type": "stream",
     "text": [
      "Best model F1: 0.7063197026022304\n"
     ]
    }
   ],
   "source": [
    "print(f\"Best model F1: {meta_estimator.best_score_}\")"
   ]
  },
  {
   "cell_type": "markdown",
   "metadata": {
    "id": "3obiJVnpEkbe"
   },
   "source": [
    "## Determining Marker Features"
   ]
  },
  {
   "cell_type": "code",
   "execution_count": null,
   "metadata": {
    "colab": {
     "base_uri": "https://localhost:8080/"
    },
    "id": "rSqPMgiBEn9H",
    "outputId": "4a0dcc2a-1e62-403f-84fc-4676ea80548f"
   },
   "outputs": [
    {
     "data": {
      "text/plain": [
       "array(['ارسال', 'اینکه', 'لک', 'معمولی', 'من خیلی', 'میدان', 'نيست',\n",
       "       'هم که', 'چندان', 'کاملا'], dtype=object)"
      ]
     },
     "execution_count": 43,
     "metadata": {},
     "output_type": "execute_result"
    }
   ],
   "source": [
    "selector = SelectFromModel(pipeline, threshold=-np.inf, max_features=10, prefit=True,\n",
    "                           importance_getter='named_steps.classifier.coef_')\n",
    "\n",
    "pipeline['embedding'].get_feature_names_out()[selector.get_support()]"
   ]
  },
  {
   "cell_type": "markdown",
   "metadata": {
    "id": "IXg2hxaADT0m"
   },
   "source": [
    "# Method 2: Neural Networks"
   ]
  },
  {
   "cell_type": "code",
   "execution_count": 14,
   "metadata": {
    "id": "MTb3Yk6_DY69"
   },
   "outputs": [],
   "source": [
    "import tensorflow as tf"
   ]
  },
  {
   "cell_type": "code",
   "execution_count": 18,
   "metadata": {
    "id": "l6sgCczBK3th"
   },
   "outputs": [],
   "source": [
    "EMBED_DIM = 200\n",
    "SEQ_LEN = 64\n",
    "VOCAB_SIZE = len(vocab)\n",
    "BATCH_SIZE = 20\n",
    "CLASS_NO = 2"
   ]
  },
  {
   "cell_type": "code",
   "execution_count": 19,
   "metadata": {
    "id": "5rBRgX7yK3ti"
   },
   "outputs": [],
   "source": [
    "train_ds = tf.data.Dataset.from_tensor_slices((train_df['comment'], train_df['rate'])).shuffle(buffer_size=len(train_df)).batch(BATCH_SIZE).prefetch(buffer_size=tf.data.AUTOTUNE)\n",
    "eval_ds = tf.data.Dataset.from_tensor_slices((eval_df['comment'], eval_df['rate'])).shuffle(buffer_size=len(eval_df)).batch(BATCH_SIZE).prefetch(buffer_size=tf.data.AUTOTUNE)"
   ]
  },
  {
   "cell_type": "code",
   "execution_count": 20,
   "metadata": {
    "id": "lo7PgJBDK3tj"
   },
   "outputs": [],
   "source": [
    "from tensorflow.keras.layers import TextVectorization, Embedding, Input, Dense, Bidirectional, LSTM\n",
    "from tensorflow.keras.models import Sequential\n",
    "\n",
    "def create_lstm_model(lstm_dim=64, dense_dim=16):\n",
    "    vectorizer = TextVectorization(vocabulary='vocab.txt',\n",
    "                                   output_mode='int', \n",
    "                                   output_sequence_length=SEQ_LEN)\n",
    "    return Sequential([\n",
    "        Input(shape=(1,), dtype=tf.string),\n",
    "        vectorizer,\n",
    "        Embedding(VOCAB_SIZE + 4, EMBED_DIM, name='embedding'),\n",
    "        Bidirectional(LSTM(lstm_dim)),\n",
    "        Dense(dense_dim, activation='relu'),\n",
    "        Dense(CLASS_NO, 'softmax')\n",
    "    ])"
   ]
  },
  {
   "cell_type": "code",
   "execution_count": 21,
   "metadata": {
    "id": "1n9KNNf0K3tk"
   },
   "outputs": [],
   "source": [
    "from keras import backend as K\n",
    "\n",
    "def recall_m(y_true, y_pred):\n",
    "    true_positives = K.sum(K.round(K.clip(y_true * y_pred, 0, 1)))\n",
    "    possible_positives = K.sum(K.round(K.clip(y_true, 0, 1)))\n",
    "    recall = true_positives / (possible_positives + K.epsilon())\n",
    "    return recall\n",
    "\n",
    "def precision_m(y_true, y_pred):\n",
    "    true_positives = K.sum(K.round(K.clip(y_true * y_pred, 0, 1)))\n",
    "    predicted_positives = K.sum(K.round(K.clip(y_pred, 0, 1)))\n",
    "    precision = true_positives / (predicted_positives + K.epsilon())\n",
    "    return precision\n",
    "\n",
    "def f1_m(y_true, y_pred):\n",
    "    precision = precision_m(y_true, y_pred)\n",
    "    recall = recall_m(y_true, y_pred)\n",
    "    return 2*((precision*recall)/(precision+recall+K.epsilon()))"
   ]
  },
  {
   "cell_type": "code",
   "execution_count": 22,
   "metadata": {
    "id": "MXfuCp_0K3tl"
   },
   "outputs": [],
   "source": [
    "model = create_lstm_model()\n",
    "model.compile(optimizer='adam', loss='sparse_categorical_crossentropy', metrics=['accuracy', f1_m])"
   ]
  },
  {
   "cell_type": "code",
   "execution_count": 23,
   "metadata": {
    "id": "NShPLmbSK3tm",
    "outputId": "2ee8edfb-4825-4b87-fd96-c97c568428d6"
   },
   "outputs": [
    {
     "data": {
      "text/plain": [
       "60275"
      ]
     },
     "execution_count": 23,
     "metadata": {},
     "output_type": "execute_result"
    }
   ],
   "source": [
    "len(model.layers[0].get_vocabulary())"
   ]
  },
  {
   "cell_type": "code",
   "execution_count": 24,
   "metadata": {
    "id": "uE9dhHdQK3tn",
    "outputId": "504cfc71-c85c-4d40-93e8-720f18413455"
   },
   "outputs": [
    {
     "name": "stdout",
     "output_type": "stream",
     "text": [
      "Model: \"sequential\"\n",
      "_________________________________________________________________\n",
      " Layer (type)                Output Shape              Param #   \n",
      "=================================================================\n",
      " text_vectorization (TextVec  (None, 64)               0         \n",
      " torization)                                                     \n",
      "                                                                 \n",
      " embedding (Embedding)       (None, 64, 200)           12055400  \n",
      "                                                                 \n",
      " bidirectional (Bidirectiona  (None, 128)              135680    \n",
      " l)                                                              \n",
      "                                                                 \n",
      " dense (Dense)               (None, 16)                2064      \n",
      "                                                                 \n",
      " dense_1 (Dense)             (None, 2)                 34        \n",
      "                                                                 \n",
      "=================================================================\n",
      "Total params: 12,193,178\n",
      "Trainable params: 12,193,178\n",
      "Non-trainable params: 0\n",
      "_________________________________________________________________\n"
     ]
    }
   ],
   "source": [
    "model.summary()"
   ]
  },
  {
   "cell_type": "code",
   "execution_count": 25,
   "metadata": {
    "id": "CwKOfhNRK3tn"
   },
   "outputs": [],
   "source": [
    "from tensorflow.keras.callbacks import EarlyStopping\n",
    "\n",
    "es = EarlyStopping(monitor='val_accuracy', mode='max')"
   ]
  },
  {
   "cell_type": "code",
   "execution_count": 26,
   "metadata": {
    "id": "l2VYVMfIK3to",
    "outputId": "6a27023b-2ba4-4709-93aa-5ffa51906829"
   },
   "outputs": [
    {
     "name": "stdout",
     "output_type": "stream",
     "text": [
      "Epoch 1/5\n",
      "51/51 [==============================] - 14s 208ms/step - loss: 0.6608 - accuracy: 0.6215 - f1_m: 0.6606 - val_loss: 0.6807 - val_accuracy: 0.5783 - val_f1_m: 0.6719\n",
      "Epoch 2/5\n",
      "51/51 [==============================] - 9s 185ms/step - loss: 0.2464 - accuracy: 0.9124 - f1_m: 0.6614 - val_loss: 1.4994 - val_accuracy: 0.5391 - val_f1_m: 0.6589\n",
      "Epoch 3/5\n",
      "51/51 [==============================] - 10s 186ms/step - loss: 0.0657 - accuracy: 0.9851 - f1_m: 0.6599 - val_loss: 1.3103 - val_accuracy: 0.6174 - val_f1_m: 0.6688\n",
      "Epoch 4/5\n",
      "51/51 [==============================] - 12s 226ms/step - loss: 0.0253 - accuracy: 0.9871 - f1_m: 0.6593 - val_loss: 1.5070 - val_accuracy: 0.5957 - val_f1_m: 0.6513\n",
      "Epoch 5/5\n",
      "51/51 [==============================] - 14s 278ms/step - loss: 0.0161 - accuracy: 0.9950 - f1_m: 0.6626 - val_loss: 1.6974 - val_accuracy: 0.6043 - val_f1_m: 0.6573\n"
     ]
    },
    {
     "data": {
      "text/plain": [
       "<keras.callbacks.History at 0x7fe654108cd0>"
      ]
     },
     "execution_count": 26,
     "metadata": {},
     "output_type": "execute_result"
    }
   ],
   "source": [
    "model.fit(train_ds, validation_data=eval_ds, epochs=5)"
   ]
  },
  {
   "cell_type": "markdown",
   "metadata": {
    "id": "w6iqEzrQDYG5"
   },
   "source": [
    "# Method 3: Pre-trained Language Models"
   ]
  },
  {
   "cell_type": "markdown",
   "metadata": {
    "id": "a399vr5zVp4n"
   },
   "source": [
    "## Import Statements"
   ]
  },
  {
   "cell_type": "code",
   "execution_count": 8,
   "metadata": {
    "id": "hKFtvkY1Vsq9"
   },
   "outputs": [],
   "source": [
    "import torch\n",
    "from ignite.engine  import Events, create_supervised_evaluator, create_supervised_trainer\n",
    "from ignite.metrics import Accuracy, Loss, Fbeta\n",
    "from transformers   import BertModel, BertTokenizer\n",
    "from transformers.models.bert.modeling_bert import BertEncoder\n",
    "from torch.utils.data import Dataset, DataLoader\n",
    "from torch.optim import AdamW\n",
    "\n",
    "if torch.cuda.is_available():\n",
    "        DEVICE = \"cuda\""
   ]
  },
  {
   "cell_type": "markdown",
   "metadata": {
    "id": "qwI2JhT_P7g6"
   },
   "source": [
    "## Prepare PyTorch Dataset & Data Loader"
   ]
  },
  {
   "cell_type": "code",
   "execution_count": 20,
   "metadata": {
    "id": "eteIBPEIQPva"
   },
   "outputs": [],
   "source": [
    "class SentimentDataset(Dataset):\n",
    "  def __init__(self,data_frame: pd.DataFrame):\n",
    "    self.data_frame = data_frame\n",
    "  def __len__(self):\n",
    "    return len(self.data_frame)\n",
    "  def __getitem__(self,idx):\n",
    "    item = self.data_frame.iloc[idx]\n",
    "    return item.comment, item.rate\n"
   ]
  },
  {
   "cell_type": "code",
   "execution_count": 26,
   "metadata": {
    "id": "8NG5EEcYELKN"
   },
   "outputs": [],
   "source": [
    "train_ds = SentimentDataset(train_df)\n",
    "eval_ds = SentimentDataset(eval_df)\n",
    "\n",
    "train_loader = DataLoader(train_ds, batch_size=train_batch_size, shuffle=True)\n",
    "eval_loader = DataLoader(eval_ds, batch_size=val_batch_size, shuffle=False)"
   ]
  },
  {
   "cell_type": "markdown",
   "metadata": {
    "id": "ZQfyGGN0US6t"
   },
   "source": [
    "## Define Model"
   ]
  },
  {
   "cell_type": "code",
   "execution_count": null,
   "metadata": {
    "id": "dafNeZjmUVgo"
   },
   "outputs": [],
   "source": [
    "class SentimentClassifier(nn.Module):\n",
    "  def __init__(self):\n",
    "    self.bert = BertModel.from_pretrained('HooshvareLab/bert-fa-zwnj-base',\n",
    "                                          output_attentions=False,\n",
    "                                          add_pooling_layer=False)\n",
    "    self.cls = nn.ModuleList([nn.Linear(768,70), nn.ReLU(), nn.Flatten(1, -1),\n",
    "                              nn.AdaptiveMaxPool1d(20), nn.Linear(20, 1), nn.Tanh()])\n",
    "  def forward(self, input: Dict[str,Tensor]) -> Tensor:\n",
    "    embedding = self.bert(**input).last_hidden_state\n",
    "    immediate = embedding\n",
    "    for layer in self.cls:\n",
    "      immediate = layer(immediate)\n",
    "    return immediate.squeeze(dim=-1)"
   ]
  },
  {
   "cell_type": "code",
   "execution_count": null,
   "metadata": {
    "id": "dW8K7Ohub1Uv"
   },
   "outputs": [],
   "source": [
    "model = SentimentClassifier().to(DEVICE)"
   ]
  },
  {
   "cell_type": "markdown",
   "metadata": {
    "id": "s-4tMvQRcGcZ"
   },
   "source": [
    "## Optimization Setup"
   ]
  },
  {
   "cell_type": "code",
   "execution_count": null,
   "metadata": {
    "id": "JKfrdqpYcTGn"
   },
   "outputs": [],
   "source": [
    "optimizer_parameter_groups = [\n",
    "  {'params': list(model.bert.parameters()),'lr': 1e-5},\n",
    "  {'params': list(model.cls.parameters()), 'lr': 1e-3}\n",
    "]\n",
    "optimizer = torch.optim.AdamW(optimizer_parameter_groups)\n",
    "criterion = nn.BCELoss()"
   ]
  },
  {
   "cell_type": "markdown",
   "metadata": {
    "id": "brMuLnlT0iHi"
   },
   "source": [
    "## Train & Evaluation"
   ]
  },
  {
   "cell_type": "code",
   "execution_count": null,
   "metadata": {
    "id": "zWOD1uYg0BJc"
   },
   "outputs": [],
   "source": [
    "trainer = create_supervised_trainer(model, optimizer, criterion, device=DEVICE)\n",
    "val_metrics = {\"accuracy\": Accuracy(), \"BCE\": Loss(criterion), 'F1': Fbeta(1)}\n",
    "evaluator = create_supervised_evaluator(model, metrics=val_metrics, device=device)"
   ]
  },
  {
   "cell_type": "markdown",
   "metadata": {
    "id": "HPRUi-654_Y5"
   },
   "source": [
    "# Final Evaluation"
   ]
  },
  {
   "cell_type": "markdown",
   "metadata": {
    "id": "rjx-OuSM7XJN"
   },
   "source": [
    "## Import Statements"
   ]
  },
  {
   "cell_type": "code",
   "execution_count": 27,
   "metadata": {
    "id": "UFVfUBhJ7Wxk"
   },
   "outputs": [],
   "source": [
    "from sklearn.metrics import ConfusionMatrixDisplay, f1_score, accuracy_score"
   ]
  },
  {
   "cell_type": "markdown",
   "metadata": {
    "id": "sBLJ2GYY5zmo"
   },
   "source": [
    "## Test data preparation"
   ]
  },
  {
   "cell_type": "code",
   "execution_count": 1,
   "metadata": {
    "colab": {
     "base_uri": "https://localhost:8080/"
    },
    "id": "zCO3053V5Ceo",
    "outputId": "688cbcb9-f0cf-4535-8e1a-a91167c1f296"
   },
   "outputs": [
    {
     "name": "stdout",
     "output_type": "stream",
     "text": [
      "/usr/bin/sh: line 1: gdown: command not found\n"
     ]
    }
   ],
   "source": [
    "!gdown 'https://drive.google.com/uc?id=1nXjaHjsGDbaPyxQX5-y7D-hfgl6tcomC&authuser=0&export=download'"
   ]
  },
  {
   "cell_type": "code",
   "execution_count": 28,
   "metadata": {
    "id": "izKEqKpr5Ieh"
   },
   "outputs": [],
   "source": [
    "test_df = pd.read_csv('test.csv')"
   ]
  },
  {
   "cell_type": "code",
   "execution_count": 29,
   "metadata": {
    "colab": {
     "base_uri": "https://localhost:8080/",
     "height": 206
    },
    "id": "jo3pMCAV5NQg",
    "outputId": "1eec6f40-50cc-4203-8523-64de9d4e7477"
   },
   "outputs": [
    {
     "data": {
      "text/html": [
       "<div>\n",
       "<style scoped>\n",
       "    .dataframe tbody tr th:only-of-type {\n",
       "        vertical-align: middle;\n",
       "    }\n",
       "\n",
       "    .dataframe tbody tr th {\n",
       "        vertical-align: top;\n",
       "    }\n",
       "\n",
       "    .dataframe thead th {\n",
       "        text-align: right;\n",
       "    }\n",
       "</style>\n",
       "<table border=\"1\" class=\"dataframe\">\n",
       "  <thead>\n",
       "    <tr style=\"text-align: right;\">\n",
       "      <th></th>\n",
       "      <th>Unnamed: 0</th>\n",
       "      <th>comment</th>\n",
       "      <th>rate</th>\n",
       "    </tr>\n",
       "  </thead>\n",
       "  <tbody>\n",
       "    <tr>\n",
       "      <th>0</th>\n",
       "      <td>1980</td>\n",
       "      <td>IXY فقط زبان ژاپني انگليسي داره</td>\n",
       "      <td>0.0</td>\n",
       "    </tr>\n",
       "    <tr>\n",
       "      <th>1</th>\n",
       "      <td>55810</td>\n",
       "      <td>به نظر من کسی بدون شنیدن یه حرف نمیتونی در اون...</td>\n",
       "      <td>1.0</td>\n",
       "    </tr>\n",
       "    <tr>\n",
       "      <th>2</th>\n",
       "      <td>29718</td>\n",
       "      <td>تو وصف این داستان زیبا مثل های شیوای فارسی زیا...</td>\n",
       "      <td>1.0</td>\n",
       "    </tr>\n",
       "    <tr>\n",
       "      <th>3</th>\n",
       "      <td>48815</td>\n",
       "      <td>بسیارعالی برای خشکی پوست</td>\n",
       "      <td>1.0</td>\n",
       "    </tr>\n",
       "    <tr>\n",
       "      <th>4</th>\n",
       "      <td>6133</td>\n",
       "      <td>البته متاسفانه ابن قابلیت در مورد تمامی برنامه...</td>\n",
       "      <td>-0.5</td>\n",
       "    </tr>\n",
       "  </tbody>\n",
       "</table>\n",
       "</div>"
      ],
      "text/plain": [
       "   Unnamed: 0                                            comment  rate\n",
       "0        1980                    IXY فقط زبان ژاپني انگليسي داره   0.0\n",
       "1       55810  به نظر من کسی بدون شنیدن یه حرف نمیتونی در اون...   1.0\n",
       "2       29718  تو وصف این داستان زیبا مثل های شیوای فارسی زیا...   1.0\n",
       "3       48815                           بسیارعالی برای خشکی پوست   1.0\n",
       "4        6133  البته متاسفانه ابن قابلیت در مورد تمامی برنامه...  -0.5"
      ]
     },
     "execution_count": 29,
     "metadata": {},
     "output_type": "execute_result"
    }
   ],
   "source": [
    "test_df.head()"
   ]
  },
  {
   "cell_type": "code",
   "execution_count": 30,
   "metadata": {
    "id": "8vbdprTa5QeK"
   },
   "outputs": [],
   "source": [
    "test_df = test_df.drop(test_df.columns[0], axis=1)"
   ]
  },
  {
   "cell_type": "code",
   "execution_count": 31,
   "metadata": {
    "colab": {
     "base_uri": "https://localhost:8080/"
    },
    "id": "lO8ov9gm5jIR",
    "outputId": "911a043f-7bae-4a43-9cf6-dfb9c9a49566"
   },
   "outputs": [
    {
     "name": "stdout",
     "output_type": "stream",
     "text": [
      "22 out of 170 test comments have rate zero.\n"
     ]
    }
   ],
   "source": [
    "print(f\"{len(test_df[test_df.rate == 0])} out of {len(test_df)} test comments have rate zero.\")"
   ]
  },
  {
   "cell_type": "code",
   "execution_count": 32,
   "metadata": {
    "id": "CD04rRQW5jIb"
   },
   "outputs": [],
   "source": [
    "test_df = test_df[test_df.rate != 0]"
   ]
  },
  {
   "cell_type": "code",
   "execution_count": 33,
   "metadata": {
    "id": "lxOENsPC5jIb"
   },
   "outputs": [],
   "source": [
    "test_df['rate'] = test_df.rate.apply(lambda r: 1 if r > 0 else 0)"
   ]
  },
  {
   "cell_type": "markdown",
   "metadata": {
    "id": "g3CVOJaf58uo"
   },
   "source": [
    "## Normalize Test data"
   ]
  },
  {
   "cell_type": "code",
   "execution_count": 34,
   "metadata": {
    "id": "pIrDuREZ5-9r"
   },
   "outputs": [],
   "source": [
    "params = {'to_ascii':False, 'no_urls':True,    'no_phone_numbers':True, 'no_line_breaks':True,\n",
    "          'no_emails':True, 'no_numbers':True, 'no_digits':True,        'no_currency_symbols':True}\n",
    "\n",
    "test_df['comment'] = test_df.comment.apply(lambda c: cleantext.clean(c,**params))"
   ]
  },
  {
   "cell_type": "markdown",
   "metadata": {
    "id": "mCSUGEkS6P_Q"
   },
   "source": [
    "## Evaluate"
   ]
  },
  {
   "cell_type": "markdown",
   "metadata": {
    "id": "IagGFAWL6L1T"
   },
   "source": [
    "### Method 1"
   ]
  },
  {
   "cell_type": "code",
   "execution_count": 35,
   "metadata": {
    "id": "0rcfp-8Q6F8r"
   },
   "outputs": [],
   "source": [
    "predictions = pipeline.predict(test_df.comment)"
   ]
  },
  {
   "cell_type": "code",
   "execution_count": 56,
   "metadata": {
    "colab": {
     "base_uri": "https://localhost:8080/"
    },
    "id": "UHVKar7X9nhM",
    "outputId": "41bbfc4b-f7e0-43fd-9b6e-782747064534"
   },
   "outputs": [
    {
     "name": "stdout",
     "output_type": "stream",
     "text": [
      "Accuracy : 0.7094594594594594\n",
      "F1 score : 0.7860696517412935\n"
     ]
    }
   ],
   "source": [
    "print(f'Accuracy : {accuracy_score(test_df.rate, predictions)}')\n",
    "print(f'F1 score : {f1_score(test_df.rate, predictions)}')"
   ]
  },
  {
   "cell_type": "code",
   "execution_count": 53,
   "metadata": {
    "colab": {
     "base_uri": "https://localhost:8080/",
     "height": 296
    },
    "id": "eLlvk5_u7Tzz",
    "outputId": "984433ee-7980-41f8-aa32-80ea3aab77ee"
   },
   "outputs": [
    {
     "data": {
      "text/plain": [
       "<sklearn.metrics._plot.confusion_matrix.ConfusionMatrixDisplay at 0x7f288d6a3950>"
      ]
     },
     "execution_count": 53,
     "metadata": {},
     "output_type": "execute_result"
    },
    {
     "data": {
      "image/png": "[encoded data removed]",
      "text/plain": [
       "<Figure size 432x288 with 2 Axes>"
      ]
     },
     "metadata": {
      "needs_background": "light"
     },
     "output_type": "display_data"
    }
   ],
   "source": [
    "ConfusionMatrixDisplay.from_predictions(test_df.rate, predictions)"
   ]
  },
  {
   "cell_type": "markdown",
   "metadata": {
    "id": "NWOeFBtm98XH"
   },
   "source": [
    "### Method 2"
   ]
  },
  {
   "cell_type": "code",
   "execution_count": 35,
   "metadata": {},
   "outputs": [],
   "source": [
    "test_ds = tf.data.Dataset.from_tensor_slices((test_df['comment'], test_df['rate'])).shuffle(buffer_size=len(test_df)).batch(BATCH_SIZE).prefetch(buffer_size=tf.data.AUTOTUNE)"
   ]
  },
  {
   "cell_type": "code",
   "execution_count": 36,
   "metadata": {
    "id": "PLbVmdzr9-zG"
   },
   "outputs": [
    {
     "name": "stdout",
     "output_type": "stream",
     "text": [
      "8/8 [==============================] - 1s 54ms/step - loss: 1.2070 - accuracy: 0.7297 - f1_m: 0.7797\n"
     ]
    },
    {
     "data": {
      "text/plain": [
       "[1.2070481777191162, 0.7297297120094299, 0.7797455191612244]"
      ]
     },
     "execution_count": 36,
     "metadata": {},
     "output_type": "execute_result"
    }
   ],
   "source": [
    "model.evaluate(test_ds)"
   ]
  },
  {
   "cell_type": "markdown",
   "metadata": {
    "id": "r1mwc69g9_L1"
   },
   "source": [
    "### Method 3"
   ]
  },
  {
   "cell_type": "code",
   "execution_count": null,
   "metadata": {
    "id": "wlIf96Na-E3J"
   },
   "outputs": [],
   "source": []
  }
 ],
 "metadata": {
  "colab": {
   "include_colab_link": true,
   "name": "sentiment-classification.ipynb",
   "provenance": [],
   "toc_visible": true
  },
  "kernelspec": {
   "display_name": "Python 3",
   "language": "python",
   "name": "python3"
  },
  "language_info": {
   "codemirror_mode": {
    "name": "ipython",
    "version": 3
   },
   "file_extension": ".py",
   "mimetype": "text/x-python",
   "name": "python",
   "nbconvert_exporter": "python",
   "pygments_lexer": "ipython3",
   "version": "3.8.3"
  }
 },
 "nbformat": 4,
 "nbformat_minor": 5
}
