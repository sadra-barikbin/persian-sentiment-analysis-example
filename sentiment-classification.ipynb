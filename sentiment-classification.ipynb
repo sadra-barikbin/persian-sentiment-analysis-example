{
  "cells": [
    {
      "cell_type": "markdown",
      "metadata": {
        "id": "view-in-github",
        "colab_type": "text"
      },
      "source": [
        "<a href=\"https://colab.research.google.com/github/sadra-barikbin/persian-sentiment-analysis-example/blob/main/sentiment-classification.ipynb\" target=\"_parent\"><img src=\"https://colab.research.google.com/assets/colab-badge.svg\" alt=\"Open In Colab\"/></a>"
      ]
    },
    {
      "cell_type": "markdown",
      "metadata": {
        "id": "vwW3ynvCpDpf"
      },
      "source": [
        "<h1 dir='rtl'>\n",
        "زبان‌پژوهان حرفه‌ای\n",
        "</h1>"
      ],
      "id": "vwW3ynvCpDpf"
    },
    {
      "cell_type": "markdown",
      "metadata": {
        "id": "D03sH0CxpRCt"
      },
      "source": [
        "<h3 dir='rtl'>\n",
        "صدرالدین باریک‌بین، سید محمد حسینی، امین بهجتی\n",
        "</h3>"
      ],
      "id": "D03sH0CxpRCt"
    },
    {
      "cell_type": "markdown",
      "metadata": {
        "id": "-zA-hHI4p-ir"
      },
      "source": [
        "<div dir='rtl'>\n",
        "در این تمرین، هدف یادگیری و دسته‌بندی متون آزمون بر اساس احساس موجود در آن‌هاست. دسته‌بندی باید با ۳ روش خطی، مبتنی بر شبکه عصبی و مبتنی بر مدل زبانی انجام شود؛ نتایج آن‌ها گزارش شود و برای هر کدام نیز مارکرهایی استخراج شود.\n",
        "</div>"
      ],
      "id": "-zA-hHI4p-ir"
    },
    {
      "cell_type": "markdown",
      "metadata": {
        "id": "IY0mx4pxnvWT"
      },
      "source": [
        "# Setup"
      ],
      "id": "IY0mx4pxnvWT"
    },
    {
      "cell_type": "markdown",
      "metadata": {
        "id": "BcdbTJBarrGA"
      },
      "source": [
        "<div dir='rtl'>\n",
        "در این بخش پکیج‌ها و کتاب‌خانه‌های لازم را import می‌کنیم\n",
        "</div>"
      ],
      "id": "BcdbTJBarrGA"
    },
    {
      "cell_type": "code",
      "execution_count": 1,
      "metadata": {
        "colab": {
          "base_uri": "https://localhost:8080/"
        },
        "id": "RTuTM0pgtjjp",
        "outputId": "d557dae9-e4ae-449c-8675-49d00dbce748"
      },
      "outputs": [
        {
          "output_type": "stream",
          "name": "stdout",
          "text": [
            "Collecting clean-text[gpl]\n",
            "  Downloading clean_text-0.5.0-py3-none-any.whl (9.8 kB)\n",
            "Collecting pytorch-ignite\n",
            "  Downloading pytorch_ignite-0.4.7-py3-none-any.whl (240 kB)\n",
            "\u001b[K     |████████████████████████████████| 240 kB 12.9 MB/s \n",
            "\u001b[?25hCollecting transformers\n",
            "  Downloading transformers-4.15.0-py3-none-any.whl (3.4 MB)\n",
            "\u001b[K     |████████████████████████████████| 3.4 MB 49.6 MB/s \n",
            "\u001b[?25hRequirement already satisfied: torch<2,>=1.3 in /usr/local/lib/python3.7/dist-packages (from pytorch-ignite) (1.10.0+cu111)\n",
            "Requirement already satisfied: typing-extensions in /usr/local/lib/python3.7/dist-packages (from torch<2,>=1.3->pytorch-ignite) (3.10.0.2)\n",
            "Requirement already satisfied: requests in /usr/local/lib/python3.7/dist-packages (from transformers) (2.23.0)\n",
            "Collecting tokenizers<0.11,>=0.10.1\n",
            "  Downloading tokenizers-0.10.3-cp37-cp37m-manylinux_2_5_x86_64.manylinux1_x86_64.manylinux_2_12_x86_64.manylinux2010_x86_64.whl (3.3 MB)\n",
            "\u001b[K     |████████████████████████████████| 3.3 MB 37.7 MB/s \n",
            "\u001b[?25hRequirement already satisfied: numpy>=1.17 in /usr/local/lib/python3.7/dist-packages (from transformers) (1.19.5)\n",
            "Requirement already satisfied: packaging>=20.0 in /usr/local/lib/python3.7/dist-packages (from transformers) (21.3)\n",
            "Collecting huggingface-hub<1.0,>=0.1.0\n",
            "  Downloading huggingface_hub-0.2.1-py3-none-any.whl (61 kB)\n",
            "\u001b[K     |████████████████████████████████| 61 kB 464 kB/s \n",
            "\u001b[?25hRequirement already satisfied: regex!=2019.12.17 in /usr/local/lib/python3.7/dist-packages (from transformers) (2019.12.20)\n",
            "Collecting pyyaml>=5.1\n",
            "  Downloading PyYAML-6.0-cp37-cp37m-manylinux_2_5_x86_64.manylinux1_x86_64.manylinux_2_12_x86_64.manylinux2010_x86_64.whl (596 kB)\n",
            "\u001b[K     |████████████████████████████████| 596 kB 45.8 MB/s \n",
            "\u001b[?25hRequirement already satisfied: tqdm>=4.27 in /usr/local/lib/python3.7/dist-packages (from transformers) (4.62.3)\n",
            "Requirement already satisfied: importlib-metadata in /usr/local/lib/python3.7/dist-packages (from transformers) (4.8.2)\n",
            "Collecting sacremoses\n",
            "  Downloading sacremoses-0.0.46-py3-none-any.whl (895 kB)\n",
            "\u001b[K     |████████████████████████████████| 895 kB 40.4 MB/s \n",
            "\u001b[?25hRequirement already satisfied: filelock in /usr/local/lib/python3.7/dist-packages (from transformers) (3.4.0)\n",
            "Requirement already satisfied: pyparsing!=3.0.5,>=2.0.2 in /usr/local/lib/python3.7/dist-packages (from packaging>=20.0->transformers) (3.0.6)\n",
            "Collecting ftfy<7.0,>=6.0\n",
            "  Downloading ftfy-6.0.3.tar.gz (64 kB)\n",
            "\u001b[K     |████████████████████████████████| 64 kB 3.0 MB/s \n",
            "\u001b[?25hCollecting emoji\n",
            "  Downloading emoji-1.6.1.tar.gz (170 kB)\n",
            "\u001b[K     |████████████████████████████████| 170 kB 49.7 MB/s \n",
            "\u001b[?25hCollecting unidecode<2.0.0,>=1.1.1\n",
            "  Downloading Unidecode-1.3.2-py3-none-any.whl (235 kB)\n",
            "\u001b[K     |████████████████████████████████| 235 kB 52.1 MB/s \n",
            "\u001b[?25hRequirement already satisfied: wcwidth in /usr/local/lib/python3.7/dist-packages (from ftfy<7.0,>=6.0->clean-text[gpl]) (0.2.5)\n",
            "Requirement already satisfied: zipp>=0.5 in /usr/local/lib/python3.7/dist-packages (from importlib-metadata->transformers) (3.6.0)\n",
            "Requirement already satisfied: urllib3!=1.25.0,!=1.25.1,<1.26,>=1.21.1 in /usr/local/lib/python3.7/dist-packages (from requests->transformers) (1.24.3)\n",
            "Requirement already satisfied: chardet<4,>=3.0.2 in /usr/local/lib/python3.7/dist-packages (from requests->transformers) (3.0.4)\n",
            "Requirement already satisfied: certifi>=2017.4.17 in /usr/local/lib/python3.7/dist-packages (from requests->transformers) (2021.10.8)\n",
            "Requirement already satisfied: idna<3,>=2.5 in /usr/local/lib/python3.7/dist-packages (from requests->transformers) (2.10)\n",
            "Requirement already satisfied: click in /usr/local/lib/python3.7/dist-packages (from sacremoses->transformers) (7.1.2)\n",
            "Requirement already satisfied: joblib in /usr/local/lib/python3.7/dist-packages (from sacremoses->transformers) (1.1.0)\n",
            "Requirement already satisfied: six in /usr/local/lib/python3.7/dist-packages (from sacremoses->transformers) (1.15.0)\n",
            "Building wheels for collected packages: ftfy, emoji\n",
            "  Building wheel for ftfy (setup.py) ... \u001b[?25l\u001b[?25hdone\n",
            "  Created wheel for ftfy: filename=ftfy-6.0.3-py3-none-any.whl size=41933 sha256=80b098b9108f0e66ae764fc010d4f1d796e926d8d1c84f6540ce4efe67b8a424\n",
            "  Stored in directory: /root/.cache/pip/wheels/19/f5/38/273eb3b5e76dfd850619312f693716ac4518b498f5ffb6f56d\n",
            "  Building wheel for emoji (setup.py) ... \u001b[?25l\u001b[?25hdone\n",
            "  Created wheel for emoji: filename=emoji-1.6.1-py3-none-any.whl size=169314 sha256=3aa11480f78c916f3dee56644daabecb6928078ecbe2e38b5d35aa1f19e8287a\n",
            "  Stored in directory: /root/.cache/pip/wheels/ea/5f/d3/03d313ddb3c2a1a427bb4690f1621eea60fe6f2a30cc95940f\n",
            "Successfully built ftfy emoji\n",
            "Installing collected packages: pyyaml, ftfy, emoji, unidecode, tokenizers, sacremoses, huggingface-hub, clean-text, transformers, pytorch-ignite\n",
            "  Attempting uninstall: pyyaml\n",
            "    Found existing installation: PyYAML 3.13\n",
            "    Uninstalling PyYAML-3.13:\n",
            "      Successfully uninstalled PyYAML-3.13\n",
            "Successfully installed clean-text-0.5.0 emoji-1.6.1 ftfy-6.0.3 huggingface-hub-0.2.1 pytorch-ignite-0.4.7 pyyaml-6.0 sacremoses-0.0.46 tokenizers-0.10.3 transformers-4.15.0 unidecode-1.3.2\n"
          ]
        }
      ],
      "source": [
        "!pip install clean-text[gpl] pytorch-ignite transformers"
      ],
      "id": "RTuTM0pgtjjp"
    },
    {
      "cell_type": "code",
      "execution_count": 2,
      "metadata": {
        "id": "naughty-milton"
      },
      "outputs": [],
      "source": [
        "import numpy as np\n",
        "import pandas as pd\n",
        "from typing import Dict\n",
        "import cleantext\n",
        "from imblearn.over_sampling import RandomOverSampler"
      ],
      "id": "naughty-milton"
    },
    {
      "cell_type": "markdown",
      "metadata": {
        "id": "a18VhnUanxhq"
      },
      "source": [
        "# Loading & Preparing Data"
      ],
      "id": "a18VhnUanxhq"
    },
    {
      "cell_type": "markdown",
      "metadata": {
        "id": "Wb6CK3yksQB6"
      },
      "source": [
        "<div dir='rtl'>\n",
        "ابتدا داده‌های یادگیری و ارزیابی را دانلود می‌کنیم\n",
        "و پس از\n",
        "load\n",
        "کردن آن‌ها، شناسه‌شان را حذف می‌کنیم\n",
        "و سپس\n",
        "rate\n",
        "آن‌ها را باینری می‌کنیم\n",
        "</div>"
      ],
      "id": "Wb6CK3yksQB6"
    },
    {
      "cell_type": "code",
      "execution_count": 3,
      "metadata": {
        "colab": {
          "base_uri": "https://localhost:8080/"
        },
        "id": "attached-chocolate",
        "outputId": "c0373b1f-cb50-4918-8145-27459377896e"
      },
      "outputs": [
        {
          "output_type": "stream",
          "name": "stdout",
          "text": [
            "Downloading...\n",
            "From: https://drive.google.com/uc?id=1HH8QFDcvkKfnj4dWmFQceb3PpNqDD8HQ&authuser=0&export=download\n",
            "To: /content/train.csv\n",
            "100% 171k/171k [00:00<00:00, 66.2MB/s]\n",
            "Downloading...\n",
            "From: https://drive.google.com/uc?id=1uDOO8RP7Lr9qcRJO8z3d10qm_UggJv4I&authuser=0&export=download\n",
            "To: /content/eval.csv\n",
            "100% 43.5k/43.5k [00:00<00:00, 72.7MB/s]\n"
          ]
        }
      ],
      "source": [
        "!gdown 'https://drive.google.com/uc?id=1HH8QFDcvkKfnj4dWmFQceb3PpNqDD8HQ&authuser=0&export=download'\n",
        "!gdown 'https://drive.google.com/uc?id=1uDOO8RP7Lr9qcRJO8z3d10qm_UggJv4I&authuser=0&export=download'"
      ],
      "id": "attached-chocolate"
    },
    {
      "cell_type": "code",
      "execution_count": 4,
      "metadata": {
        "id": "christian-number"
      },
      "outputs": [],
      "source": [
        "train_df = pd.read_csv('train.csv')\n",
        "eval_df = pd.read_csv('eval.csv')"
      ],
      "id": "christian-number"
    },
    {
      "cell_type": "code",
      "execution_count": 5,
      "metadata": {
        "colab": {
          "base_uri": "https://localhost:8080/",
          "height": 206
        },
        "id": "0Mcw7kGmoWyi",
        "outputId": "2cf34446-f802-4860-fa0e-cc8f693cfa8a"
      },
      "outputs": [
        {
          "output_type": "execute_result",
          "data": {
            "text/html": [
              "\n",
              "  <div id=\"df-a5d12792-949a-45be-b595-837babb07d60\">\n",
              "    <div class=\"colab-df-container\">\n",
              "      <div>\n",
              "<style scoped>\n",
              "    .dataframe tbody tr th:only-of-type {\n",
              "        vertical-align: middle;\n",
              "    }\n",
              "\n",
              "    .dataframe tbody tr th {\n",
              "        vertical-align: top;\n",
              "    }\n",
              "\n",
              "    .dataframe thead th {\n",
              "        text-align: right;\n",
              "    }\n",
              "</style>\n",
              "<table border=\"1\" class=\"dataframe\">\n",
              "  <thead>\n",
              "    <tr style=\"text-align: right;\">\n",
              "      <th></th>\n",
              "      <th>Unnamed: 0</th>\n",
              "      <th>comment</th>\n",
              "      <th>rate</th>\n",
              "    </tr>\n",
              "  </thead>\n",
              "  <tbody>\n",
              "    <tr>\n",
              "      <th>0</th>\n",
              "      <td>2587</td>\n",
              "      <td>پردازنده های Core i5 و Core i3 نیز ذاتا دو هست...</td>\n",
              "      <td>0.0</td>\n",
              "    </tr>\n",
              "    <tr>\n",
              "      <th>1</th>\n",
              "      <td>22591</td>\n",
              "      <td>سلام به دوستای عزیزم \\nعزاداری هاتون قبول باشه</td>\n",
              "      <td>1.0</td>\n",
              "    </tr>\n",
              "    <tr>\n",
              "      <th>2</th>\n",
              "      <td>141037</td>\n",
              "      <td>کلا پولتون رو دور نریزیزد</td>\n",
              "      <td>-1.0</td>\n",
              "    </tr>\n",
              "    <tr>\n",
              "      <th>3</th>\n",
              "      <td>58593</td>\n",
              "      <td>از صمیم قلب امیدوارم دایانا با کارن بمونه و پو...</td>\n",
              "      <td>1.0</td>\n",
              "    </tr>\n",
              "    <tr>\n",
              "      <th>4</th>\n",
              "      <td>5712</td>\n",
              "      <td>آنطور که اپل ادعا می کند آیپاد شافل دارای طراح...</td>\n",
              "      <td>1.0</td>\n",
              "    </tr>\n",
              "  </tbody>\n",
              "</table>\n",
              "</div>\n",
              "      <button class=\"colab-df-convert\" onclick=\"convertToInteractive('df-a5d12792-949a-45be-b595-837babb07d60')\"\n",
              "              title=\"Convert this dataframe to an interactive table.\"\n",
              "              style=\"display:none;\">\n",
              "        \n",
              "  <svg xmlns=\"http://www.w3.org/2000/svg\" height=\"24px\"viewBox=\"0 0 24 24\"\n",
              "       width=\"24px\">\n",
              "    <path d=\"M0 0h24v24H0V0z\" fill=\"none\"/>\n",
              "    <path d=\"M18.56 5.44l.94 2.06.94-2.06 2.06-.94-2.06-.94-.94-2.06-.94 2.06-2.06.94zm-11 1L8.5 8.5l.94-2.06 2.06-.94-2.06-.94L8.5 2.5l-.94 2.06-2.06.94zm10 10l.94 2.06.94-2.06 2.06-.94-2.06-.94-.94-2.06-.94 2.06-2.06.94z\"/><path d=\"M17.41 7.96l-1.37-1.37c-.4-.4-.92-.59-1.43-.59-.52 0-1.04.2-1.43.59L10.3 9.45l-7.72 7.72c-.78.78-.78 2.05 0 2.83L4 21.41c.39.39.9.59 1.41.59.51 0 1.02-.2 1.41-.59l7.78-7.78 2.81-2.81c.8-.78.8-2.07 0-2.86zM5.41 20L4 18.59l7.72-7.72 1.47 1.35L5.41 20z\"/>\n",
              "  </svg>\n",
              "      </button>\n",
              "      \n",
              "  <style>\n",
              "    .colab-df-container {\n",
              "      display:flex;\n",
              "      flex-wrap:wrap;\n",
              "      gap: 12px;\n",
              "    }\n",
              "\n",
              "    .colab-df-convert {\n",
              "      background-color: #E8F0FE;\n",
              "      border: none;\n",
              "      border-radius: 50%;\n",
              "      cursor: pointer;\n",
              "      display: none;\n",
              "      fill: #1967D2;\n",
              "      height: 32px;\n",
              "      padding: 0 0 0 0;\n",
              "      width: 32px;\n",
              "    }\n",
              "\n",
              "    .colab-df-convert:hover {\n",
              "      background-color: #E2EBFA;\n",
              "      box-shadow: 0px 1px 2px rgba(60, 64, 67, 0.3), 0px 1px 3px 1px rgba(60, 64, 67, 0.15);\n",
              "      fill: #174EA6;\n",
              "    }\n",
              "\n",
              "    [theme=dark] .colab-df-convert {\n",
              "      background-color: #3B4455;\n",
              "      fill: #D2E3FC;\n",
              "    }\n",
              "\n",
              "    [theme=dark] .colab-df-convert:hover {\n",
              "      background-color: #434B5C;\n",
              "      box-shadow: 0px 1px 3px 1px rgba(0, 0, 0, 0.15);\n",
              "      filter: drop-shadow(0px 1px 2px rgba(0, 0, 0, 0.3));\n",
              "      fill: #FFFFFF;\n",
              "    }\n",
              "  </style>\n",
              "\n",
              "      <script>\n",
              "        const buttonEl =\n",
              "          document.querySelector('#df-a5d12792-949a-45be-b595-837babb07d60 button.colab-df-convert');\n",
              "        buttonEl.style.display =\n",
              "          google.colab.kernel.accessAllowed ? 'block' : 'none';\n",
              "\n",
              "        async function convertToInteractive(key) {\n",
              "          const element = document.querySelector('#df-a5d12792-949a-45be-b595-837babb07d60');\n",
              "          const dataTable =\n",
              "            await google.colab.kernel.invokeFunction('convertToInteractive',\n",
              "                                                     [key], {});\n",
              "          if (!dataTable) return;\n",
              "\n",
              "          const docLinkHtml = 'Like what you see? Visit the ' +\n",
              "            '<a target=\"_blank\" href=https://colab.research.google.com/notebooks/data_table.ipynb>data table notebook</a>'\n",
              "            + ' to learn more about interactive tables.';\n",
              "          element.innerHTML = '';\n",
              "          dataTable['output_type'] = 'display_data';\n",
              "          await google.colab.output.renderOutput(dataTable, element);\n",
              "          const docLink = document.createElement('div');\n",
              "          docLink.innerHTML = docLinkHtml;\n",
              "          element.appendChild(docLink);\n",
              "        }\n",
              "      </script>\n",
              "    </div>\n",
              "  </div>\n",
              "  "
            ],
            "text/plain": [
              "   Unnamed: 0                                            comment  rate\n",
              "0        2587  پردازنده های Core i5 و Core i3 نیز ذاتا دو هست...   0.0\n",
              "1       22591     سلام به دوستای عزیزم \\nعزاداری هاتون قبول باشه   1.0\n",
              "2      141037                          کلا پولتون رو دور نریزیزد  -1.0\n",
              "3       58593  از صمیم قلب امیدوارم دایانا با کارن بمونه و پو...   1.0\n",
              "4        5712  آنطور که اپل ادعا می کند آیپاد شافل دارای طراح...   1.0"
            ]
          },
          "metadata": {},
          "execution_count": 5
        }
      ],
      "source": [
        "train_df.head()"
      ],
      "id": "0Mcw7kGmoWyi"
    },
    {
      "cell_type": "code",
      "execution_count": null,
      "metadata": {
        "colab": {
          "base_uri": "https://localhost:8080/",
          "height": 206
        },
        "id": "L4tBlfcToYmg",
        "outputId": "4d706bc0-2b10-420e-803c-7974ad72c37f"
      },
      "outputs": [
        {
          "data": {
            "text/html": [
              "\n",
              "  <div id=\"df-7234c41e-c503-4768-8e47-826357653957\">\n",
              "    <div class=\"colab-df-container\">\n",
              "      <div>\n",
              "<style scoped>\n",
              "    .dataframe tbody tr th:only-of-type {\n",
              "        vertical-align: middle;\n",
              "    }\n",
              "\n",
              "    .dataframe tbody tr th {\n",
              "        vertical-align: top;\n",
              "    }\n",
              "\n",
              "    .dataframe thead th {\n",
              "        text-align: right;\n",
              "    }\n",
              "</style>\n",
              "<table border=\"1\" class=\"dataframe\">\n",
              "  <thead>\n",
              "    <tr style=\"text-align: right;\">\n",
              "      <th></th>\n",
              "      <th>Unnamed: 0</th>\n",
              "      <th>comment</th>\n",
              "      <th>rate</th>\n",
              "    </tr>\n",
              "  </thead>\n",
              "  <tbody>\n",
              "    <tr>\n",
              "      <th>0</th>\n",
              "      <td>61591</td>\n",
              "      <td>کیفیت غذا و زمان رسیدن عالی بود</td>\n",
              "      <td>-1.0</td>\n",
              "    </tr>\n",
              "    <tr>\n",
              "      <th>1</th>\n",
              "      <td>50299</td>\n",
              "      <td>در‌ حد ساندویچ یه نفره بود نه دونفره یا بمب. ک...</td>\n",
              "      <td>1.0</td>\n",
              "    </tr>\n",
              "    <tr>\n",
              "      <th>2</th>\n",
              "      <td>2777</td>\n",
              "      <td>طعم پیتزای چهار فصل مثل همشه خیلی خوب بود اما ...</td>\n",
              "      <td>-1.0</td>\n",
              "    </tr>\n",
              "    <tr>\n",
              "      <th>3</th>\n",
              "      <td>9126</td>\n",
              "      <td>مشخصات سخت افزاری مناسب در کنار سیستم عامل وین...</td>\n",
              "      <td>0.5</td>\n",
              "    </tr>\n",
              "    <tr>\n",
              "      <th>4</th>\n",
              "      <td>7544</td>\n",
              "      <td>مرغش سوخاری و خوشمزه بود، بسته بندی عالی، قیمت...</td>\n",
              "      <td>-1.0</td>\n",
              "    </tr>\n",
              "  </tbody>\n",
              "</table>\n",
              "</div>\n",
              "      <button class=\"colab-df-convert\" onclick=\"convertToInteractive('df-7234c41e-c503-4768-8e47-826357653957')\"\n",
              "              title=\"Convert this dataframe to an interactive table.\"\n",
              "              style=\"display:none;\">\n",
              "        \n",
              "  <svg xmlns=\"http://www.w3.org/2000/svg\" height=\"24px\"viewBox=\"0 0 24 24\"\n",
              "       width=\"24px\">\n",
              "    <path d=\"M0 0h24v24H0V0z\" fill=\"none\"/>\n",
              "    <path d=\"M18.56 5.44l.94 2.06.94-2.06 2.06-.94-2.06-.94-.94-2.06-.94 2.06-2.06.94zm-11 1L8.5 8.5l.94-2.06 2.06-.94-2.06-.94L8.5 2.5l-.94 2.06-2.06.94zm10 10l.94 2.06.94-2.06 2.06-.94-2.06-.94-.94-2.06-.94 2.06-2.06.94z\"/><path d=\"M17.41 7.96l-1.37-1.37c-.4-.4-.92-.59-1.43-.59-.52 0-1.04.2-1.43.59L10.3 9.45l-7.72 7.72c-.78.78-.78 2.05 0 2.83L4 21.41c.39.39.9.59 1.41.59.51 0 1.02-.2 1.41-.59l7.78-7.78 2.81-2.81c.8-.78.8-2.07 0-2.86zM5.41 20L4 18.59l7.72-7.72 1.47 1.35L5.41 20z\"/>\n",
              "  </svg>\n",
              "      </button>\n",
              "      \n",
              "  <style>\n",
              "    .colab-df-container {\n",
              "      display:flex;\n",
              "      flex-wrap:wrap;\n",
              "      gap: 12px;\n",
              "    }\n",
              "\n",
              "    .colab-df-convert {\n",
              "      background-color: #E8F0FE;\n",
              "      border: none;\n",
              "      border-radius: 50%;\n",
              "      cursor: pointer;\n",
              "      display: none;\n",
              "      fill: #1967D2;\n",
              "      height: 32px;\n",
              "      padding: 0 0 0 0;\n",
              "      width: 32px;\n",
              "    }\n",
              "\n",
              "    .colab-df-convert:hover {\n",
              "      background-color: #E2EBFA;\n",
              "      box-shadow: 0px 1px 2px rgba(60, 64, 67, 0.3), 0px 1px 3px 1px rgba(60, 64, 67, 0.15);\n",
              "      fill: #174EA6;\n",
              "    }\n",
              "\n",
              "    [theme=dark] .colab-df-convert {\n",
              "      background-color: #3B4455;\n",
              "      fill: #D2E3FC;\n",
              "    }\n",
              "\n",
              "    [theme=dark] .colab-df-convert:hover {\n",
              "      background-color: #434B5C;\n",
              "      box-shadow: 0px 1px 3px 1px rgba(0, 0, 0, 0.15);\n",
              "      filter: drop-shadow(0px 1px 2px rgba(0, 0, 0, 0.3));\n",
              "      fill: #FFFFFF;\n",
              "    }\n",
              "  </style>\n",
              "\n",
              "      <script>\n",
              "        const buttonEl =\n",
              "          document.querySelector('#df-7234c41e-c503-4768-8e47-826357653957 button.colab-df-convert');\n",
              "        buttonEl.style.display =\n",
              "          google.colab.kernel.accessAllowed ? 'block' : 'none';\n",
              "\n",
              "        async function convertToInteractive(key) {\n",
              "          const element = document.querySelector('#df-7234c41e-c503-4768-8e47-826357653957');\n",
              "          const dataTable =\n",
              "            await google.colab.kernel.invokeFunction('convertToInteractive',\n",
              "                                                     [key], {});\n",
              "          if (!dataTable) return;\n",
              "\n",
              "          const docLinkHtml = 'Like what you see? Visit the ' +\n",
              "            '<a target=\"_blank\" href=https://colab.research.google.com/notebooks/data_table.ipynb>data table notebook</a>'\n",
              "            + ' to learn more about interactive tables.';\n",
              "          element.innerHTML = '';\n",
              "          dataTable['output_type'] = 'display_data';\n",
              "          await google.colab.output.renderOutput(dataTable, element);\n",
              "          const docLink = document.createElement('div');\n",
              "          docLink.innerHTML = docLinkHtml;\n",
              "          element.appendChild(docLink);\n",
              "        }\n",
              "      </script>\n",
              "    </div>\n",
              "  </div>\n",
              "  "
            ],
            "text/plain": [
              "   Unnamed: 0                                            comment  rate\n",
              "0       61591                    کیفیت غذا و زمان رسیدن عالی بود  -1.0\n",
              "1       50299  در‌ حد ساندویچ یه نفره بود نه دونفره یا بمب. ک...   1.0\n",
              "2        2777  طعم پیتزای چهار فصل مثل همشه خیلی خوب بود اما ...  -1.0\n",
              "3        9126  مشخصات سخت افزاری مناسب در کنار سیستم عامل وین...   0.5\n",
              "4        7544  مرغش سوخاری و خوشمزه بود، بسته بندی عالی، قیمت...  -1.0"
            ]
          },
          "execution_count": 6,
          "metadata": {},
          "output_type": "execute_result"
        }
      ],
      "source": [
        "eval_df.head()"
      ],
      "id": "L4tBlfcToYmg"
    },
    {
      "cell_type": "code",
      "execution_count": 6,
      "metadata": {
        "id": "9hppW6kwoc9N"
      },
      "outputs": [],
      "source": [
        "train_df = train_df.drop(train_df.columns[0], axis=1)\n",
        "eval_df = eval_df.drop(eval_df.columns[0], axis=1)"
      ],
      "id": "9hppW6kwoc9N"
    },
    {
      "cell_type": "code",
      "execution_count": 7,
      "metadata": {
        "colab": {
          "base_uri": "https://localhost:8080/"
        },
        "id": "RIVevpfPonAK",
        "outputId": "602d7f14-f80f-4e73-f1f0-bdb08e677779"
      },
      "outputs": [
        {
          "output_type": "stream",
          "name": "stdout",
          "text": [
            "104 out of 800 train comments have rate zero.\n",
            "30 out of 200 eval comments have rate zero.\n"
          ]
        }
      ],
      "source": [
        "print(f\"{len(train_df[train_df.rate == 0])} out of {len(train_df)} train comments have rate zero.\")\n",
        "print(f\"{len(eval_df[eval_df.rate == 0])} out of {len(eval_df)} eval comments have rate zero.\")"
      ],
      "id": "RIVevpfPonAK"
    },
    {
      "cell_type": "code",
      "execution_count": 8,
      "metadata": {
        "id": "fN3mSVdDp656"
      },
      "outputs": [],
      "source": [
        "train_df = train_df[train_df.rate != 0]\n",
        "eval_df  = eval_df[eval_df.rate != 0]"
      ],
      "id": "fN3mSVdDp656"
    },
    {
      "cell_type": "code",
      "execution_count": 9,
      "metadata": {
        "id": "7QKtjCFpo9xI"
      },
      "outputs": [],
      "source": [
        "train_df['rate'] = train_df.rate.apply(lambda r: 1 if r > 0 else 0)\n",
        "eval_df['rate'] = eval_df.rate.apply(lambda r: 1 if r > 0 else 0)"
      ],
      "id": "7QKtjCFpo9xI"
    },
    {
      "cell_type": "markdown",
      "metadata": {
        "id": "6ppN5iFXqUqC"
      },
      "source": [
        "## Balancing Dataset"
      ],
      "id": "6ppN5iFXqUqC"
    },
    {
      "cell_type": "markdown",
      "metadata": {
        "id": "u7YStS0dszG4"
      },
      "source": [
        "<div dir='rtl'>\n",
        "همانطور که در زیر می‌بینید، داده‌ها متوازن نیستند. ما از استراتژی over-sampling روی دسته‌ی منفی استفاده می‌کنیم تا داده‌های balanced شوند.\n",
        "</div>"
      ],
      "id": "u7YStS0dszG4"
    },
    {
      "cell_type": "code",
      "execution_count": 10,
      "metadata": {
        "colab": {
          "base_uri": "https://localhost:8080/",
          "height": 112
        },
        "id": "7UcccdyZrvkJ",
        "outputId": "cfd26719-0fcd-4aa2-9bf8-9df5fde7dbc3"
      },
      "outputs": [
        {
          "output_type": "execute_result",
          "data": {
            "text/html": [
              "\n",
              "  <div id=\"df-b4e67d60-54be-4b44-a204-858a66c77f59\">\n",
              "    <div class=\"colab-df-container\">\n",
              "      <div>\n",
              "<style scoped>\n",
              "    .dataframe tbody tr th:only-of-type {\n",
              "        vertical-align: middle;\n",
              "    }\n",
              "\n",
              "    .dataframe tbody tr th {\n",
              "        vertical-align: top;\n",
              "    }\n",
              "\n",
              "    .dataframe thead th {\n",
              "        text-align: right;\n",
              "    }\n",
              "</style>\n",
              "<table border=\"1\" class=\"dataframe\">\n",
              "  <thead>\n",
              "    <tr style=\"text-align: right;\">\n",
              "      <th></th>\n",
              "      <th>train</th>\n",
              "      <th>eval</th>\n",
              "    </tr>\n",
              "  </thead>\n",
              "  <tbody>\n",
              "    <tr>\n",
              "      <th>1</th>\n",
              "      <td>502</td>\n",
              "      <td>115</td>\n",
              "    </tr>\n",
              "    <tr>\n",
              "      <th>0</th>\n",
              "      <td>194</td>\n",
              "      <td>55</td>\n",
              "    </tr>\n",
              "  </tbody>\n",
              "</table>\n",
              "</div>\n",
              "      <button class=\"colab-df-convert\" onclick=\"convertToInteractive('df-b4e67d60-54be-4b44-a204-858a66c77f59')\"\n",
              "              title=\"Convert this dataframe to an interactive table.\"\n",
              "              style=\"display:none;\">\n",
              "        \n",
              "  <svg xmlns=\"http://www.w3.org/2000/svg\" height=\"24px\"viewBox=\"0 0 24 24\"\n",
              "       width=\"24px\">\n",
              "    <path d=\"M0 0h24v24H0V0z\" fill=\"none\"/>\n",
              "    <path d=\"M18.56 5.44l.94 2.06.94-2.06 2.06-.94-2.06-.94-.94-2.06-.94 2.06-2.06.94zm-11 1L8.5 8.5l.94-2.06 2.06-.94-2.06-.94L8.5 2.5l-.94 2.06-2.06.94zm10 10l.94 2.06.94-2.06 2.06-.94-2.06-.94-.94-2.06-.94 2.06-2.06.94z\"/><path d=\"M17.41 7.96l-1.37-1.37c-.4-.4-.92-.59-1.43-.59-.52 0-1.04.2-1.43.59L10.3 9.45l-7.72 7.72c-.78.78-.78 2.05 0 2.83L4 21.41c.39.39.9.59 1.41.59.51 0 1.02-.2 1.41-.59l7.78-7.78 2.81-2.81c.8-.78.8-2.07 0-2.86zM5.41 20L4 18.59l7.72-7.72 1.47 1.35L5.41 20z\"/>\n",
              "  </svg>\n",
              "      </button>\n",
              "      \n",
              "  <style>\n",
              "    .colab-df-container {\n",
              "      display:flex;\n",
              "      flex-wrap:wrap;\n",
              "      gap: 12px;\n",
              "    }\n",
              "\n",
              "    .colab-df-convert {\n",
              "      background-color: #E8F0FE;\n",
              "      border: none;\n",
              "      border-radius: 50%;\n",
              "      cursor: pointer;\n",
              "      display: none;\n",
              "      fill: #1967D2;\n",
              "      height: 32px;\n",
              "      padding: 0 0 0 0;\n",
              "      width: 32px;\n",
              "    }\n",
              "\n",
              "    .colab-df-convert:hover {\n",
              "      background-color: #E2EBFA;\n",
              "      box-shadow: 0px 1px 2px rgba(60, 64, 67, 0.3), 0px 1px 3px 1px rgba(60, 64, 67, 0.15);\n",
              "      fill: #174EA6;\n",
              "    }\n",
              "\n",
              "    [theme=dark] .colab-df-convert {\n",
              "      background-color: #3B4455;\n",
              "      fill: #D2E3FC;\n",
              "    }\n",
              "\n",
              "    [theme=dark] .colab-df-convert:hover {\n",
              "      background-color: #434B5C;\n",
              "      box-shadow: 0px 1px 3px 1px rgba(0, 0, 0, 0.15);\n",
              "      filter: drop-shadow(0px 1px 2px rgba(0, 0, 0, 0.3));\n",
              "      fill: #FFFFFF;\n",
              "    }\n",
              "  </style>\n",
              "\n",
              "      <script>\n",
              "        const buttonEl =\n",
              "          document.querySelector('#df-b4e67d60-54be-4b44-a204-858a66c77f59 button.colab-df-convert');\n",
              "        buttonEl.style.display =\n",
              "          google.colab.kernel.accessAllowed ? 'block' : 'none';\n",
              "\n",
              "        async function convertToInteractive(key) {\n",
              "          const element = document.querySelector('#df-b4e67d60-54be-4b44-a204-858a66c77f59');\n",
              "          const dataTable =\n",
              "            await google.colab.kernel.invokeFunction('convertToInteractive',\n",
              "                                                     [key], {});\n",
              "          if (!dataTable) return;\n",
              "\n",
              "          const docLinkHtml = 'Like what you see? Visit the ' +\n",
              "            '<a target=\"_blank\" href=https://colab.research.google.com/notebooks/data_table.ipynb>data table notebook</a>'\n",
              "            + ' to learn more about interactive tables.';\n",
              "          element.innerHTML = '';\n",
              "          dataTable['output_type'] = 'display_data';\n",
              "          await google.colab.output.renderOutput(dataTable, element);\n",
              "          const docLink = document.createElement('div');\n",
              "          docLink.innerHTML = docLinkHtml;\n",
              "          element.appendChild(docLink);\n",
              "        }\n",
              "      </script>\n",
              "    </div>\n",
              "  </div>\n",
              "  "
            ],
            "text/plain": [
              "   train  eval\n",
              "1    502   115\n",
              "0    194    55"
            ]
          },
          "metadata": {},
          "execution_count": 10
        }
      ],
      "source": [
        "pd.concat([train_df.rate.value_counts().rename('train'),\n",
        "           eval_df.rate.value_counts().rename('eval')], axis=1)"
      ],
      "id": "7UcccdyZrvkJ"
    },
    {
      "cell_type": "code",
      "execution_count": 11,
      "metadata": {
        "id": "Kawgs4h-q01l"
      },
      "outputs": [],
      "source": [
        "balancer = RandomOverSampler(random_state=41)\n",
        "train_df, _ = balancer.fit_resample(train_df, train_df.rate)\n",
        "eval_df, _ = balancer.fit_resample(eval_df, eval_df.rate)"
      ],
      "id": "Kawgs4h-q01l"
    },
    {
      "cell_type": "markdown",
      "metadata": {
        "id": "4_EwWGNEtZpE"
      },
      "source": [
        "## Normalization"
      ],
      "id": "4_EwWGNEtZpE"
    },
    {
      "cell_type": "markdown",
      "metadata": {
        "id": "Ofg4cWa5tJXt"
      },
      "source": [
        "<div dir='rtl'>\n",
        "در این بخش با استفاده از کتاب‌خانه cleantext داده‌ها را نرمال‌سازی می‌کنیم.\n",
        "</div>"
      ],
      "id": "Ofg4cWa5tJXt"
    },
    {
      "cell_type": "code",
      "execution_count": 12,
      "metadata": {
        "id": "eCIhQtnNtcqC"
      },
      "outputs": [],
      "source": [
        "params = {'to_ascii':False, 'no_urls':True,    'no_phone_numbers':True, 'no_line_breaks':True,\n",
        "          'no_emails':True, 'no_numbers':True, 'no_digits':True,        'no_currency_symbols':True}\n",
        "\n",
        "train_df['comment'] = train_df.comment.apply(lambda c: cleantext.clean(c,**params))\n",
        "eval_df['comment'] = eval_df.comment.apply(lambda c: cleantext.clean(c,**params))"
      ],
      "id": "eCIhQtnNtcqC"
    },
    {
      "cell_type": "markdown",
      "metadata": {
        "id": "b2h0tSfFK3tU"
      },
      "source": [
        "## Vocabulary"
      ],
      "id": "b2h0tSfFK3tU"
    },
    {
      "cell_type": "markdown",
      "metadata": {
        "id": "gge7Adbhu2EW"
      },
      "source": [
        "<div dir='rtl'>\n",
        "در این بخش از یک مجموعه داده استفاده می‌کنیم و آن را استفاده از دادگان یادگیری به روز می‌کنیم\n",
        "</div>"
      ],
      "id": "gge7Adbhu2EW"
    },
    {
      "cell_type": "code",
      "execution_count": null,
      "metadata": {
        "colab": {
          "base_uri": "https://localhost:8080/",
          "height": 201
        },
        "id": "knqCK2waK3tU",
        "outputId": "8beba562-e7df-45bd-fcc4-ed63035a14a3"
      },
      "outputs": [
        {
          "ename": "FileNotFoundError",
          "evalue": "ignored",
          "output_type": "error",
          "traceback": [
            "\u001b[0;31m---------------------------------------------------------------------------\u001b[0m",
            "\u001b[0;31mFileNotFoundError\u001b[0m                         Traceback (most recent call last)",
            "\u001b[0;32m<ipython-input-14-6898abc23abc>\u001b[0m in \u001b[0;36m<module>\u001b[0;34m()\u001b[0m\n\u001b[0;32m----> 1\u001b[0;31m \u001b[0;32mwith\u001b[0m \u001b[0mopen\u001b[0m\u001b[0;34m(\u001b[0m\u001b[0;34m\"vocab.txt\"\u001b[0m\u001b[0;34m)\u001b[0m \u001b[0;32mas\u001b[0m \u001b[0mfp\u001b[0m\u001b[0;34m:\u001b[0m\u001b[0;34m\u001b[0m\u001b[0;34m\u001b[0m\u001b[0m\n\u001b[0m\u001b[1;32m      2\u001b[0m     \u001b[0mwords\u001b[0m \u001b[0;34m=\u001b[0m \u001b[0mset\u001b[0m\u001b[0;34m(\u001b[0m\u001b[0;34m[\u001b[0m\u001b[0mw\u001b[0m\u001b[0;34m.\u001b[0m\u001b[0mstrip\u001b[0m\u001b[0;34m(\u001b[0m\u001b[0;34m)\u001b[0m \u001b[0;32mfor\u001b[0m \u001b[0mw\u001b[0m \u001b[0;32min\u001b[0m \u001b[0mfp\u001b[0m\u001b[0;34m.\u001b[0m\u001b[0mreadlines\u001b[0m\u001b[0;34m(\u001b[0m\u001b[0;34m)\u001b[0m\u001b[0;34m]\u001b[0m\u001b[0;34m)\u001b[0m\u001b[0;34m\u001b[0m\u001b[0;34m\u001b[0m\u001b[0m\n\u001b[1;32m      3\u001b[0m \u001b[0mlen\u001b[0m\u001b[0;34m(\u001b[0m\u001b[0mwords\u001b[0m\u001b[0;34m)\u001b[0m\u001b[0;34m\u001b[0m\u001b[0;34m\u001b[0m\u001b[0m\n",
            "\u001b[0;31mFileNotFoundError\u001b[0m: [Errno 2] No such file or directory: 'vocab.txt'"
          ]
        }
      ],
      "source": [
        "with open(\"vocab.txt\") as fp:\n",
        "    words = set([w.strip() for w in fp.readlines()])\n",
        "len(words)"
      ],
      "id": "knqCK2waK3tU"
    },
    {
      "cell_type": "code",
      "execution_count": null,
      "metadata": {
        "id": "UPov_cztK3tV"
      },
      "outputs": [],
      "source": [
        "from nltk.tokenize import word_tokenize\n",
        "\n",
        "for c in train_df['comment']:\n",
        "    words.update(word_tokenize(c))"
      ],
      "id": "UPov_cztK3tV"
    },
    {
      "cell_type": "code",
      "execution_count": null,
      "metadata": {
        "id": "ytN7rAQzK3tW"
      },
      "outputs": [],
      "source": [
        "vocab = sorted(words)"
      ],
      "id": "ytN7rAQzK3tW"
    },
    {
      "cell_type": "code",
      "execution_count": null,
      "metadata": {
        "id": "dsZp6d35K3tX"
      },
      "outputs": [],
      "source": [
        "with open('vocab.txt', 'w') as fw:\n",
        "    for w in vocab:\n",
        "        fw.write(w + '\\n')"
      ],
      "id": "dsZp6d35K3tX"
    },
    {
      "cell_type": "code",
      "execution_count": null,
      "metadata": {
        "id": "xoT4QodcK3tX"
      },
      "outputs": [],
      "source": [
        "len(vocab)"
      ],
      "id": "xoT4QodcK3tX"
    },
    {
      "cell_type": "markdown",
      "metadata": {
        "id": "xcU7TIPZ2pfG"
      },
      "source": [
        "# Method 1: Linear Models"
      ],
      "id": "xcU7TIPZ2pfG"
    },
    {
      "cell_type": "markdown",
      "metadata": {
        "id": "IwXJ-Y2uvKS9"
      },
      "source": [
        "<div dir='rtl'>\n",
        "در بخش دسته‌بندی خطی، ما از Tf-Idf برای تبدیل متون به بردار استفاده می‌کنیم\n",
        "و سپس با استفاده از رگرسیون خطی و SVM دسته‌بندی را انجام می‌دهیم\n",
        "</div>"
      ],
      "id": "IwXJ-Y2uvKS9"
    },
    {
      "cell_type": "markdown",
      "metadata": {
        "id": "-wF_v5IDV1Fa"
      },
      "source": [
        "## Import Statements"
      ],
      "id": "-wF_v5IDV1Fa"
    },
    {
      "cell_type": "code",
      "execution_count": null,
      "metadata": {
        "id": "5B-wwyiYV27Y"
      },
      "outputs": [],
      "source": [
        "from sklearn.linear_model import LogisticRegression\n",
        "from sklearn.svm import LinearSVC\n",
        "from sklearn.feature_extraction.text import TfidfVectorizer\n",
        "from sklearn.pipeline import Pipeline\n",
        "from sklearn.feature_selection import SelectFromModel\n",
        "from sklearn.model_selection import GridSearchCV"
      ],
      "id": "5B-wwyiYV27Y"
    },
    {
      "cell_type": "code",
      "execution_count": null,
      "metadata": {
        "id": "v2_juBOy3xIW"
      },
      "outputs": [],
      "source": [
        "vectorizer = TfidfVectorizer(max_features=600, ngram_range=(1,3))"
      ],
      "id": "v2_juBOy3xIW"
    },
    {
      "cell_type": "code",
      "execution_count": null,
      "metadata": {
        "colab": {
          "base_uri": "https://localhost:8080/"
        },
        "id": "XOPXtNPEww7e",
        "outputId": "756e1084-6552-466c-b27e-67c2c489ecd9"
      },
      "outputs": [
        {
          "data": {
            "text/plain": [
              "Pipeline(steps=[('embedding',\n",
              "                 TfidfVectorizer(max_features=600, ngram_range=(1, 3))),\n",
              "                ('classifier', LinearSVC())])"
            ]
          },
          "execution_count": 39,
          "metadata": {},
          "output_type": "execute_result"
        }
      ],
      "source": [
        "pipeline = Pipeline([('embedding', vectorizer),\n",
        "                     ('classifier', LinearSVC())])\n",
        "pipeline.fit(train_df.comment, train_df.rate)"
      ],
      "id": "XOPXtNPEww7e"
    },
    {
      "cell_type": "markdown",
      "metadata": {
        "id": "SHTNpGAl4LDP"
      },
      "source": [
        "## Hyper-parameter Tuning\n"
      ],
      "id": "SHTNpGAl4LDP"
    },
    {
      "cell_type": "markdown",
      "metadata": {
        "id": "ZPsxX4TuwwHo"
      },
      "source": [
        "<div dir='rtl'>\n",
        "حال با استفاده از GridSearchCV\n",
        "از بین تنظیمات مختلف برای Tf-Idf\n",
        "و دسته‌بند مورد استفاده، بهترین تنظیمات را به دست می‌آوریم\n",
        "</div>"
      ],
      "id": "ZPsxX4TuwwHo"
    },
    {
      "cell_type": "code",
      "execution_count": null,
      "metadata": {
        "id": "6_XBYuBT4R0V"
      },
      "outputs": [],
      "source": [
        "param_grid = {'embedding__ngram_range': [(1,2),(1,3),(1,4)],\n",
        "              'embedding__max_features': range(100, 3000, 100),\n",
        "              'classifier': [LinearSVC(),LogisticRegression()]}"
      ],
      "id": "6_XBYuBT4R0V"
    },
    {
      "cell_type": "code",
      "execution_count": null,
      "metadata": {
        "colab": {
          "base_uri": "https://localhost:8080/"
        },
        "id": "3rnv3weP4-gP",
        "outputId": "77c889bb-ecf7-4c20-b989-5222d99d1ff8"
      },
      "outputs": [
        {
          "name": "stdout",
          "output_type": "stream",
          "text": [
            "Fitting 1 folds for each of 174 candidates, totalling 174 fits\n"
          ]
        }
      ],
      "source": [
        "# The smelling code here is due to Scikit GridSearchCV's specific input for `cv` parameter.\n",
        "# GridSearchCV and other meta-estimators in Scikit accept whole data (train+eval) in their `fit`\n",
        "# method. So if you have a dataset separated in train and eval parts beforehand, you should\n",
        "# concatenate them. Beside that you have to give indices of train and eval parts as the `cv` parameter.\n",
        "\n",
        "train_eval = pd.concat((train_df, eval_df), ignore_index=True)\n",
        "train_eval_indices = [(train_df.index, eval_df.index + len(train_df))]\n",
        "meta_estimator = GridSearchCV(pipeline, param_grid, scoring=['accuracy', 'f1'],\n",
        "                              cv=train_eval_indices, refit='f1', verbose=1)\n",
        "_ = meta_estimator.fit(train_eval.comment, train_eval.rate)"
      ],
      "id": "3rnv3weP4-gP"
    },
    {
      "cell_type": "code",
      "execution_count": null,
      "metadata": {
        "colab": {
          "base_uri": "https://localhost:8080/"
        },
        "id": "IxJhaX4YDuhs",
        "outputId": "7f0cea2b-2d3a-481f-9c00-c622aff4299d"
      },
      "outputs": [
        {
          "data": {
            "text/plain": [
              "{'classifier': LinearSVC(),\n",
              " 'embedding__max_features': 600,\n",
              " 'embedding__ngram_range': (1, 3)}"
            ]
          },
          "execution_count": 42,
          "metadata": {},
          "output_type": "execute_result"
        }
      ],
      "source": [
        "meta_estimator.best_params_"
      ],
      "id": "IxJhaX4YDuhs"
    },
    {
      "cell_type": "markdown",
      "metadata": {
        "id": "Y59bzXp9xCVH"
      },
      "source": [
        "<div dir='rtl'>\n",
        " دسته‌بند بهینه SVM است\n",
        "</div>"
      ],
      "id": "Y59bzXp9xCVH"
    },
    {
      "cell_type": "code",
      "execution_count": null,
      "metadata": {
        "colab": {
          "base_uri": "https://localhost:8080/"
        },
        "id": "VsTd-cnTD8SJ",
        "outputId": "b38680a2-1a61-424c-a6c4-3fbd041bb335"
      },
      "outputs": [
        {
          "name": "stdout",
          "output_type": "stream",
          "text": [
            "Best model F1: 0.7063197026022304\n"
          ]
        }
      ],
      "source": [
        "print(f\"Best model F1: {meta_estimator.best_score_}\")"
      ],
      "id": "VsTd-cnTD8SJ"
    },
    {
      "cell_type": "markdown",
      "metadata": {
        "id": "3obiJVnpEkbe"
      },
      "source": [
        "## Determining Marker Features"
      ],
      "id": "3obiJVnpEkbe"
    },
    {
      "cell_type": "markdown",
      "metadata": {
        "id": "Fym8gprqxq3c"
      },
      "source": [
        "<div dir='rtl'>\n",
        "سپس بر اساس میزان تأثیرگذاری featureها\n",
        "در دسته‌بندی، ده تای مهم آن را استخراج کرده و سپس کلمات مربوط به آن‌ها به عنوان مارکرها بازیابی می‌کنیم\n",
        "</div>"
      ],
      "id": "Fym8gprqxq3c"
    },
    {
      "cell_type": "code",
      "execution_count": null,
      "metadata": {
        "colab": {
          "base_uri": "https://localhost:8080/"
        },
        "id": "rSqPMgiBEn9H",
        "outputId": "0e9ecbbe-a784-4553-ee11-9dad1549a747"
      },
      "outputs": [
        {
          "data": {
            "text/plain": [
              "array(['ارسال', 'اینکه', 'لک', 'معمولی', 'من خیلی', 'میدان', 'نيست',\n",
              "       'هم که', 'چندان', 'کاملا'], dtype=object)"
            ]
          },
          "execution_count": 44,
          "metadata": {},
          "output_type": "execute_result"
        }
      ],
      "source": [
        "selector = SelectFromModel(pipeline, threshold=-np.inf, max_features=10, prefit=True,\n",
        "                           importance_getter='named_steps.classifier.coef_')\n",
        "\n",
        "pipeline['embedding'].get_feature_names_out()[selector.get_support()]"
      ],
      "id": "rSqPMgiBEn9H"
    },
    {
      "cell_type": "markdown",
      "metadata": {
        "id": "IXg2hxaADT0m"
      },
      "source": [
        "# Method 2: Neural Networks"
      ],
      "id": "IXg2hxaADT0m"
    },
    {
      "cell_type": "code",
      "execution_count": null,
      "metadata": {
        "id": "MTb3Yk6_DY69"
      },
      "outputs": [],
      "source": [
        "import tensorflow as tf"
      ],
      "id": "MTb3Yk6_DY69"
    },
    {
      "cell_type": "code",
      "execution_count": null,
      "metadata": {
        "id": "l6sgCczBK3th"
      },
      "outputs": [],
      "source": [
        "EMBED_DIM = 200\n",
        "SEQ_LEN = 64\n",
        "VOCAB_SIZE = len(vocab)\n",
        "BATCH_SIZE = 20\n",
        "CLASS_NO = 2"
      ],
      "id": "l6sgCczBK3th"
    },
    {
      "cell_type": "code",
      "execution_count": null,
      "metadata": {
        "id": "5rBRgX7yK3ti"
      },
      "outputs": [],
      "source": [
        "train_ds = tf.data.Dataset.from_tensor_slices((train_df['comment'], train_df['rate'])).shuffle(buffer_size=len(train_df)).batch(BATCH_SIZE).prefetch(buffer_size=tf.data.AUTOTUNE)\n",
        "eval_ds = tf.data.Dataset.from_tensor_slices((eval_df['comment'], eval_df['rate'])).shuffle(buffer_size=len(eval_df)).batch(BATCH_SIZE).prefetch(buffer_size=tf.data.AUTOTUNE)"
      ],
      "id": "5rBRgX7yK3ti"
    },
    {
      "cell_type": "code",
      "execution_count": null,
      "metadata": {
        "id": "lo7PgJBDK3tj"
      },
      "outputs": [],
      "source": [
        "from tensorflow.keras.layers import TextVectorization, Embedding, Input, Dense, Bidirectional, LSTM\n",
        "from tensorflow.keras.models import Sequential\n",
        "\n",
        "def create_lstm_model(lstm_dim=64, dense_dim=16):\n",
        "    vectorizer = TextVectorization(vocabulary='vocab.txt',\n",
        "                                   output_mode='int', \n",
        "                                   output_sequence_length=SEQ_LEN)\n",
        "    return Sequential([\n",
        "        Input(shape=(1,), dtype=tf.string),\n",
        "        vectorizer,\n",
        "        Embedding(VOCAB_SIZE + 4, EMBED_DIM, name='embedding'),\n",
        "        Bidirectional(LSTM(lstm_dim)),\n",
        "        Dense(dense_dim, activation='relu'),\n",
        "        Dense(CLASS_NO, 'softmax')\n",
        "    ])"
      ],
      "id": "lo7PgJBDK3tj"
    },
    {
      "cell_type": "code",
      "execution_count": null,
      "metadata": {
        "id": "1n9KNNf0K3tk"
      },
      "outputs": [],
      "source": [
        "from keras import backend as K\n",
        "\n",
        "def recall_m(y_true, y_pred):\n",
        "    true_positives = K.sum(K.round(K.clip(y_true * y_pred, 0, 1)))\n",
        "    possible_positives = K.sum(K.round(K.clip(y_true, 0, 1)))\n",
        "    recall = true_positives / (possible_positives + K.epsilon())\n",
        "    return recall\n",
        "\n",
        "def precision_m(y_true, y_pred):\n",
        "    true_positives = K.sum(K.round(K.clip(y_true * y_pred, 0, 1)))\n",
        "    predicted_positives = K.sum(K.round(K.clip(y_pred, 0, 1)))\n",
        "    precision = true_positives / (predicted_positives + K.epsilon())\n",
        "    return precision\n",
        "\n",
        "def f1_m(y_true, y_pred):\n",
        "    precision = precision_m(y_true, y_pred)\n",
        "    recall = recall_m(y_true, y_pred)\n",
        "    return 2*((precision*recall)/(precision+recall+K.epsilon()))"
      ],
      "id": "1n9KNNf0K3tk"
    },
    {
      "cell_type": "code",
      "execution_count": null,
      "metadata": {
        "id": "MXfuCp_0K3tl"
      },
      "outputs": [],
      "source": [
        "model = create_lstm_model()\n",
        "model.compile(optimizer='adam', loss='sparse_categorical_crossentropy', metrics=['accuracy', f1_m])"
      ],
      "id": "MXfuCp_0K3tl"
    },
    {
      "cell_type": "code",
      "execution_count": null,
      "metadata": {
        "id": "NShPLmbSK3tm",
        "outputId": "2ee8edfb-4825-4b87-fd96-c97c568428d6"
      },
      "outputs": [
        {
          "data": {
            "text/plain": [
              "60275"
            ]
          },
          "execution_count": 25,
          "metadata": {},
          "output_type": "execute_result"
        }
      ],
      "source": [
        "len(model.layers[0].get_vocabulary())"
      ],
      "id": "NShPLmbSK3tm"
    },
    {
      "cell_type": "code",
      "execution_count": null,
      "metadata": {
        "id": "uE9dhHdQK3tn",
        "outputId": "504cfc71-c85c-4d40-93e8-720f18413455"
      },
      "outputs": [
        {
          "name": "stdout",
          "output_type": "stream",
          "text": [
            "Model: \"sequential\"\n",
            "_________________________________________________________________\n",
            " Layer (type)                Output Shape              Param #   \n",
            "=================================================================\n",
            " text_vectorization_1 (TextV  (None, 64)               0         \n",
            " ectorization)                                                   \n",
            "                                                                 \n",
            " embedding (Embedding)       (None, 64, 200)           12055000  \n",
            "                                                                 \n",
            " bidirectional (Bidirectiona  (None, 128)              135680    \n",
            " l)                                                              \n",
            "                                                                 \n",
            " dense (Dense)               (None, 16)                2064      \n",
            "                                                                 \n",
            " dense_1 (Dense)             (None, 2)                 34        \n",
            "                                                                 \n",
            "=================================================================\n",
            "Total params: 12,192,778\n",
            "Trainable params: 12,192,778\n",
            "Non-trainable params: 0\n",
            "_________________________________________________________________\n"
          ]
        }
      ],
      "source": [
        "model.summary()"
      ],
      "id": "uE9dhHdQK3tn"
    },
    {
      "cell_type": "code",
      "execution_count": null,
      "metadata": {
        "id": "CwKOfhNRK3tn"
      },
      "outputs": [],
      "source": [
        "from tensorflow.keras.callbacks import EarlyStopping\n",
        "\n",
        "es = EarlyStopping(monitor='val_accuracy', mode='max')"
      ],
      "id": "CwKOfhNRK3tn"
    },
    {
      "cell_type": "code",
      "execution_count": null,
      "metadata": {
        "id": "l2VYVMfIK3to",
        "outputId": "6a27023b-2ba4-4709-93aa-5ffa51906829"
      },
      "outputs": [
        {
          "name": "stdout",
          "output_type": "stream",
          "text": [
            "Epoch 1/10\n",
            "51/51 [==============================] - 14s 207ms/step - loss: 0.6790 - accuracy: 0.5916 - f1_m: 0.6463 - val_loss: 0.6745 - val_accuracy: 0.6000 - val_f1_m: 0.6604\n",
            "Epoch 2/10\n",
            "51/51 [==============================] - 10s 195ms/step - loss: 0.3515 - accuracy: 0.8855 - f1_m: 0.6558 - val_loss: 0.9430 - val_accuracy: 0.6130 - val_f1_m: 0.6616\n",
            "Epoch 3/10\n",
            "51/51 [==============================] - 10s 191ms/step - loss: 0.0733 - accuracy: 0.9801 - f1_m: 0.6623 - val_loss: 1.2968 - val_accuracy: 0.6130 - val_f1_m: 0.6530\n",
            "Epoch 4/10\n",
            "51/51 [==============================] - 10s 189ms/step - loss: 0.0254 - accuracy: 0.9920 - f1_m: 0.6569 - val_loss: 1.3554 - val_accuracy: 0.6261 - val_f1_m: 0.6655\n",
            "Epoch 5/10\n",
            "51/51 [==============================] - 10s 193ms/step - loss: 0.0131 - accuracy: 0.9960 - f1_m: 0.6586 - val_loss: 1.8099 - val_accuracy: 0.6304 - val_f1_m: 0.6607\n",
            "Epoch 6/10\n",
            "51/51 [==============================] - 10s 193ms/step - loss: 0.0112 - accuracy: 0.9960 - f1_m: 0.6631 - val_loss: 1.9341 - val_accuracy: 0.6348 - val_f1_m: 0.6638\n",
            "Epoch 7/10\n",
            "51/51 [==============================] - 10s 189ms/step - loss: 0.0090 - accuracy: 0.9960 - f1_m: 0.6503 - val_loss: 1.8458 - val_accuracy: 0.6261 - val_f1_m: 0.6607\n",
            "Epoch 8/10\n",
            "51/51 [==============================] - 10s 195ms/step - loss: 0.0069 - accuracy: 0.9970 - f1_m: 0.6540 - val_loss: 2.0690 - val_accuracy: 0.6348 - val_f1_m: 0.6407\n",
            "Epoch 9/10\n",
            "51/51 [==============================] - 10s 193ms/step - loss: 0.0060 - accuracy: 0.9970 - f1_m: 0.6564 - val_loss: 2.1402 - val_accuracy: 0.6348 - val_f1_m: 0.6535\n",
            "Epoch 10/10\n",
            "51/51 [==============================] - 10s 193ms/step - loss: 0.0082 - accuracy: 0.9980 - f1_m: 0.6613 - val_loss: 2.1468 - val_accuracy: 0.6304 - val_f1_m: 0.6595\n"
          ]
        },
        {
          "data": {
            "text/plain": [
              "<keras.callbacks.History at 0x7f45be82c5e0>"
            ]
          },
          "execution_count": 28,
          "metadata": {},
          "output_type": "execute_result"
        }
      ],
      "source": [
        "model.fit(train_ds, validation_data=eval_ds, epochs=10)"
      ],
      "id": "l2VYVMfIK3to"
    },
    {
      "cell_type": "markdown",
      "metadata": {
        "id": "w6iqEzrQDYG5"
      },
      "source": [
        "# Method 3: Pre-trained Language Models"
      ],
      "id": "w6iqEzrQDYG5"
    },
    {
      "cell_type": "markdown",
      "metadata": {
        "id": "a399vr5zVp4n"
      },
      "source": [
        "## Import Statements"
      ],
      "id": "a399vr5zVp4n"
    },
    {
      "cell_type": "code",
      "execution_count": 13,
      "metadata": {
        "id": "hKFtvkY1Vsq9"
      },
      "outputs": [],
      "source": [
        "import torch\n",
        "from ignite.engine  import Events, create_supervised_evaluator, create_supervised_trainer\n",
        "from ignite.metrics import Accuracy, Loss, Fbeta\n",
        "from transformers   import BertModel, BertTokenizer\n",
        "from torch import nn\n",
        "from torch.optim    import AdamW\n",
        "from tqdm import tqdm\n",
        "from torch.utils.data import Dataset, DataLoader\n",
        "from transformers.models.bert.modeling_bert import BertEncoder\n",
        "\n",
        "DEVICE = \"cuda\" if torch.cuda.is_available() else 'cpu'"
      ],
      "id": "hKFtvkY1Vsq9"
    },
    {
      "cell_type": "markdown",
      "metadata": {
        "id": "qwI2JhT_P7g6"
      },
      "source": [
        "## Prepare PyTorch Dataset & Data Loader"
      ],
      "id": "qwI2JhT_P7g6"
    },
    {
      "cell_type": "code",
      "execution_count": 14,
      "metadata": {
        "id": "eteIBPEIQPva"
      },
      "outputs": [],
      "source": [
        "class SentimentDataset(Dataset):\n",
        "  def __init__(self,data_frame: pd.DataFrame):\n",
        "    self.data_frame = data_frame\n",
        "  def __len__(self):\n",
        "    return len(self.data_frame)\n",
        "  def __getitem__(self,idx):\n",
        "    item = self.data_frame.iloc[idx]\n",
        "    return item.comment, item.rate\n"
      ],
      "id": "eteIBPEIQPva"
    },
    {
      "cell_type": "code",
      "execution_count": 15,
      "metadata": {
        "id": "8NG5EEcYELKN"
      },
      "outputs": [],
      "source": [
        "train_ds = SentimentDataset(train_df)\n",
        "eval_ds = SentimentDataset(eval_df)"
      ],
      "id": "8NG5EEcYELKN"
    },
    {
      "cell_type": "code",
      "execution_count": 30,
      "metadata": {
        "id": "kwZi-lWIHiTE"
      },
      "outputs": [],
      "source": [
        "tokenizer = BertTokenizer.from_pretrained('HooshvareLab/bert-fa-zwnj-base')\n",
        "def tokenize_and_encode_collate(input):\n",
        "  # `LongTensor` here matters. Otherwise it will raise error  in CUDA mode.\n",
        "  targets = torch.LongTensor([sample[1] for sample in input])\n",
        "  comments = tokenizer.batch_encode_plus([sample[0] for sample in input],\n",
        "                                         return_tensors='pt', padding=True, truncation=True)\n",
        "  return comments, targets"
      ],
      "id": "kwZi-lWIHiTE"
    },
    {
      "cell_type": "code",
      "execution_count": 31,
      "metadata": {
        "id": "daPz94_-HknA"
      },
      "outputs": [],
      "source": [
        "train_loader = DataLoader(train_ds, batch_size=1, shuffle=True,\n",
        "                          collate_fn=tokenize_and_encode_collate)\n",
        "eval_loader  = DataLoader(eval_ds, batch_size=16, shuffle=False,\n",
        "                          collate_fn=tokenize_and_encode_collate)"
      ],
      "id": "daPz94_-HknA"
    },
    {
      "cell_type": "markdown",
      "metadata": {
        "id": "ZQfyGGN0US6t"
      },
      "source": [
        "## Define Model"
      ],
      "id": "ZQfyGGN0US6t"
    },
    {
      "cell_type": "code",
      "execution_count": 57,
      "metadata": {
        "id": "dafNeZjmUVgo"
      },
      "outputs": [],
      "source": [
        "class SentimentClassifier(nn.Module):\n",
        "  def __init__(self):\n",
        "    super(SentimentClassifier,self).__init__()\n",
        "    self.bert = BertModel.from_pretrained('HooshvareLab/bert-fa-zwnj-base',\n",
        "                                          output_attentions=False)\n",
        "    self.cls = nn.ModuleList([nn.Linear(768,70), nn.ReLU(),\n",
        "                              nn.Linear(70, 20), nn.ReLU(), nn.Linear(20,2)])\n",
        "  def forward(self, input: Dict[str,torch.Tensor]) -> torch.Tensor:\n",
        "    embedding = self.bert(**input).pooler_output\n",
        "    immediate = embedding\n",
        "    for layer in self.cls:\n",
        "      immediate = layer(immediate)\n",
        "    return immediate"
      ],
      "id": "dafNeZjmUVgo"
    },
    {
      "cell_type": "code",
      "execution_count": 58,
      "metadata": {
        "colab": {
          "base_uri": "https://localhost:8080/"
        },
        "id": "dW8K7Ohub1Uv",
        "outputId": "6e6830dd-ec73-4bd7-add6-16e41f9c7e99"
      },
      "outputs": [
        {
          "output_type": "stream",
          "name": "stderr",
          "text": [
            "Some weights of the model checkpoint at HooshvareLab/bert-fa-zwnj-base were not used when initializing BertModel: ['cls.predictions.bias', 'cls.predictions.transform.dense.weight', 'cls.predictions.decoder.weight', 'cls.predictions.transform.dense.bias', 'cls.predictions.transform.LayerNorm.weight', 'cls.predictions.decoder.bias', 'cls.predictions.transform.LayerNorm.bias']\n",
            "- This IS expected if you are initializing BertModel from the checkpoint of a model trained on another task or with another architecture (e.g. initializing a BertForSequenceClassification model from a BertForPreTraining model).\n",
            "- This IS NOT expected if you are initializing BertModel from the checkpoint of a model that you expect to be exactly identical (initializing a BertForSequenceClassification model from a BertForSequenceClassification model).\n",
            "Some weights of BertModel were not initialized from the model checkpoint at HooshvareLab/bert-fa-zwnj-base and are newly initialized: ['bert.pooler.dense.bias', 'bert.pooler.dense.weight']\n",
            "You should probably TRAIN this model on a down-stream task to be able to use it for predictions and inference.\n"
          ]
        }
      ],
      "source": [
        "model = SentimentClassifier().to(DEVICE)"
      ],
      "id": "dW8K7Ohub1Uv"
    },
    {
      "cell_type": "markdown",
      "metadata": {
        "id": "s-4tMvQRcGcZ"
      },
      "source": [
        "## Optimization Setup"
      ],
      "id": "s-4tMvQRcGcZ"
    },
    {
      "cell_type": "code",
      "execution_count": 59,
      "metadata": {
        "id": "JKfrdqpYcTGn"
      },
      "outputs": [],
      "source": [
        "optimizer_parameter_groups = [\n",
        "  {'params': list(model.bert.parameters()),'lr': 1e-5},\n",
        "  {'params': list(model.cls.parameters()), 'lr': 1e-3}\n",
        "]\n",
        "optimizer = torch.optim.AdamW(optimizer_parameter_groups)\n",
        "criterion = nn.CrossEntropyLoss()"
      ],
      "id": "JKfrdqpYcTGn"
    },
    {
      "cell_type": "markdown",
      "metadata": {
        "id": "brMuLnlT0iHi"
      },
      "source": [
        "## Train & Evaluation"
      ],
      "id": "brMuLnlT0iHi"
    },
    {
      "cell_type": "code",
      "execution_count": 60,
      "metadata": {
        "id": "zWOD1uYg0BJc"
      },
      "outputs": [],
      "source": [
        "trainer = create_supervised_trainer(model, optimizer, criterion, device=DEVICE)\n",
        "\n",
        "val_metrics = {\"accuracy\": Accuracy(), \"BCE\": Loss(criterion), 'F1': Fbeta(1)}\n",
        "evaluator = create_supervised_evaluator(model, metrics=val_metrics, device=DEVICE)"
      ],
      "id": "zWOD1uYg0BJc"
    },
    {
      "cell_type": "code",
      "execution_count": 61,
      "metadata": {
        "id": "JCT72kQeAkuP"
      },
      "outputs": [],
      "source": [
        "@trainer.on(Events.EPOCH_COMPLETED)\n",
        "def log_validation_results(engine):\n",
        "  evaluator.run(eval_loader)\n",
        "  metrics = evaluator.state.metrics\n",
        "  avg_accuracy = metrics[\"accuracy\"]\n",
        "  avg_bce = metrics[\"BCE\"]\n",
        "  avg_f1 = metrics['F1']\n",
        "  tqdm.write(\n",
        "      f\"Validation Results - Epoch: {engine.state.epoch} Avg accuracy: {avg_accuracy:.2f} Avg loss: {avg_bce:.2f} Avg F1: {avg_f1:.2f}\"\n",
        "  )"
      ],
      "id": "JCT72kQeAkuP"
    },
    {
      "cell_type": "code",
      "execution_count": 62,
      "metadata": {
        "colab": {
          "base_uri": "https://localhost:8080/"
        },
        "id": "9JA-oV-iB0v4",
        "outputId": "c7188ebd-d943-48f5-91c0-4dda19fa4693"
      },
      "outputs": [
        {
          "output_type": "stream",
          "name": "stderr",
          "text": [
            "\n",
            "\u001b[A\n",
            "ITERATION - loss: 0.00:   0%|          | 0/1004 [40:51<?, ?it/s]\u001b[A"
          ]
        },
        {
          "output_type": "stream",
          "name": "stdout",
          "text": [
            "Validation Results - Epoch: 1 Avg accuracy: 0.71 Avg loss: 0.64 Avg F1: 0.70\n"
          ]
        },
        {
          "output_type": "stream",
          "name": "stderr",
          "text": [
            "\n",
            "\u001b[A\n",
            "ITERATION - loss: 0.00:   0%|          | 0/1004 [41:50<?, ?it/s]\u001b[A"
          ]
        },
        {
          "output_type": "stream",
          "name": "stdout",
          "text": [
            "Validation Results - Epoch: 2 Avg accuracy: 0.67 Avg loss: 1.03 Avg F1: 0.67\n"
          ]
        },
        {
          "output_type": "stream",
          "name": "stderr",
          "text": [
            "\n",
            "\u001b[A\n",
            "ITERATION - loss: 0.00:   0%|          | 0/1004 [42:49<?, ?it/s]\u001b[A"
          ]
        },
        {
          "output_type": "stream",
          "name": "stdout",
          "text": [
            "Validation Results - Epoch: 3 Avg accuracy: 0.64 Avg loss: 0.67 Avg F1: 0.63\n"
          ]
        },
        {
          "output_type": "stream",
          "name": "stderr",
          "text": [
            "\n",
            "\u001b[A\n",
            "ITERATION - loss: 0.00:   0%|          | 0/1004 [43:47<?, ?it/s]\u001b[A"
          ]
        },
        {
          "output_type": "stream",
          "name": "stdout",
          "text": [
            "Validation Results - Epoch: 4 Avg accuracy: 0.62 Avg loss: 0.95 Avg F1: 0.62\n"
          ]
        },
        {
          "output_type": "stream",
          "name": "stderr",
          "text": [
            "\n",
            "\u001b[A\n",
            "ITERATION - loss: 0.00:   0%|          | 0/1004 [44:46<?, ?it/s]\u001b[A"
          ]
        },
        {
          "output_type": "stream",
          "name": "stdout",
          "text": [
            "Validation Results - Epoch: 5 Avg accuracy: 0.68 Avg loss: 2.24 Avg F1: 0.67\n"
          ]
        },
        {
          "output_type": "stream",
          "name": "stderr",
          "text": [
            "\n",
            "\u001b[A\n",
            "ITERATION - loss: 0.00:   0%|          | 0/1004 [45:45<?, ?it/s]\u001b[A"
          ]
        },
        {
          "output_type": "stream",
          "name": "stdout",
          "text": [
            "Validation Results - Epoch: 6 Avg accuracy: 0.68 Avg loss: 3.24 Avg F1: 0.67\n"
          ]
        },
        {
          "output_type": "stream",
          "name": "stderr",
          "text": [
            "\n",
            "\u001b[A\n",
            "ITERATION - loss: 0.00:   0%|          | 0/1004 [46:44<?, ?it/s]\u001b[A"
          ]
        },
        {
          "output_type": "stream",
          "name": "stdout",
          "text": [
            "Validation Results - Epoch: 7 Avg accuracy: 0.65 Avg loss: 3.63 Avg F1: 0.64\n"
          ]
        },
        {
          "output_type": "stream",
          "name": "stderr",
          "text": [
            "\n",
            "\u001b[A\n",
            "ITERATION - loss: 0.00:   0%|          | 0/1004 [47:43<?, ?it/s]\u001b[A"
          ]
        },
        {
          "output_type": "stream",
          "name": "stdout",
          "text": [
            "Validation Results - Epoch: 8 Avg accuracy: 0.61 Avg loss: 3.77 Avg F1: 0.60\n"
          ]
        },
        {
          "output_type": "stream",
          "name": "stderr",
          "text": [
            "\n",
            "\u001b[A\n",
            "ITERATION - loss: 0.00:   0%|          | 0/1004 [48:42<?, ?it/s]\u001b[A"
          ]
        },
        {
          "output_type": "stream",
          "name": "stdout",
          "text": [
            "Validation Results - Epoch: 9 Avg accuracy: 0.67 Avg loss: 1.51 Avg F1: 0.67\n"
          ]
        },
        {
          "output_type": "stream",
          "name": "stderr",
          "text": [
            "\n",
            "\u001b[A\n",
            "ITERATION - loss: 0.00:   0%|          | 0/1004 [49:41<?, ?it/s]\u001b[A"
          ]
        },
        {
          "output_type": "stream",
          "name": "stdout",
          "text": [
            "Validation Results - Epoch: 10 Avg accuracy: 0.67 Avg loss: 0.82 Avg F1: 0.67\n"
          ]
        },
        {
          "output_type": "stream",
          "name": "stderr",
          "text": [
            "\n",
            "\u001b[A\n",
            "ITERATION - loss: 0.00:   0%|          | 0/1004 [50:40<?, ?it/s]\u001b[A"
          ]
        },
        {
          "output_type": "stream",
          "name": "stdout",
          "text": [
            "Validation Results - Epoch: 11 Avg accuracy: 0.63 Avg loss: 3.48 Avg F1: 0.59\n"
          ]
        },
        {
          "output_type": "stream",
          "name": "stderr",
          "text": [
            "\n",
            "\u001b[A\n",
            "ITERATION - loss: 0.00:   0%|          | 0/1004 [51:40<?, ?it/s]\u001b[A"
          ]
        },
        {
          "output_type": "stream",
          "name": "stdout",
          "text": [
            "Validation Results - Epoch: 12 Avg accuracy: 0.65 Avg loss: 2.49 Avg F1: 0.63\n"
          ]
        },
        {
          "output_type": "stream",
          "name": "stderr",
          "text": [
            "\n",
            "\u001b[A\n",
            "ITERATION - loss: 0.00:   0%|          | 0/1004 [52:39<?, ?it/s]\u001b[A"
          ]
        },
        {
          "output_type": "stream",
          "name": "stdout",
          "text": [
            "Validation Results - Epoch: 13 Avg accuracy: 0.66 Avg loss: 2.71 Avg F1: 0.65\n"
          ]
        },
        {
          "output_type": "stream",
          "name": "stderr",
          "text": [
            "\n",
            "\u001b[A\n",
            "ITERATION - loss: 0.00:   0%|          | 0/1004 [53:38<?, ?it/s]\u001b[A"
          ]
        },
        {
          "output_type": "stream",
          "name": "stdout",
          "text": [
            "Validation Results - Epoch: 14 Avg accuracy: 0.65 Avg loss: 3.44 Avg F1: 0.63\n"
          ]
        },
        {
          "output_type": "stream",
          "name": "stderr",
          "text": [
            "\n",
            "\u001b[A\n",
            "ITERATION - loss: 0.00:   0%|          | 0/1004 [54:37<?, ?it/s]\u001b[A"
          ]
        },
        {
          "output_type": "stream",
          "name": "stdout",
          "text": [
            "Validation Results - Epoch: 15 Avg accuracy: 0.65 Avg loss: 3.51 Avg F1: 0.63\n"
          ]
        },
        {
          "output_type": "stream",
          "name": "stderr",
          "text": [
            "\n",
            "\u001b[A\n",
            "ITERATION - loss: 0.00:   0%|          | 0/1004 [55:36<?, ?it/s]\u001b[A"
          ]
        },
        {
          "output_type": "stream",
          "name": "stdout",
          "text": [
            "Validation Results - Epoch: 16 Avg accuracy: 0.65 Avg loss: 3.84 Avg F1: 0.63\n"
          ]
        },
        {
          "output_type": "stream",
          "name": "stderr",
          "text": [
            "\n",
            "\u001b[A\n",
            "ITERATION - loss: 0.00:   0%|          | 0/1004 [56:34<?, ?it/s]\u001b[A"
          ]
        },
        {
          "output_type": "stream",
          "name": "stdout",
          "text": [
            "Validation Results - Epoch: 17 Avg accuracy: 0.65 Avg loss: 3.91 Avg F1: 0.62\n"
          ]
        },
        {
          "output_type": "stream",
          "name": "stderr",
          "text": [
            "\n",
            "\u001b[A\n",
            "ITERATION - loss: 0.00:   0%|          | 0/1004 [57:34<?, ?it/s]\u001b[A"
          ]
        },
        {
          "output_type": "stream",
          "name": "stdout",
          "text": [
            "Validation Results - Epoch: 18 Avg accuracy: 0.61 Avg loss: 1.69 Avg F1: 0.57\n"
          ]
        },
        {
          "output_type": "stream",
          "name": "stderr",
          "text": [
            "\n",
            "\u001b[A\n",
            "ITERATION - loss: 0.00:   0%|          | 0/1004 [58:32<?, ?it/s]\u001b[A"
          ]
        },
        {
          "output_type": "stream",
          "name": "stdout",
          "text": [
            "Validation Results - Epoch: 19 Avg accuracy: 0.64 Avg loss: 3.14 Avg F1: 0.61\n"
          ]
        },
        {
          "output_type": "stream",
          "name": "stderr",
          "text": [
            "\n",
            "\u001b[A\n",
            "ITERATION - loss: 0.00:   0%|          | 0/1004 [59:31<?, ?it/s]\u001b[A"
          ]
        },
        {
          "output_type": "stream",
          "name": "stdout",
          "text": [
            "Validation Results - Epoch: 20 Avg accuracy: 0.63 Avg loss: 2.87 Avg F1: 0.61\n"
          ]
        },
        {
          "output_type": "execute_result",
          "data": {
            "text/plain": [
              "State:\n",
              "\titeration: 20080\n",
              "\tepoch: 20\n",
              "\tepoch_length: 1004\n",
              "\tmax_epochs: 20\n",
              "\toutput: 2.145764938177308e-06\n",
              "\tbatch: <class 'tuple'>\n",
              "\tmetrics: <class 'dict'>\n",
              "\tdataloader: <class 'torch.utils.data.dataloader.DataLoader'>\n",
              "\tseed: <class 'NoneType'>\n",
              "\ttimes: <class 'dict'>"
            ]
          },
          "metadata": {},
          "execution_count": 62
        }
      ],
      "source": [
        "trainer.run(train_loader, max_epochs=20)"
      ],
      "id": "9JA-oV-iB0v4"
    },
    {
      "cell_type": "code",
      "execution_count": 63,
      "metadata": {
        "id": "Kn2i32ErJlCG"
      },
      "outputs": [],
      "source": [
        "state = evaluator.run(eval_loader)"
      ],
      "id": "Kn2i32ErJlCG"
    },
    {
      "cell_type": "code",
      "source": [
        "state.metrics"
      ],
      "metadata": {
        "colab": {
          "base_uri": "https://localhost:8080/"
        },
        "id": "rxAi7UmEd7o_",
        "outputId": "b2ff9945-62fd-45b6-a469-bda0c66876ef"
      },
      "id": "rxAi7UmEd7o_",
      "execution_count": 64,
      "outputs": [
        {
          "output_type": "execute_result",
          "data": {
            "text/plain": [
              "{'BCE': 2.8700107740319294,\n",
              " 'F1': 0.6113242808008106,\n",
              " 'accuracy': 0.6304347826086957}"
            ]
          },
          "metadata": {},
          "execution_count": 64
        }
      ]
    },
    {
      "cell_type": "code",
      "source": [
        "state = trainer.run(train_loader)"
      ],
      "metadata": {
        "colab": {
          "base_uri": "https://localhost:8080/"
        },
        "id": "isXapgwyeFIv",
        "outputId": "253b829e-8cb8-4cc4-ddc3-cb351b5fef61"
      },
      "id": "isXapgwyeFIv",
      "execution_count": 65,
      "outputs": [
        {
          "output_type": "stream",
          "name": "stderr",
          "text": [
            "\n",
            "\u001b[A\n",
            "ITERATION - loss: 0.00:   0%|          | 0/1004 [1:00:31<?, ?it/s]\u001b[A"
          ]
        },
        {
          "output_type": "stream",
          "name": "stdout",
          "text": [
            "Validation Results - Epoch: 1 Avg accuracy: 0.64 Avg loss: 2.95 Avg F1: 0.63\n"
          ]
        }
      ]
    },
    {
      "cell_type": "code",
      "source": [
        "state.metrics"
      ],
      "metadata": {
        "colab": {
          "base_uri": "https://localhost:8080/"
        },
        "id": "iQOibND-eNh-",
        "outputId": "1a3af44d-6546-448d-daf9-0068e18a7f26"
      },
      "id": "iQOibND-eNh-",
      "execution_count": 66,
      "outputs": [
        {
          "output_type": "execute_result",
          "data": {
            "text/plain": [
              "{}"
            ]
          },
          "metadata": {},
          "execution_count": 66
        }
      ]
    },
    {
      "cell_type": "markdown",
      "metadata": {
        "id": "HPRUi-654_Y5"
      },
      "source": [
        "# Final Evaluation"
      ],
      "id": "HPRUi-654_Y5"
    },
    {
      "cell_type": "markdown",
      "metadata": {
        "id": "rjx-OuSM7XJN"
      },
      "source": [
        "## Import Statements"
      ],
      "id": "rjx-OuSM7XJN"
    },
    {
      "cell_type": "code",
      "execution_count": 67,
      "metadata": {
        "id": "UFVfUBhJ7Wxk"
      },
      "outputs": [],
      "source": [
        "from sklearn.metrics import ConfusionMatrixDisplay, f1_score, accuracy_score\n",
        "from ignite.metrics import ConfusionMatrix"
      ],
      "id": "UFVfUBhJ7Wxk"
    },
    {
      "cell_type": "markdown",
      "metadata": {
        "id": "sBLJ2GYY5zmo"
      },
      "source": [
        "## Test data preparation"
      ],
      "id": "sBLJ2GYY5zmo"
    },
    {
      "cell_type": "markdown",
      "metadata": {
        "id": "PaQQcwqD3S48"
      },
      "source": [
        "<div dir='rtl'>\n",
        "ابتدا فایل تست را دانلود می‌کنیم و آن را تبدیل به باینری می‌کنیم\n",
        "</div>"
      ],
      "id": "PaQQcwqD3S48"
    },
    {
      "cell_type": "code",
      "execution_count": null,
      "metadata": {
        "colab": {
          "base_uri": "https://localhost:8080/"
        },
        "id": "zCO3053V5Ceo",
        "outputId": "f4ec7e34-9c5f-4c94-883c-37e607aaba48"
      },
      "outputs": [
        {
          "name": "stdout",
          "output_type": "stream",
          "text": [
            "Downloading...\n",
            "From: https://drive.google.com/uc?id=1nXjaHjsGDbaPyxQX5-y7D-hfgl6tcomC&authuser=0&export=download\n",
            "To: /content/test.csv\n",
            "100% 37.6k/37.6k [00:00<00:00, 62.5MB/s]\n"
          ]
        }
      ],
      "source": [
        "!gdown 'https://drive.google.com/uc?id=1nXjaHjsGDbaPyxQX5-y7D-hfgl6tcomC&authuser=0&export=download'"
      ],
      "id": "zCO3053V5Ceo"
    },
    {
      "cell_type": "code",
      "execution_count": null,
      "metadata": {
        "id": "izKEqKpr5Ieh"
      },
      "outputs": [],
      "source": [
        "test_df = pd.read_csv('test.csv')"
      ],
      "id": "izKEqKpr5Ieh"
    },
    {
      "cell_type": "code",
      "execution_count": null,
      "metadata": {
        "colab": {
          "base_uri": "https://localhost:8080/",
          "height": 206
        },
        "id": "jo3pMCAV5NQg",
        "outputId": "f8b7a3e3-301f-4103-9626-246dabfc095d"
      },
      "outputs": [
        {
          "data": {
            "text/html": [
              "\n",
              "  <div id=\"df-f43a3e13-4ca4-44ad-b8ef-97442fded770\">\n",
              "    <div class=\"colab-df-container\">\n",
              "      <div>\n",
              "<style scoped>\n",
              "    .dataframe tbody tr th:only-of-type {\n",
              "        vertical-align: middle;\n",
              "    }\n",
              "\n",
              "    .dataframe tbody tr th {\n",
              "        vertical-align: top;\n",
              "    }\n",
              "\n",
              "    .dataframe thead th {\n",
              "        text-align: right;\n",
              "    }\n",
              "</style>\n",
              "<table border=\"1\" class=\"dataframe\">\n",
              "  <thead>\n",
              "    <tr style=\"text-align: right;\">\n",
              "      <th></th>\n",
              "      <th>Unnamed: 0</th>\n",
              "      <th>comment</th>\n",
              "      <th>rate</th>\n",
              "    </tr>\n",
              "  </thead>\n",
              "  <tbody>\n",
              "    <tr>\n",
              "      <th>0</th>\n",
              "      <td>1980</td>\n",
              "      <td>IXY فقط زبان ژاپني انگليسي داره</td>\n",
              "      <td>0.0</td>\n",
              "    </tr>\n",
              "    <tr>\n",
              "      <th>1</th>\n",
              "      <td>55810</td>\n",
              "      <td>به نظر من کسی بدون شنیدن یه حرف نمیتونی در اون...</td>\n",
              "      <td>1.0</td>\n",
              "    </tr>\n",
              "    <tr>\n",
              "      <th>2</th>\n",
              "      <td>29718</td>\n",
              "      <td>تو وصف این داستان زیبا مثل های شیوای فارسی زیا...</td>\n",
              "      <td>1.0</td>\n",
              "    </tr>\n",
              "    <tr>\n",
              "      <th>3</th>\n",
              "      <td>48815</td>\n",
              "      <td>بسیارعالی برای خشکی پوست</td>\n",
              "      <td>1.0</td>\n",
              "    </tr>\n",
              "    <tr>\n",
              "      <th>4</th>\n",
              "      <td>6133</td>\n",
              "      <td>البته متاسفانه ابن قابلیت در مورد تمامی برنامه...</td>\n",
              "      <td>-0.5</td>\n",
              "    </tr>\n",
              "  </tbody>\n",
              "</table>\n",
              "</div>\n",
              "      <button class=\"colab-df-convert\" onclick=\"convertToInteractive('df-f43a3e13-4ca4-44ad-b8ef-97442fded770')\"\n",
              "              title=\"Convert this dataframe to an interactive table.\"\n",
              "              style=\"display:none;\">\n",
              "        \n",
              "  <svg xmlns=\"http://www.w3.org/2000/svg\" height=\"24px\"viewBox=\"0 0 24 24\"\n",
              "       width=\"24px\">\n",
              "    <path d=\"M0 0h24v24H0V0z\" fill=\"none\"/>\n",
              "    <path d=\"M18.56 5.44l.94 2.06.94-2.06 2.06-.94-2.06-.94-.94-2.06-.94 2.06-2.06.94zm-11 1L8.5 8.5l.94-2.06 2.06-.94-2.06-.94L8.5 2.5l-.94 2.06-2.06.94zm10 10l.94 2.06.94-2.06 2.06-.94-2.06-.94-.94-2.06-.94 2.06-2.06.94z\"/><path d=\"M17.41 7.96l-1.37-1.37c-.4-.4-.92-.59-1.43-.59-.52 0-1.04.2-1.43.59L10.3 9.45l-7.72 7.72c-.78.78-.78 2.05 0 2.83L4 21.41c.39.39.9.59 1.41.59.51 0 1.02-.2 1.41-.59l7.78-7.78 2.81-2.81c.8-.78.8-2.07 0-2.86zM5.41 20L4 18.59l7.72-7.72 1.47 1.35L5.41 20z\"/>\n",
              "  </svg>\n",
              "      </button>\n",
              "      \n",
              "  <style>\n",
              "    .colab-df-container {\n",
              "      display:flex;\n",
              "      flex-wrap:wrap;\n",
              "      gap: 12px;\n",
              "    }\n",
              "\n",
              "    .colab-df-convert {\n",
              "      background-color: #E8F0FE;\n",
              "      border: none;\n",
              "      border-radius: 50%;\n",
              "      cursor: pointer;\n",
              "      display: none;\n",
              "      fill: #1967D2;\n",
              "      height: 32px;\n",
              "      padding: 0 0 0 0;\n",
              "      width: 32px;\n",
              "    }\n",
              "\n",
              "    .colab-df-convert:hover {\n",
              "      background-color: #E2EBFA;\n",
              "      box-shadow: 0px 1px 2px rgba(60, 64, 67, 0.3), 0px 1px 3px 1px rgba(60, 64, 67, 0.15);\n",
              "      fill: #174EA6;\n",
              "    }\n",
              "\n",
              "    [theme=dark] .colab-df-convert {\n",
              "      background-color: #3B4455;\n",
              "      fill: #D2E3FC;\n",
              "    }\n",
              "\n",
              "    [theme=dark] .colab-df-convert:hover {\n",
              "      background-color: #434B5C;\n",
              "      box-shadow: 0px 1px 3px 1px rgba(0, 0, 0, 0.15);\n",
              "      filter: drop-shadow(0px 1px 2px rgba(0, 0, 0, 0.3));\n",
              "      fill: #FFFFFF;\n",
              "    }\n",
              "  </style>\n",
              "\n",
              "      <script>\n",
              "        const buttonEl =\n",
              "          document.querySelector('#df-f43a3e13-4ca4-44ad-b8ef-97442fded770 button.colab-df-convert');\n",
              "        buttonEl.style.display =\n",
              "          google.colab.kernel.accessAllowed ? 'block' : 'none';\n",
              "\n",
              "        async function convertToInteractive(key) {\n",
              "          const element = document.querySelector('#df-f43a3e13-4ca4-44ad-b8ef-97442fded770');\n",
              "          const dataTable =\n",
              "            await google.colab.kernel.invokeFunction('convertToInteractive',\n",
              "                                                     [key], {});\n",
              "          if (!dataTable) return;\n",
              "\n",
              "          const docLinkHtml = 'Like what you see? Visit the ' +\n",
              "            '<a target=\"_blank\" href=https://colab.research.google.com/notebooks/data_table.ipynb>data table notebook</a>'\n",
              "            + ' to learn more about interactive tables.';\n",
              "          element.innerHTML = '';\n",
              "          dataTable['output_type'] = 'display_data';\n",
              "          await google.colab.output.renderOutput(dataTable, element);\n",
              "          const docLink = document.createElement('div');\n",
              "          docLink.innerHTML = docLinkHtml;\n",
              "          element.appendChild(docLink);\n",
              "        }\n",
              "      </script>\n",
              "    </div>\n",
              "  </div>\n",
              "  "
            ],
            "text/plain": [
              "   Unnamed: 0                                            comment  rate\n",
              "0        1980                    IXY فقط زبان ژاپني انگليسي داره   0.0\n",
              "1       55810  به نظر من کسی بدون شنیدن یه حرف نمیتونی در اون...   1.0\n",
              "2       29718  تو وصف این داستان زیبا مثل های شیوای فارسی زیا...   1.0\n",
              "3       48815                           بسیارعالی برای خشکی پوست   1.0\n",
              "4        6133  البته متاسفانه ابن قابلیت در مورد تمامی برنامه...  -0.5"
            ]
          },
          "execution_count": 30,
          "metadata": {},
          "output_type": "execute_result"
        }
      ],
      "source": [
        "test_df.head()"
      ],
      "id": "jo3pMCAV5NQg"
    },
    {
      "cell_type": "code",
      "execution_count": null,
      "metadata": {
        "id": "8vbdprTa5QeK"
      },
      "outputs": [],
      "source": [
        "test_df = test_df.drop(test_df.columns[0], axis=1)"
      ],
      "id": "8vbdprTa5QeK"
    },
    {
      "cell_type": "code",
      "execution_count": null,
      "metadata": {
        "colab": {
          "base_uri": "https://localhost:8080/"
        },
        "id": "lO8ov9gm5jIR",
        "outputId": "b84155af-d1ff-4f7c-e26e-20e6ec44e9a2"
      },
      "outputs": [
        {
          "name": "stdout",
          "output_type": "stream",
          "text": [
            "22 out of 170 test comments have rate zero.\n"
          ]
        }
      ],
      "source": [
        "print(f\"{len(test_df[test_df.rate == 0])} out of {len(test_df)} test comments have rate zero.\")"
      ],
      "id": "lO8ov9gm5jIR"
    },
    {
      "cell_type": "code",
      "execution_count": null,
      "metadata": {
        "id": "CD04rRQW5jIb"
      },
      "outputs": [],
      "source": [
        "test_df = test_df[test_df.rate != 0]"
      ],
      "id": "CD04rRQW5jIb"
    },
    {
      "cell_type": "code",
      "execution_count": null,
      "metadata": {
        "id": "lxOENsPC5jIb"
      },
      "outputs": [],
      "source": [
        "test_df['rate'] = test_df.rate.apply(lambda r: 1 if r > 0 else 0)"
      ],
      "id": "lxOENsPC5jIb"
    },
    {
      "cell_type": "markdown",
      "metadata": {
        "id": "g3CVOJaf58uo"
      },
      "source": [
        "## Normalize Test data"
      ],
      "id": "g3CVOJaf58uo"
    },
    {
      "cell_type": "markdown",
      "metadata": {
        "id": "TmhGbysy3gX3"
      },
      "source": [
        "<div dir='rtl'>\n",
        "سپس داده‌های تست را نرمال‌سازی می‌کنیم\n",
        "</div>"
      ],
      "id": "TmhGbysy3gX3"
    },
    {
      "cell_type": "code",
      "execution_count": null,
      "metadata": {
        "id": "pIrDuREZ5-9r"
      },
      "outputs": [],
      "source": [
        "params = {'to_ascii':False, 'no_urls':True,    'no_phone_numbers':True, 'no_line_breaks':True,\n",
        "          'no_emails':True, 'no_numbers':True, 'no_digits':True,        'no_currency_symbols':True}\n",
        "\n",
        "test_df['comment'] = test_df.comment.apply(lambda c: cleantext.clean(c,**params))"
      ],
      "id": "pIrDuREZ5-9r"
    },
    {
      "cell_type": "markdown",
      "metadata": {
        "id": "mCSUGEkS6P_Q"
      },
      "source": [
        "## Evaluate"
      ],
      "id": "mCSUGEkS6P_Q"
    },
    {
      "cell_type": "markdown",
      "metadata": {
        "id": "ttFa35ey3nL3"
      },
      "source": [
        "<div dir='rtl'>\n",
        "حال روی هر روش دسته‌بندی ارزیابی را انجام می‌دهیم و Confusion Matrix را نمایش می‌دهیم</div>"
      ],
      "id": "ttFa35ey3nL3"
    },
    {
      "cell_type": "markdown",
      "metadata": {
        "id": "IagGFAWL6L1T"
      },
      "source": [
        "### Method 1"
      ],
      "id": "IagGFAWL6L1T"
    },
    {
      "cell_type": "code",
      "execution_count": null,
      "metadata": {
        "id": "0rcfp-8Q6F8r"
      },
      "outputs": [],
      "source": [
        "predictions = pipeline.predict(test_df.comment)"
      ],
      "id": "0rcfp-8Q6F8r"
    },
    {
      "cell_type": "code",
      "execution_count": null,
      "metadata": {
        "colab": {
          "base_uri": "https://localhost:8080/"
        },
        "id": "UHVKar7X9nhM",
        "outputId": "ecec71f1-4358-4fac-f979-cc034161984a"
      },
      "outputs": [
        {
          "name": "stdout",
          "output_type": "stream",
          "text": [
            "Accuracy : 0.7094594594594594\n",
            "F1 score : 0.7860696517412935\n"
          ]
        }
      ],
      "source": [
        "print(f'Accuracy : {accuracy_score(test_df.rate, predictions)}')\n",
        "print(f'F1 score : {f1_score(test_df.rate, predictions)}')"
      ],
      "id": "UHVKar7X9nhM"
    },
    {
      "cell_type": "code",
      "execution_count": null,
      "metadata": {
        "colab": {
          "base_uri": "https://localhost:8080/",
          "height": 297
        },
        "id": "eLlvk5_u7Tzz",
        "outputId": "858631c7-7535-4628-c593-6be06bf87345"
      },
      "outputs": [
        {
          "data": {
            "text/plain": [
              "<sklearn.metrics._plot.confusion_matrix.ConfusionMatrixDisplay at 0x7fb2b3d5da10>"
            ]
          },
          "execution_count": 47,
          "metadata": {},
          "output_type": "execute_result"
        },
        {
          "data": {
            "image/png": "[encoded data removed]",
            "text/plain": [
              "<Figure size 432x288 with 2 Axes>"
            ]
          },
          "metadata": {
            "needs_background": "light"
          },
          "output_type": "display_data"
        }
      ],
      "source": [
        "ConfusionMatrixDisplay.from_predictions(test_df.rate, predictions)"
      ],
      "id": "eLlvk5_u7Tzz"
    },
    {
      "cell_type": "markdown",
      "metadata": {
        "id": "NWOeFBtm98XH"
      },
      "source": [
        "### Method 2"
      ],
      "id": "NWOeFBtm98XH"
    },
    {
      "cell_type": "code",
      "execution_count": null,
      "metadata": {
        "id": "PLbVmdzr9-zG"
      },
      "outputs": [],
      "source": [
        "test_ds = tf.data.Dataset.from_tensor_slices((test_df['comment'], test_df['rate'])).shuffle(buffer_size=len(test_df)).batch(BATCH_SIZE).prefetch(buffer_size=tf.data.AUTOTUNE)"
      ],
      "id": "PLbVmdzr9-zG"
    },
    {
      "cell_type": "code",
      "execution_count": null,
      "metadata": {
        "id": "uSKeLvV6yzs4",
        "outputId": "735dd083-99c2-42a0-beb9-fb4f05f268c9"
      },
      "outputs": [
        {
          "name": "stdout",
          "output_type": "stream",
          "text": [
            "8/8 [==============================] - 1s 54ms/step - loss: 1.2070 - accuracy: 0.7297 - f1_m: 0.7892\n"
          ]
        },
        {
          "data": {
            "text/plain": [
              "[1.2070480585098267, 0.7297297120094299, 0.7891807556152344]"
            ]
          },
          "execution_count": 42,
          "metadata": {},
          "output_type": "execute_result"
        }
      ],
      "source": [
        "model.evaluate(test_ds)"
      ],
      "id": "uSKeLvV6yzs4"
    },
    {
      "cell_type": "code",
      "execution_count": null,
      "metadata": {
        "id": "imtTtE6spmQx"
      },
      "outputs": [],
      "source": [
        "preds = model.predict(test_df.comment)"
      ],
      "id": "imtTtE6spmQx"
    },
    {
      "cell_type": "code",
      "execution_count": null,
      "metadata": {
        "id": "IDfeIDBppmQz",
        "outputId": "71b7f41e-39ff-4eb9-a299-f838fb01f4f2"
      },
      "outputs": [
        {
          "data": {
            "text/plain": [
              "<sklearn.metrics._plot.confusion_matrix.ConfusionMatrixDisplay at 0x7fe628cbca60>"
            ]
          },
          "execution_count": 54,
          "metadata": {},
          "output_type": "execute_result"
        },
        {
          "data": {
            "image/png": "[encoded data removed]",
            "text/plain": [
              "<Figure size 432x288 with 2 Axes>"
            ]
          },
          "metadata": {
            "needs_background": "light"
          },
          "output_type": "display_data"
        }
      ],
      "source": [
        "ConfusionMatrixDisplay.from_predictions(test_df.rate, np.argmax(preds, axis=1))"
      ],
      "id": "IDfeIDBppmQz"
    },
    {
      "cell_type": "markdown",
      "metadata": {
        "id": "r1mwc69g9_L1"
      },
      "source": [
        "### Method 3"
      ],
      "id": "r1mwc69g9_L1"
    },
    {
      "cell_type": "code",
      "execution_count": 68,
      "metadata": {
        "id": "wlIf96Na-E3J",
        "colab": {
          "base_uri": "https://localhost:8080/"
        },
        "outputId": "d6a640cb-12ba-4286-ef45-02af15064ec9"
      },
      "outputs": [
        {
          "output_type": "stream",
          "name": "stdout",
          "text": [
            "{'accuracy': 0.6434782608695652, 'BCE': 2.951250689962636, 'F1': 0.6286231884057967, 'cm': tensor([[0.2217, 0.2783],\n",
            "        [0.0783, 0.4217]])}\n"
          ]
        }
      ],
      "source": [
        "cm = ConfusionMatrix(num_classes=2, average='samples')\n",
        "cm.attach(evaluator, 'cm')\n",
        "state = evaluator.run(eval_loader)\n",
        "print(state.metrics)"
      ],
      "id": "wlIf96Na-E3J"
    }
  ],
  "metadata": {
    "accelerator": "GPU",
    "colab": {
      "name": "sentiment-classification.ipynb",
      "provenance": [],
      "toc_visible": true,
      "include_colab_link": true
    },
    "kernelspec": {
      "display_name": "Python 3",
      "language": "python",
      "name": "python3"
    },
    "language_info": {
      "codemirror_mode": {
        "name": "ipython",
        "version": 3
      },
      "file_extension": ".py",
      "mimetype": "text/x-python",
      "name": "python",
      "nbconvert_exporter": "python",
      "pygments_lexer": "ipython3",
      "version": "3.8.3"
    }
  },
  "nbformat": 4,
  "nbformat_minor": 5
}