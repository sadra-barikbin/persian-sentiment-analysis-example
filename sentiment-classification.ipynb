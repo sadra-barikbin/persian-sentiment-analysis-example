{
 "cells": [
  {
   "cell_type": "code",
   "execution_count": null,
   "id": "naughty-milton",
   "metadata": {},
   "outputs": [],
   "source": [
    "import numpy as np\n",
    "import pandas as pd\n",
    "import torch\n",
    "from sklearn.linear import LogisticRegression\n",
    "from sklearn.svc import SVM\n",
    "from sklearn.feature_extraction.text import TfidfVectorizer"
   ]
  },
  {
   "cell_type": "code",
   "execution_count": null,
   "id": "attached-chocolate",
   "metadata": {},
   "outputs": [],
   "source": [
    "!wget https://drive.google.com/file/d/1HH8QFDcvkKfnj4dWmFQceb3PpNqDD8HQ/view?usp=sharing\n",
    "!wget https://drive.google.com/file/d/1uDOO8RP7Lr9qcRJO8z3d10qm_UggJv4I/view?usp=sharing"
   ]
  },
  {
   "cell_type": "code",
   "execution_count": null,
   "id": "christian-number",
   "metadata": {},
   "outputs": [],
   "source": []
  }
 ],
 "metadata": {
  "kernelspec": {
   "display_name": "Python 3",
   "language": "python",
   "name": "python3"
  },
  "language_info": {
   "codemirror_mode": {
    "name": "ipython",
    "version": 3
   },
   "file_extension": ".py",
   "mimetype": "text/x-python",
   "name": "python",
   "nbconvert_exporter": "python",
   "pygments_lexer": "ipython3",
   "version": "3.6.9"
  }
 },
 "nbformat": 4,
 "nbformat_minor": 5
}
